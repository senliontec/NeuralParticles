{
 "cells": [
  {
   "cell_type": "code",
   "execution_count": 142,
   "metadata": {
    "collapsed": false
   },
   "outputs": [
    {
     "name": "stdout",
     "output_type": "stream",
     "text": [
      "(10144, 5, 5, 4)\n",
      "(10144, 15, 15, 1)\n"
     ]
    }
   ],
   "source": [
    "import sys\n",
    "sys.path.append(\"2D_SPH/scenes/tools\")\n",
    "\n",
    "from dataset import Dataset\n",
    "\n",
    "src_patches_path = \"2D_data/patches/lowres/sph_2D_v02-01_d%03d_var%02d_%03d\"\n",
    "ref_patches_path = \"2D_data/patches/highres/ref_sph_2D_v02-01_d%03d_var%02d_%03d\"\n",
    "\n",
    "train_data = Dataset(src_patches_path, 0, 18, 5, 15, ['sdf','vel'], 1, ref_patches_path, ['sdf'])\n",
    "test_data = Dataset(src_patches_path, 18, 20, 5, 15, ['sdf','vel'], 1, ref_patches_path, ['sdf'])\n",
    "\n",
    "print(train_data.data.shape)\n",
    "print(train_data.ref_data.shape)"
   ]
  },
  {
   "cell_type": "code",
   "execution_count": 143,
   "metadata": {
    "collapsed": false
   },
   "outputs": [
    {
     "name": "stdout",
     "output_type": "stream",
     "text": [
      "____________________________________________________________________________________________________\n",
      "Layer (type)                     Output Shape          Param #     Connected to                     \n",
      "====================================================================================================\n",
      "main_input (InputLayer)          (None, 5, 5, 1)       0                                            \n",
      "____________________________________________________________________________________________________\n",
      "reshape_flat (Reshape)           (None, 25)            0           main_input[0][0]                 \n",
      "____________________________________________________________________________________________________\n",
      "repeate (RepeatVector)           (None, 9, 25)         0           reshape_flat[0][0]               \n",
      "____________________________________________________________________________________________________\n",
      "permute (Permute)                (None, 25, 9)         0           repeate[0][0]                    \n",
      "____________________________________________________________________________________________________\n",
      "reshape_back (Reshape)           (None, 5, 5, 9)       0           permute[0][0]                    \n",
      "____________________________________________________________________________________________________\n",
      "conv2D_0 (Conv2D)                (None, 5, 5, 64)      5248        reshape_back[0][0]               \n",
      "____________________________________________________________________________________________________\n",
      "normalize_0 (BatchNormalization) (None, 5, 5, 64)      256         conv2D_0[0][0]                   \n",
      "____________________________________________________________________________________________________\n",
      "conv2D_1 (Conv2D)                (None, 5, 5, 128)     73856       normalize_0[0][0]                \n",
      "____________________________________________________________________________________________________\n",
      "normalize_1 (BatchNormalization) (None, 5, 5, 128)     512         conv2D_1[0][0]                   \n",
      "____________________________________________________________________________________________________\n",
      "deconv2D_0 (Conv2DTranspose)     (None, 5, 5, 64)      73792       normalize_1[0][0]                \n",
      "____________________________________________________________________________________________________\n",
      "normalize_2 (BatchNormalization) (None, 5, 5, 64)      256         deconv2D_0[0][0]                 \n",
      "____________________________________________________________________________________________________\n",
      "deconv2D_1 (Conv2DTranspose)     (None, 5, 5, 9)       5193        normalize_2[0][0]                \n",
      "____________________________________________________________________________________________________\n",
      "normalize_3 (BatchNormalization) (None, 5, 5, 9)       36          deconv2D_1[0][0]                 \n",
      "____________________________________________________________________________________________________\n",
      "add (Add)                        (None, 5, 5, 9)       0           reshape_back[0][0]               \n",
      "                                                                   normalize_3[0][0]                \n",
      "____________________________________________________________________________________________________\n",
      "activation (Activation)          (None, 5, 5, 9)       0           add[0][0]                        \n",
      "____________________________________________________________________________________________________\n",
      "subpixel_conv (Subpixel)         (None, 15, 15, 1)     738         activation[0][0]                 \n",
      "====================================================================================================\n",
      "Total params: 159,887\n",
      "Trainable params: 159,357\n",
      "Non-trainable params: 530\n",
      "____________________________________________________________________________________________________\n"
     ]
    }
   ],
   "source": [
    "import keras\n",
    "from keras.models import Model, Sequential\n",
    "from keras.layers import Conv2D, Conv2DTranspose, BatchNormalization, Input, Flatten, Dense\n",
    "from keras.layers import Reshape, RepeatVector, Permute, concatenate, add, Activation, Dropout, ZeroPadding2D\n",
    "from keras.layers.advanced_activations import LeakyReLU\n",
    "from keras_utils.subpixel import *\n",
    "import numpy as np\n",
    "\n",
    "inputs = Input((5, 5, 1), name=\"main_input\")\n",
    "aux_input = Input((5,5,3),name=\"aux_input\")\n",
    "\n",
    "base = Reshape((5*5,), name=\"reshape_flat\")(inputs)\n",
    "base = RepeatVector(9, name=\"repeate\")(base)\n",
    "base = Permute((2, 1), name=\"permute\")(base)\n",
    "base = Reshape((5,5,9), name=\"reshape_back\")(base)\n",
    "\n",
    "x = concatenate([inputs, aux_input], name=\"concatenate\")\n",
    "x = Reshape((5*5*4,), name=\"reshape_flat_res\")(x)\n",
    "x = RepeatVector(9, name=\"repeate_res\")(x)\n",
    "x = Permute((2, 1), name=\"permute_res\")(x)\n",
    "x = Reshape((5, 5,9*4), name=\"reshape_back_res\")(x)\n",
    "\n",
    "x = Conv2D(filters=16*4, kernel_size=3, \n",
    "           strides=1, activation='tanh', padding='same', name=\"conv2D_0\")(base)\n",
    "x = BatchNormalization(name=\"normalize_0\")(x)\n",
    "x = Conv2D(filters=32*4, kernel_size=3,\n",
    "           strides=1, activation='tanh', padding='same', name=\"conv2D_1\")(x)    \n",
    "x = BatchNormalization(name=\"normalize_1\")(x)\n",
    "x = Conv2DTranspose(filters=16*4, kernel_size=3, \n",
    "                    strides=1, activation='tanh', padding='same', name=\"deconv2D_0\")(x)\n",
    "x = BatchNormalization(name=\"normalize_2\")(x)\n",
    "x = Conv2DTranspose(filters=9, kernel_size=3, \n",
    "                    strides=1, activation='tanh', padding='same', name=\"deconv2D_1\")(x)\n",
    "x = BatchNormalization(name=\"normalize_3\")(x)\n",
    "\n",
    "x = add([base,x], name=\"add\")\n",
    "x = Activation('tanh', name=\"activation\")(x)\n",
    "predictions = Subpixel(filters=1, kernel_size=3, r=3,activation='tanh', padding='same', name=\"subpixel_conv\")(x)\n",
    "\n",
    "generator = Model(inputs=[inputs,aux_input], outputs=predictions, name=\"generator\")\n",
    "generator.summary()\n",
    "generator.compile( loss='mse', optimizer=keras.optimizers.adam(lr=0.001))\n"
   ]
  },
  {
   "cell_type": "code",
   "execution_count": 144,
   "metadata": {
    "collapsed": false
   },
   "outputs": [
    {
     "name": "stdout",
     "output_type": "stream",
     "text": [
      "_________________________________________________________________\n",
      "Layer (type)                 Output Shape              Param #   \n",
      "=================================================================\n",
      "conv2d_32 (Conv2D)           (None, 8, 8, 32)          320       \n",
      "_________________________________________________________________\n",
      "leaky_re_lu_32 (LeakyReLU)   (None, 8, 8, 32)          0         \n",
      "_________________________________________________________________\n",
      "conv2d_33 (Conv2D)           (None, 4, 4, 64)          18496     \n",
      "_________________________________________________________________\n",
      "zero_padding2d_11 (ZeroPaddi (None, 5, 5, 64)          0         \n",
      "_________________________________________________________________\n",
      "leaky_re_lu_33 (LeakyReLU)   (None, 5, 5, 64)          0         \n",
      "_________________________________________________________________\n",
      "batch_normalization_21 (Batc (None, 5, 5, 64)          256       \n",
      "_________________________________________________________________\n",
      "conv2d_34 (Conv2D)           (None, 3, 3, 128)         73856     \n",
      "_________________________________________________________________\n",
      "leaky_re_lu_34 (LeakyReLU)   (None, 3, 3, 128)         0         \n",
      "_________________________________________________________________\n",
      "batch_normalization_22 (Batc (None, 3, 3, 128)         512       \n",
      "_________________________________________________________________\n",
      "flatten_11 (Flatten)         (None, 1152)              0         \n",
      "_________________________________________________________________\n",
      "dense_11 (Dense)             (None, 1)                 1153      \n",
      "=================================================================\n",
      "Total params: 94,593\n",
      "Trainable params: 94,209\n",
      "Non-trainable params: 384\n",
      "_________________________________________________________________\n"
     ]
    }
   ],
   "source": [
    "discriminator = Sequential(name=\"discriminator\")\n",
    "\n",
    "img_shape = (15, 15, 1)\n",
    "\n",
    "discriminator.add(Conv2D(32, kernel_size=3, strides=2, input_shape=img_shape, padding=\"same\"))\n",
    "discriminator.add(LeakyReLU(alpha=0.2))\n",
    "discriminator.add(Conv2D(64, kernel_size=3, strides=2, padding=\"same\"))\n",
    "discriminator.add(ZeroPadding2D(padding=((0,1),(0,1))))\n",
    "discriminator.add(LeakyReLU(alpha=0.2))\n",
    "discriminator.add(BatchNormalization(momentum=0.8))\n",
    "discriminator.add(Conv2D(128, kernel_size=3, strides=2, padding=\"same\"))\n",
    "discriminator.add(LeakyReLU(alpha=0.2))\n",
    "discriminator.add(BatchNormalization(momentum=0.8))\n",
    "#model.add(Conv2D(256, kernel_size=3, strides=1, padding=\"same\"))\n",
    "#model.add(LeakyReLU(alpha=0.2))\n",
    "\n",
    "discriminator.add(Flatten())\n",
    "discriminator.add(Dense(1, activation='sigmoid'))\n",
    "\n",
    "#img = Input(shape=img_shape, name=\"disc_input\")\n",
    "#validity = model(img)\n",
    "\n",
    "#discriminator = Model(img, validity)\n",
    "\n",
    "discriminator.compile(loss='binary_crossentropy', optimizer=keras.optimizers.adam(lr=0.001), metrics=['accuracy'])\n",
    "\n",
    "discriminator.summary()"
   ]
  },
  {
   "cell_type": "code",
   "execution_count": 145,
   "metadata": {
    "collapsed": false
   },
   "outputs": [
    {
     "name": "stdout",
     "output_type": "stream",
     "text": [
      "____________________________________________________________________________________________________\n",
      "Layer (type)                     Output Shape          Param #     Connected to                     \n",
      "====================================================================================================\n",
      "main (InputLayer)                (None, 5, 5, 1)       0                                            \n",
      "____________________________________________________________________________________________________\n",
      "aux (InputLayer)                 (None, 5, 5, 3)       0                                            \n",
      "____________________________________________________________________________________________________\n",
      "generator (Model)                (None, 15, 15, 1)     159887      main[0][0]                       \n",
      "                                                                   aux[0][0]                        \n",
      "____________________________________________________________________________________________________\n",
      "discriminator (Sequential)       (None, 1)             94593       generator[1][0]                  \n",
      "====================================================================================================\n",
      "Total params: 254,480\n",
      "Trainable params: 159,357\n",
      "Non-trainable params: 95,123\n",
      "____________________________________________________________________________________________________\n"
     ]
    }
   ],
   "source": [
    "z = Input(shape=(5,5,1), name='main')\n",
    "z_aux = Input(shape=(5,5,3), name='aux')\n",
    "img = generator([z,z_aux])\n",
    "\n",
    "# For the combined model we will only train the generator\n",
    "discriminator.trainable = False\n",
    "\n",
    "# The valid takes generated images as input and determines validity\n",
    "valid = discriminator(img)\n",
    "\n",
    "# The combined model  (stacked generator and discriminator)\n",
    "combined = Model([z,z_aux], [img,valid])\n",
    "combined.compile(loss=['mse','binary_crossentropy'], optimizer=keras.optimizers.adam(lr=0.001),\n",
    "              loss_weights=[1.0, 0.])\n",
    "\n",
    "combined.summary()"
   ]
  },
  {
   "cell_type": "code",
   "execution_count": 146,
   "metadata": {
    "collapsed": false
   },
   "outputs": [
    {
     "name": "stdout",
     "output_type": "stream",
     "text": [
      "train count: 8096\n",
      "eval count: 2016\n",
      "epoch    0\n",
      "\ttrain: [D loss: 0.043957, acc.: 98.39%] [G mse: 0.307422, loss: 0.307422]\n",
      "\teval.: [D loss: 0.022254, acc.: 99.36%] [G mse: 0.201977, loss: 0.201977]\n",
      "epoch   10\n",
      "\ttrain: [D loss: 0.000162, acc.: 100.00%] [G mse: 0.159767, loss: 0.159767]\n",
      "\teval.: [D loss: 0.738661, acc.: 57.12%] [G mse: 0.172047, loss: 0.172047]\n",
      "epoch   20\n",
      "\ttrain: [D loss: 0.004619, acc.: 99.85%] [G mse: 0.142101, loss: 0.142101]\n",
      "\teval.: [D loss: 1.715662, acc.: 49.85%] [G mse: 0.172793, loss: 0.172793]\n",
      "epoch   30\n",
      "\ttrain: [D loss: 0.026038, acc.: 99.51%] [G mse: 0.130384, loss: 0.130384]\n",
      "\teval.: [D loss: 0.648919, acc.: 60.24%] [G mse: 0.174222, loss: 0.174222]\n",
      "epoch   40\n",
      "\ttrain: [D loss: 0.000103, acc.: 100.00%] [G mse: 0.121317, loss: 0.121317]\n",
      "\teval.: [D loss: 1.981977, acc.: 50.15%] [G mse: 0.178114, loss: 0.178114]\n",
      "epoch   50\n",
      "\ttrain: [D loss: 0.000007, acc.: 100.00%] [G mse: 0.115276, loss: 0.115276]\n",
      "\teval.: [D loss: 2.534025, acc.: 49.75%] [G mse: 0.180055, loss: 0.180055]\n",
      "epoch   60\n",
      "\ttrain: [D loss: 0.000002, acc.: 100.00%] [G mse: 0.109853, loss: 0.109853]\n",
      "\teval.: [D loss: 3.545608, acc.: 49.90%] [G mse: 0.186103, loss: 0.186103]\n",
      "epoch   70\n",
      "\ttrain: [D loss: 0.000149, acc.: 100.00%] [G mse: 0.106347, loss: 0.106347]\n",
      "\teval.: [D loss: 3.076687, acc.: 49.28%] [G mse: 0.186254, loss: 0.186254]\n",
      "epoch   80\n",
      "\ttrain: [D loss: 0.000004, acc.: 100.00%] [G mse: 0.103169, loss: 0.103169]\n",
      "\teval.: [D loss: 4.330884, acc.: 49.80%] [G mse: 0.187796, loss: 0.187796]\n",
      "epoch   90\n",
      "\ttrain: [D loss: 0.000001, acc.: 100.00%] [G mse: 0.099922, loss: 0.099922]\n",
      "\teval.: [D loss: 3.122396, acc.: 49.93%] [G mse: 0.189666, loss: 0.189666]\n",
      "epoch  100\n",
      "\ttrain: [D loss: 0.000033, acc.: 100.00%] [G mse: 0.097260, loss: 0.097260]\n",
      "\teval.: [D loss: 3.791085, acc.: 49.93%] [G mse: 0.192939, loss: 0.192939]\n",
      "epoch  110\n",
      "\ttrain: [D loss: 0.000007, acc.: 100.00%] [G mse: 0.095960, loss: 0.095960]\n",
      "\teval.: [D loss: 3.748354, acc.: 49.95%] [G mse: 0.193236, loss: 0.193236]\n",
      "epoch  120\n",
      "\ttrain: [D loss: 0.000040, acc.: 100.00%] [G mse: 0.093689, loss: 0.093689]\n",
      "\teval.: [D loss: 1.181578, acc.: 50.97%] [G mse: 0.192734, loss: 0.192734]\n",
      "epoch  130\n",
      "\ttrain: [D loss: 0.000001, acc.: 100.00%] [G mse: 0.091443, loss: 0.091443]\n",
      "\teval.: [D loss: 5.555255, acc.: 49.98%] [G mse: 0.196699, loss: 0.196699]\n",
      "epoch  140\n",
      "\ttrain: [D loss: 0.000049, acc.: 100.00%] [G mse: 0.090573, loss: 0.090573]\n",
      "\teval.: [D loss: 6.120357, acc.: 50.00%] [G mse: 0.197946, loss: 0.197946]\n",
      "epoch  150\n",
      "\ttrain: [D loss: 0.000807, acc.: 99.96%] [G mse: 0.088584, loss: 0.088584]\n",
      "\teval.: [D loss: 2.484917, acc.: 49.18%] [G mse: 0.200253, loss: 0.200253]\n",
      "epoch  160\n",
      "\ttrain: [D loss: 0.000809, acc.: 99.96%] [G mse: 0.087601, loss: 0.087601]\n",
      "\teval.: [D loss: 6.731235, acc.: 49.28%] [G mse: 0.201362, loss: 0.201362]\n",
      "epoch  170\n",
      "\ttrain: [D loss: 0.000000, acc.: 100.00%] [G mse: 0.086477, loss: 0.086477]\n",
      "\teval.: [D loss: 5.748235, acc.: 49.90%] [G mse: 0.201496, loss: 0.201496]\n",
      "epoch  180\n",
      "\ttrain: [D loss: 0.000015, acc.: 100.00%] [G mse: 0.085492, loss: 0.085492]\n",
      "\teval.: [D loss: 7.174464, acc.: 50.00%] [G mse: 0.201747, loss: 0.201747]\n",
      "epoch  190\n",
      "\ttrain: [D loss: 0.000008, acc.: 100.00%] [G mse: 0.083778, loss: 0.083778]\n",
      "\teval.: [D loss: 5.595816, acc.: 49.65%] [G mse: 0.202756, loss: 0.202756]\n",
      "epoch  200\n",
      "\ttrain: [D loss: 0.000000, acc.: 100.00%] [G mse: 0.083367, loss: 0.083367]\n",
      "\teval.: [D loss: 6.117727, acc.: 49.98%] [G mse: 0.203003, loss: 0.203003]\n",
      "epoch  210\n",
      "\ttrain: [D loss: 0.000007, acc.: 100.00%] [G mse: 0.082414, loss: 0.082414]\n",
      "\teval.: [D loss: 3.025168, acc.: 49.55%] [G mse: 0.205037, loss: 0.205037]\n",
      "epoch  220\n",
      "\ttrain: [D loss: 0.002541, acc.: 99.85%] [G mse: 0.082054, loss: 0.082054]\n",
      "\teval.: [D loss: 3.613431, acc.: 49.50%] [G mse: 0.204474, loss: 0.204474]\n",
      "epoch  230\n",
      "\ttrain: [D loss: 0.006130, acc.: 99.84%] [G mse: 0.081472, loss: 0.081472]\n",
      "\teval.: [D loss: 2.113980, acc.: 46.73%] [G mse: 0.206340, loss: 0.206340]\n",
      "epoch  240\n",
      "\ttrain: [D loss: 0.000005, acc.: 100.00%] [G mse: 0.079641, loss: 0.079641]\n",
      "\teval.: [D loss: 1.916910, acc.: 51.29%] [G mse: 0.207394, loss: 0.207394]\n"
     ]
    }
   ],
   "source": [
    "batch_size = 32\n",
    "epochs = 250\n",
    "half_batch = batch_size//2\n",
    "val_split = 0.2\n",
    "\n",
    "train_cnt = int(len(train_data.data)*(1-val_split))//batch_size*batch_size\n",
    "print('train count: %d' % train_cnt)\n",
    "eval_cnt = int(len(train_data.data)*val_split)//batch_size*batch_size\n",
    "print('eval count: %d' % eval_cnt)\n",
    "\n",
    "cnt_inv = batch_size/train_cnt\n",
    "\n",
    "history = {'d_loss':[],'d_acc':[],'g_mse':[],'g_loss':[],\n",
    "           'd_val_loss':[],'d_val_acc':[],'g_val_mse':[],'g_val_loss':[]}\n",
    "idx0 = np.arange(train_cnt+eval_cnt)\n",
    "idx1 = np.arange(train_cnt+eval_cnt)\n",
    "\n",
    "np.random.shuffle(idx0)\n",
    "np.random.shuffle(idx1)\n",
    "    \n",
    "idx0, val_idx0 = np.split(idx0,[train_cnt])\n",
    "idx1, val_idx1 = np.split(idx1,[train_cnt])\n",
    "\n",
    "for ep in range(epochs):    \n",
    "    # train\n",
    "    np.random.shuffle(idx0)\n",
    "    np.random.shuffle(idx1)\n",
    "    g_loss = [0.,0.,0.]\n",
    "    d_loss = [0.,0.]\n",
    "    \n",
    "    for i in range(0,train_cnt,batch_size):\n",
    "        x = train_data.ref_data[idx0[i:i+half_batch]]\n",
    "        \n",
    "        y = train_data.data[idx0[i+half_batch:i+batch_size]]\n",
    "        y = np.split(y,[1],axis=3)\n",
    "        y = generator.predict(y)\n",
    "\n",
    "        d_loss_real = discriminator.train_on_batch(x, np.ones((half_batch, 1)))\n",
    "        d_loss_fake = discriminator.train_on_batch(y, np.zeros((half_batch, 1)))\n",
    "        d_loss = np.add(d_loss, cnt_inv * 0.5 * np.add(d_loss_real, d_loss_fake) )\n",
    "        \n",
    "        x = train_data.data[idx1[i:i+batch_size]]\n",
    "        y = train_data.ref_data[idx1[i:i+batch_size]]\n",
    "        x = np.split(x,[1],axis=3)\n",
    "        g_loss = np.add(g_loss, cnt_inv * np.array(combined.train_on_batch(x, [y,np.ones((batch_size, 1))])))\n",
    "    \n",
    "    # eval\n",
    "    np.random.shuffle(val_idx0)\n",
    "    np.random.shuffle(val_idx1)\n",
    "    g_val_loss = [0.,0.,0.]\n",
    "    d_val_loss = [0.,0.]\n",
    "    \n",
    "    x = train_data.ref_data[val_idx0]\n",
    "    \n",
    "    y = train_data.data[val_idx0]\n",
    "    y = np.split(y,[1],axis=3)\n",
    "    y = generator.predict(y)\n",
    "    \n",
    "    d_loss_real = discriminator.evaluate(x, np.ones((eval_cnt, 1)), batch_size=half_batch, verbose=0)\n",
    "    d_loss_fake = discriminator.evaluate(y, np.zeros((eval_cnt, 1)), batch_size=half_batch, verbose=0)\n",
    "    d_val_loss = 0.5 * np.add(d_loss_real, d_loss_fake)\n",
    "    \n",
    "    x = train_data.data[val_idx1]\n",
    "    y = train_data.ref_data[val_idx1]\n",
    "    x = np.split(x,[1],axis=3)\n",
    "    \n",
    "    g_val_loss = combined.evaluate(x, [y,np.ones((eval_cnt, 1))], batch_size=batch_size, verbose=0)\n",
    "    \n",
    "    history['d_loss'].append(d_loss[0])\n",
    "    history['d_acc'].append(d_loss[1])\n",
    "    history['d_val_loss'].append(d_val_loss[0])\n",
    "    history['d_val_acc'].append(d_val_loss[1])\n",
    "    history['g_mse'].append(g_loss[0])\n",
    "    history['g_loss'].append(g_loss[1])\n",
    "    history['g_val_mse'].append(g_val_loss[0])\n",
    "    history['g_val_loss'].append(g_val_loss[1])\n",
    "            \n",
    "    if(ep%10==0):\n",
    "        print (\"epoch %i\" % ep)\n",
    "        print (\"\\ttrain: [D loss: %f, acc.: %.2f%%] [G mse: %f, loss: %f]\" % (d_loss[0], 100*d_loss[1], g_loss[0], g_loss[1]))\n",
    "        print (\"\\teval.: [D loss: %f, acc.: %.2f%%] [G mse: %f, loss: %f]\" % (d_val_loss[0], 100*d_val_loss[1], g_val_loss[0], g_val_loss[1]))"
   ]
  },
  {
   "cell_type": "code",
   "execution_count": 155,
   "metadata": {
    "collapsed": false
   },
   "outputs": [
    {
     "data": {
      "image/png": "[encoded data removed]",
      "text/plain": [
       "<matplotlib.figure.Figure at 0x15a2db978>"
      ]
     },
     "metadata": {},
     "output_type": "display_data"
    },
    {
     "data": {
      "image/png": "[encoded data removed]",
      "text/plain": [
       "<matplotlib.figure.Figure at 0x15a1ef048>"
      ]
     },
     "metadata": {},
     "output_type": "display_data"
    }
   ],
   "source": [
    "import matplotlib.pyplot as plt\n",
    "\n",
    "plt.plot(history['g_mse'])\n",
    "plt.plot(history['g_loss'])\n",
    "plt.plot(history['g_val_mse'])\n",
    "plt.plot(history['g_val_loss'])\n",
    "plt.title('model loss')\n",
    "plt.ylabel('loss')\n",
    "plt.xlabel('epoch')\n",
    "plt.legend(['g_mse','g_loss','g_val_mse','g_val_loss'], loc='upper left')\n",
    "\n",
    "#plt.savefig('%smodel/%s_v%02d_loss.png' % (data_loc, data_param.prefix, version))\n",
    "\n",
    "plt.show()\n",
    "\n",
    "plt.plot(history['d_loss'])\n",
    "plt.plot(history['d_val_loss'])\n",
    "plt.title('discriminator loss')\n",
    "plt.ylabel('loss')\n",
    "plt.xlabel('epoch')\n",
    "plt.legend(['d_loss','d_val_loss'], loc='upper left')\n",
    "\n",
    "plt.show()\n"
   ]
  },
  {
   "cell_type": "code",
   "execution_count": 105,
   "metadata": {
    "collapsed": false
   },
   "outputs": [],
   "source": [
    "#generator.save('2D_data/model/gan_v3.h5')"
   ]
  },
  {
   "cell_type": "code",
   "execution_count": 156,
   "metadata": {
    "collapsed": false
   },
   "outputs": [
    {
     "name": "stdout",
     "output_type": "stream",
     "text": [
      "(152, 152, 1)\n"
     ]
    }
   ],
   "source": [
    "import scipy.ndimage.filters as fi\n",
    "import math\n",
    "import numpy as np\n",
    "from uniio import *\n",
    "import keras\n",
    "from keras.models import load_model\n",
    "from keras_utils.subpixel import *\n",
    "\n",
    "#generator = load_model('2D_data/model/gan_v3.h5')\n",
    "\n",
    "def filter2D(kernlen, s, fac):\n",
    "    dirac = np.zeros((kernlen, kernlen))\n",
    "    dirac[kernlen//2, kernlen//2] = 1\n",
    "    return np.clip(fi.gaussian_filter(dirac, s) * fac, a_min=None, a_max=1.0)\n",
    "\n",
    "result = np.ndarray(shape=(150,150,1), dtype=float)\n",
    "#weights = np.ndarray(shape=(data_param.res,data_param.res,1), dtype=float)\n",
    "#weights.fill(0)\n",
    "\n",
    "ps = 5//2\n",
    "hps = 15//2\n",
    "\n",
    "border = int(math.ceil(hps-(ps*3)))\n",
    "\n",
    "result=np.pad(result,((border,border),(border,border),(0,0)),mode=\"edge\")\n",
    "#weights=np.pad(weights,((border,border),(border,border),(0,0)),mode=\"edge\")\n",
    "print(result.shape)\n",
    "dataset = 18#nn_param.train_data_count\n",
    "\n",
    "input_path = \"2D_data/test/sph_2D_v02_d018_%03d\" if False else \"2D_data/lowres/sph_2D_v02-01_d018_%03d\"\n",
    "ref_input_path = \"2D_data/highres/ref_sph_2D_v02_d018_%03d_sdf.uni\"\n",
    "output_path = \"2D_data/result/sph_2D_v04_d018_%03d_result.uni\"\n",
    "\n",
    "elem_min = np.vectorize(lambda x,y: min(x,y))\n",
    "circular_filter = filter2D(15, 15*0.2, 500)\n",
    "\n",
    "for t in range(5, 15):\n",
    "    result.fill(1)\n",
    "    hdr, source = readUni(input_path%t+\"_sdf.uni\")\n",
    "    _, tmp = readUni(input_path%t+\"_vel.uni\")\n",
    "    source = np.append(source, tmp, axis=3)\n",
    "    \n",
    "    for x in range (ps, 50-ps, 1):\n",
    "        for y in range(ps, 50-ps, 1):\n",
    "            if(abs(source[0,x,y,0]) < 0.5):\n",
    "                x0=x-ps\n",
    "                x1=x+ps+1\n",
    "                y0=y-ps\n",
    "                y1=y+ps+1\n",
    "                \n",
    "                data = np.array([source[0,x0:x1,y0:y1]]) * 12.\n",
    "                data[0,:,:,0] = np.tanh(data[0,:,:,0])\n",
    "                \n",
    "                predict = generator.predict(x=np.split(data,[1],axis=3), batch_size=1)\n",
    "                #print(\"score: %f\" % combined.predict(x=np.split(data,[1],axis=3), batch_size=1)[1])\n",
    "                predict = np.arctanh(np.clip(predict,-.999999,.999999))\n",
    "                    \n",
    "                predict = predict * circular_filter/4.\n",
    "\n",
    "                x0=int(3*x)-hps+border\n",
    "                x1=int(3*x)+hps+border+1\n",
    "                y0=int(3*y)-hps+border\n",
    "                y1=int(3*y)+hps+border+1\n",
    "\n",
    "                result[x0:x1,y0:y1,0] = elem_min(result[x0:x1,y0:y1,0], predict[0,:,:,0])\n",
    "\n",
    "    hdr['dimX'] = 150\n",
    "    hdr['dimY'] = 150\n",
    "\n",
    "    #print(result[border:data_param.res+border,border:data_param.res+border,0].shape)\n",
    "    writeUni(output_path%t, hdr, result[border:150+border,border:150+border,0])"
   ]
  },
  {
   "cell_type": "code",
   "execution_count": 157,
   "metadata": {
    "collapsed": false
   },
   "outputs": [],
   "source": [
    "scr_path = \"gan_v3_d%03d\" % dataset + \"_%03d\""
   ]
  },
  {
   "cell_type": "code",
   "execution_count": 158,
   "metadata": {
    "collapsed": true
   },
   "outputs": [],
   "source": [
    "import os\n",
    "from subprocess import Popen, PIPE\n",
    "\n",
    "verbose = False\n",
    "\n",
    "manta_loc = '2D_SPH/'\n",
    "def run_manta(scene, param={},run=True,logfile=\"\"):\n",
    "    command = [manta_loc+\"build/manta\", manta_loc+scene]\n",
    "\n",
    "    for k, v in param.items():\n",
    "        command += [k, str(v)]\n",
    "        \n",
    "    if logfile != \"\":\n",
    "        command += [\">\",logfile]\n",
    "        command += [\"; echo\", \"output written into %s\" % logfile]\n",
    "        \n",
    "    print(\" \".join(command) + \"\\n\")\n",
    "    \n",
    "    if not run: return\n",
    "\n",
    "    proc = Popen(command, stdin=None, stdout=PIPE, stderr=PIPE)\n",
    "\n",
    "    if verbose:\n",
    "        for line in proc.stdout:\n",
    "            print(line.decode('utf-8'))\n",
    "    for line in proc.stderr:\n",
    "        print(line.decode('utf-8'))"
   ]
  },
  {
   "cell_type": "code",
   "execution_count": 160,
   "metadata": {
    "collapsed": false
   },
   "outputs": [
    {
     "name": "stdout",
     "output_type": "stream",
     "text": [
      "2D_SPH/build/manta 2D_SPH/scenes/show_particles.py t_start 5 t_end 15 res 150 scr 2D_data/screenshots/test/gan_v3_d018_%03d_res.png sdf 2D_data/result/sph_2D_v04_d018_%03d_result.uni sres 4\n",
      "\n",
      "QThread: Destroyed while thread is still running\n",
      "\n"
     ]
    }
   ],
   "source": [
    "param = {}\n",
    "dataset = 0\n",
    "\n",
    "# show result\n",
    "param['sdf'] = output_path\n",
    "param['t_start'] = 5\n",
    "param['t_end'] = 15\n",
    "param['res'] = 150\n",
    "param['sres'] = 4\n",
    "\n",
    "param['scr'] = '2D_data/screenshots/test/' + scr_path + \"_res.png\"\n",
    "\n",
    "run_manta(\"scenes/show_particles.py\", param)"
   ]
  },
  {
   "cell_type": "code",
   "execution_count": null,
   "metadata": {
    "collapsed": true
   },
   "outputs": [],
   "source": []
  }
 ],
 "metadata": {
  "kernelspec": {
   "display_name": "Python 3",
   "language": "python",
   "name": "python3"
  },
  "language_info": {
   "codemirror_mode": {
    "name": "ipython",
    "version": 3
   },
   "file_extension": ".py",
   "mimetype": "text/x-python",
   "name": "python",
   "nbconvert_exporter": "python",
   "pygments_lexer": "ipython3",
   "version": "3.5.0"
  }
 },
 "nbformat": 4,
 "nbformat_minor": 1
}
