{
 "cells": [
  {
   "cell_type": "markdown",
   "metadata": {},
   "source": [
    "# Neural Particles 2D"
   ]
  },
  {
   "cell_type": "markdown",
   "metadata": {},
   "source": [
    "## 2D Dataset\n",
    "Pipeline:\n",
    "* Generation of high-res data (reference) using some random cubes of water\n",
    "* Extracting relevant data (particle data and grid data) like e.g. sdf, velocity, pressure, density...\n",
    "* Down-sampling of particles (by a given factor) and generation of the low-res data (source)\n",
    "* Extract corresponding and relevant patches on the surface from the data-set pairs (considering the low-res data)\n",
    "* Use patche-pairs to train the NN"
   ]
  },
  {
   "cell_type": "markdown",
   "metadata": {},
   "source": [
    "### Setup"
   ]
  },
  {
   "cell_type": "markdown",
   "metadata": {},
   "source": [
    "Simple structs containing parameters for different data-set and neural network versions.\n",
    "\n",
    "Data-set Parameters:\n",
    "* **prefix**: prefix of filename\n",
    "* **fps**: frames per second, the velocity of the simulation\n",
    "* **frame_count**: count of generated frames\n",
    "* **sub_res**: count of particles per cell (per dimension)\n",
    "* **res**: resolution of high-res grid\n",
    "* **var1**: factor of drop falling in basin data-sets (var0 is 1 - var1 - var2)\n",
    "* **var2**: factor of two drop shooting against other\n",
    "* **factor**: goal up-scale factor of particles\n",
    "* **upres**: specify if the low-res grids will be up-scaled to res (=> input and output same scale)\n",
    "* **seed**: seed for random data-set generation\n",
    "* **min_scale**: minimum scale of boxes for data-set generation\n",
    "* **max_scale**: maximum scale of boxes for data-set generation\n",
    "* **min_pos**: minimum x-position of boxes\n",
    "* **max_pos**: maximum x-position of boxes\n",
    "* **max_h**: maximum start-height of boxes\n",
    "* **max_cnt**: maximum count of boxes\n",
    "* **circ_vel**: velocity used for colliding drops\n",
    "\n",
    "Neural Network Parameters:\n",
    "* **patch_size**: size of generated surface patches (of the low-res data)\n",
    "* **stride**: stride used for the generation of the patches\n",
    "* **surf**: surface tolerance, specifies which sdf-values are considered as surface (for patches)\n",
    "* **l_fac**: multiplicative factor of low-res sdf-patches\n",
    "* **h_fac**: multiplicative factor of high-res sdf-patches\n",
    "* **use_tanh**: apply tanh on sdf-patches, after multiplication with factor\n",
    "* **train_data_count**: count of training data-sets\n",
    "* **val_split**: factor of how much of training data is used for validation\n",
    "* **test_data_count**: count of test data-sets\n",
    "* **t_start**: timestep start-point of data\n",
    "* **t_end**: timestep end-point of data\n",
    "* **features**: list of strings which specifiy which features to use:\n",
    "    * 'sdf': levelset data\n",
    "    * 'vel': velocity data\n",
    "    * 'dens': density data\n",
    "    * 'pres': pressure data\n",
    "* **batch_size**: batch size used for training and validation\n",
    "* **learning_rate**: learing rate used for training\n",
    "* **epochs**: training epochs"
   ]
  },
  {
   "cell_type": "code",
   "execution_count": 1,
   "metadata": {
    "collapsed": false
   },
   "outputs": [],
   "source": [
    "class DatasetParam:\n",
    "    def __init__(self, prefix=\"sph_2D\", fps=30, frame_count=50, \n",
    "                 sub_res=2, res=150, var1=0, var2=0, \n",
    "                 seed=124820112, min_scale=0.05, max_scale=0.3,\n",
    "                 min_pos=0.2,max_pos=0.8,max_h=0.1,max_cnt=5, circ_vel=100.):\n",
    "    \n",
    "        self.prefix = prefix\n",
    "\n",
    "        self.fps = fps\n",
    "        self.frame_count = frame_count\n",
    "        self.sub_res = sub_res\n",
    "        self.res = res\n",
    "        \n",
    "        self.var1 = var1\n",
    "        self.var2 = var2\n",
    "\n",
    "        self.seed = seed\n",
    "        self.min_scale = min_scale\n",
    "        self.max_scale = max_scale\n",
    "        self.min_pos = min_pos\n",
    "        self.max_pos = max_pos\n",
    "        self.max_h = max_h\n",
    "        self.max_cnt = max_cnt    \n",
    "        self.circ_vel = circ_vel\n",
    "\n",
    "        \n",
    "class PreParam:\n",
    "    def __init__(self, patch_size=9, stride=3, surf=0.2, l_fac=1.0,h_fac=1.0,use_tanh=0, \n",
    "                 factor=10, upres=1, min_n=0, var=1):\n",
    "        self.patch_size = patch_size\n",
    "        self.stride = stride\n",
    "        self.surf = surf\n",
    "        \n",
    "        self.l_fac = l_fac\n",
    "        self.h_fac = h_fac\n",
    "        self.use_tanh = use_tanh\n",
    "        \n",
    "        self.factor = factor\n",
    "        self.upres = upres\n",
    "        self.min_n = min_n\n",
    "        self.var = var\n",
    "        \n",
    "    \n",
    "class NNParam:\n",
    "    def __init__(self, train_data_count=5, val_split=0.2, test_data_count=1,\n",
    "                 t_start = 20, t_end = 21, features=['sdf'], drop_out=0.5, dense_cnt=64,\n",
    "                 batch_size=32,learning_rate=1e-3,epochs=1000, residual=False, use_spc=False):\n",
    "        self.train_data_count = train_data_count\n",
    "        self.val_split = val_split\n",
    "        self.test_data_count = test_data_count\n",
    "        self.t_start = t_start\n",
    "        self.t_end = t_end\n",
    "        self.features = features\n",
    "        \n",
    "        self.batch_size = batch_size\n",
    "        self.learning_rate=learning_rate\n",
    "        self.drop_out=drop_out\n",
    "        self.dense_cnt=dense_cnt\n",
    "        self.epochs = epochs\n",
    "        self.use_spc = use_spc\n",
    "        self.residual = residual\n",
    "    \n"
   ]
  },
  {
   "cell_type": "markdown",
   "metadata": {},
   "source": [
    "Data Version:\n",
    "* **V0**: default values, input and output patches same size\n",
    "* **V1**: smaller patches, input and output patches different size, uses simple post-processing of patches\n",
    "* **V2**: different seed, uses different data-set types\n",
    "\n",
    "NN Version:\n",
    "* **V0**: CNN with only sdf data\n",
    "* **V1**: also velocity as input\n",
    "* **V2**: 'Subpixel Convolution' instead of 'Transposed Convolution'\n",
    "\n",
    "Combi Version:\n",
    "Different combinations of data versions and NN versions."
   ]
  },
  {
   "cell_type": "code",
   "execution_count": 10,
   "metadata": {
    "collapsed": false
   },
   "outputs": [],
   "source": [
    "data_version_param = [\n",
    "    DatasetParam(),\n",
    "    DatasetParam(seed=123412144,\n",
    "                 var1=1./3,\n",
    "                 var2=1./3),\n",
    "    DatasetParam(seed=123412144,\n",
    "                var1=0.5,\n",
    "                frame_count=20)\n",
    "]\n",
    "\n",
    "pre_version_param = [\n",
    "    PreParam(),\n",
    "    PreParam(upres=0,\n",
    "            stride=2,\n",
    "            surf=0.5,\n",
    "            factor=9,\n",
    "            patch_size=5,\n",
    "            h_fac=4.,\n",
    "            l_fac=12.,\n",
    "            use_tanh=1),\n",
    "    PreParam(upres=0,\n",
    "            stride=2,\n",
    "            surf=0.5,\n",
    "            factor=9,\n",
    "            patch_size=5,\n",
    "            h_fac=4.,\n",
    "            l_fac=12.,\n",
    "            use_tanh=1,\n",
    "            min_n=3,\n",
    "            var=5)\n",
    "]\n",
    "\n",
    "nn_version_param = [\n",
    "    NNParam(),\n",
    "    NNParam(train_data_count=9, \n",
    "            test_data_count=1, \n",
    "            t_start=5,\n",
    "            t_end=15,\n",
    "            epochs=250,\n",
    "            features=['sdf','vel'],\n",
    "            use_spc=True),\n",
    "    NNParam(train_data_count=9, \n",
    "            test_data_count=3, \n",
    "            t_start=5,\n",
    "            t_end=15,\n",
    "            epochs=250,\n",
    "            features=['sdf','vel'],\n",
    "            use_spc=True,\n",
    "            residual=True),\n",
    "    NNParam(train_data_count=18, \n",
    "            test_data_count=2, \n",
    "            val_split=0.2,\n",
    "            t_start=5,\n",
    "            t_end=15,\n",
    "            epochs=250,\n",
    "            features=['sdf','vel'],\n",
    "            use_spc=True,\n",
    "            residual=True)\n",
    "]\n",
    "\n",
    "from collections import namedtuple\n",
    "\n",
    "Combi_Tuple = namedtuple('Combi_Tuple', ['data','pre','nn'])\n",
    "version_combi_param = [\n",
    "    Combi_Tuple(0,0,0),\n",
    "    Combi_Tuple(1,0,1),\n",
    "    Combi_Tuple(1,1,1),\n",
    "    Combi_Tuple(1,1,2),\n",
    "    Combi_Tuple(2,1,3),\n",
    "    Combi_Tuple(2,2,3)\n",
    "]"
   ]
  },
  {
   "cell_type": "code",
   "execution_count": 11,
   "metadata": {
    "collapsed": false
   },
   "outputs": [],
   "source": [
    "import os\n",
    "from subprocess import Popen, PIPE\n",
    "import sys\n",
    "\n",
    "sys.path.append(\"2D_SPH/scenes/tools\")\n",
    "\n",
    "import datetime\n",
    "\n",
    "manta_loc = \"2D_SPH/\"\n",
    "\n",
    "version = 4\n",
    "version_combi = version_combi_param[version]\n",
    "data_param = data_version_param[version_combi.data]\n",
    "pre_param = pre_version_param[version_combi.pre]\n",
    "nn_param = nn_version_param[version_combi.nn]\n",
    "\n",
    "data_loc = \"2D_data/\"\n",
    "src = \"lowres\"\n",
    "ref = \"highres\"\n",
    "\n",
    "# count of training/validation setups\n",
    "data_count = nn_param.train_data_count + nn_param.test_data_count\n",
    "\n",
    "verbose = False\n",
    "\n",
    "def createFolder(p):\n",
    "    if not os.path.exists(p):\n",
    "        os.makedirs(p)\n",
    "    \n",
    "def create_curr_date_folder(path):\n",
    "    now = datetime.datetime.now()\n",
    "    path += \"%04d%02d%02d\"%(now.year,now.month,now.day)\n",
    "    createFolder(path)\n",
    "    return path + \"/\"\n",
    "\n",
    "createFolder(data_loc)\n",
    "createFolder(data_loc+src)\n",
    "createFolder(data_loc+ref)\n",
    "createFolder(data_loc+\"log\")\n",
    "createFolder(data_loc+\"patches\")\n",
    "createFolder(data_loc+\"patches/\"+src)\n",
    "createFolder(data_loc+\"patches/\"+ref)\n",
    "createFolder(data_loc+\"result\")\n",
    "createFolder(data_loc+\"test\")\n",
    "createFolder(data_loc+\"screenshots\")\n",
    "\n",
    "src_prefix = \"%s%s/%s_v%02d-%02d\" % (data_loc, src, data_param.prefix, version_combi.data, version_combi.pre)\n",
    "ref_prefix = \"%s%s/ref_%s_v%02d\" % (data_loc, ref, data_param.prefix, version_combi.data)\n",
    "test_prefix = \"%stest/%s_v%02d\" % (data_loc, data_param.prefix, version_combi.data)\n",
    "\n",
    "def remove_data(path_prefix):\n",
    "    command = [\"rm\", path_prefix+\"*\"]\n",
    "    print(\" \".join(command) + \"\\n\")\n",
    "    proc = Popen(command, stdin=None, stdout=PIPE, stderr=PIPE)\n",
    "    if verbose:\n",
    "        for line in proc.stdout:\n",
    "            print(line.decode('utf-8'))\n",
    "    for line in proc.stderr:\n",
    "        print(line.decode('utf-8'))\n",
    "\n",
    "def run_manta(scene, param={},run=True,logfile=\"\"):\n",
    "    command = [manta_loc+\"build/manta\", manta_loc+scene]\n",
    "\n",
    "    for k, v in param.items():\n",
    "        command += [k, str(v)]\n",
    "        \n",
    "    if logfile != \"\":\n",
    "        command += [\">\",logfile]\n",
    "        command += [\"; echo\", \"output written into %s\" % logfile]\n",
    "        \n",
    "    print(\" \".join(command) + \"\\n\")\n",
    "    \n",
    "    if not run: return\n",
    "\n",
    "    proc = Popen(command, stdin=None, stdout=PIPE, stderr=PIPE)\n",
    "\n",
    "    if verbose:\n",
    "        for line in proc.stdout:\n",
    "            print(line.decode('utf-8'))\n",
    "    for line in proc.stderr:\n",
    "        print(line.decode('utf-8'))"
   ]
  },
  {
   "cell_type": "markdown",
   "metadata": {},
   "source": [
    "Compute 2D down-scale factor:\n",
    "$$lowres=\\frac{res}{\\sqrt(factor)}$$"
   ]
  },
  {
   "cell_type": "code",
   "execution_count": 12,
   "metadata": {
    "collapsed": false
   },
   "outputs": [
    {
     "name": "stdout",
     "output_type": "stream",
     "text": [
      "2D factor: 3.000000\n",
      "low resolution: 50\n",
      "big patch size. 15\n"
     ]
    }
   ],
   "source": [
    "import math\n",
    "\n",
    "#remove_data(src_prefix)\n",
    "\n",
    "low_res = data_param.res\n",
    "high_patch_size = pre_param.patch_size\n",
    "factor_2D = 1.\n",
    "if not pre_param.upres:\n",
    "    factor_2D = math.sqrt(pre_param.factor)\n",
    "    low_res = int(low_res/factor_2D)\n",
    "    high_patch_size = int(high_patch_size*factor_2D)\n",
    "    \n",
    "print(\"2D factor: %f\" % factor_2D)\n",
    "print(\"low resolution: %d\" % low_res)\n",
    "print(\"big patch size. %d\" % high_patch_size)"
   ]
  },
  {
   "cell_type": "markdown",
   "metadata": {},
   "source": [
    "### Generate Data"
   ]
  },
  {
   "cell_type": "code",
   "execution_count": 5,
   "metadata": {
    "collapsed": false
   },
   "outputs": [
    {
     "name": "stdout",
     "output_type": "stream",
     "text": [
      "PRINTS ONLY CALLS! RUN NOT ACTIVATED\n",
      "\n",
      "2D_SPH/build/manta 2D_SPH/scenes/2D_sph.py fps 30 res 150 circ 0 gui 0 out 2D_data/highres/ref_sph_2D_v02_d000_%03d t_end 0.6666666666666666 c_cnt 1 sres 2 c0 0.494799,0.117561,0.235628,0.121357 > 2D_data/log/high_log_000.txt ; echo output written into 2D_data/log/high_log_000.txt\n",
      "\n",
      "2D_SPH/build/manta 2D_SPH/scenes/2D_sph.py fps 30 res 50 circ 0 gui 0 out 2D_data/test/sph_2D_v02_d000_%03d t_end 0.6666666666666666 c_cnt 1 sres 2 c0 0.494799,0.117561,0.235628,0.121357 > 2D_data/log/low_log_000.txt ; echo output written into 2D_data/log/low_log_000.txt\n",
      "\n",
      "2D_SPH/build/manta 2D_SPH/scenes/2D_sph.py c1 0.408424,0.188316,0.289150,0.235498 c2 0.698192,0.163711,0.081849,0.172705 fps 30 res 150 circ 0 gui 0 out 2D_data/highres/ref_sph_2D_v02_d001_%03d t_end 0.6666666666666666 c3 0.387485,0.126930,0.208639,0.167533 c4 0.499663,0.072849,0.262631,0.087050 c_cnt 5 sres 2 c0 0.646937,0.079092,0.167751,0.106881 > 2D_data/log/high_log_001.txt ; echo output written into 2D_data/log/high_log_001.txt\n",
      "\n",
      "2D_SPH/build/manta 2D_SPH/scenes/2D_sph.py c1 0.408424,0.188316,0.289150,0.235498 c2 0.698192,0.163711,0.081849,0.172705 fps 30 res 50 circ 0 gui 0 out 2D_data/test/sph_2D_v02_d001_%03d t_end 0.6666666666666666 c3 0.387485,0.126930,0.208639,0.167533 c4 0.499663,0.072849,0.262631,0.087050 c_cnt 5 sres 2 c0 0.646937,0.079092,0.167751,0.106881 > 2D_data/log/low_log_001.txt ; echo output written into 2D_data/log/low_log_001.txt\n",
      "\n",
      "2D_SPH/build/manta 2D_SPH/scenes/2D_sph.py c1 0.313436,0.106486,0.201034,0.203649 c2 0.540229,0.145842,0.143475,0.201570 fps 30 res 150 circ 0 gui 0 out 2D_data/highres/ref_sph_2D_v02_d002_%03d t_end 0.6666666666666666 c3 0.402537,0.077487,0.243389,0.112155 c4 0.613239,0.133980,0.259161,0.238037 c_cnt 5 sres 2 c0 0.549986,0.153319,0.245289,0.122646 > 2D_data/log/high_log_002.txt ; echo output written into 2D_data/log/high_log_002.txt\n",
      "\n",
      "2D_SPH/build/manta 2D_SPH/scenes/2D_sph.py c1 0.313436,0.106486,0.201034,0.203649 c2 0.540229,0.145842,0.143475,0.201570 fps 30 res 50 circ 0 gui 0 out 2D_data/test/sph_2D_v02_d002_%03d t_end 0.6666666666666666 c3 0.402537,0.077487,0.243389,0.112155 c4 0.613239,0.133980,0.259161,0.238037 c_cnt 5 sres 2 c0 0.549986,0.153319,0.245289,0.122646 > 2D_data/log/low_log_002.txt ; echo output written into 2D_data/log/low_log_002.txt\n",
      "\n",
      "2D_SPH/build/manta 2D_SPH/scenes/2D_sph.py c1 0.465118,0.103350,0.145740,0.184979 fps 30 res 150 circ 0 gui 0 out 2D_data/highres/ref_sph_2D_v02_d003_%03d t_end 0.6666666666666666 c_cnt 2 sres 2 c0 0.647298,0.098634,0.167137,0.159042 > 2D_data/log/high_log_003.txt ; echo output written into 2D_data/log/high_log_003.txt\n",
      "\n",
      "2D_SPH/build/manta 2D_SPH/scenes/2D_sph.py c1 0.465118,0.103350,0.145740,0.184979 fps 30 res 50 circ 0 gui 0 out 2D_data/test/sph_2D_v02_d003_%03d t_end 0.6666666666666666 c_cnt 2 sres 2 c0 0.647298,0.098634,0.167137,0.159042 > 2D_data/log/low_log_003.txt ; echo output written into 2D_data/log/low_log_003.txt\n",
      "\n",
      "2D_SPH/build/manta 2D_SPH/scenes/2D_sph.py c1 0.377999,0.131683,0.210345,0.109686 fps 30 res 150 circ 0 gui 0 out 2D_data/highres/ref_sph_2D_v02_d004_%03d t_end 0.6666666666666666 c_cnt 2 sres 2 c0 0.686952,0.150610,0.197141,0.150795 > 2D_data/log/high_log_004.txt ; echo output written into 2D_data/log/high_log_004.txt\n",
      "\n",
      "2D_SPH/build/manta 2D_SPH/scenes/2D_sph.py c1 0.377999,0.131683,0.210345,0.109686 fps 30 res 50 circ 0 gui 0 out 2D_data/test/sph_2D_v02_d004_%03d t_end 0.6666666666666666 c_cnt 2 sres 2 c0 0.686952,0.150610,0.197141,0.150795 > 2D_data/log/low_log_004.txt ; echo output written into 2D_data/log/low_log_004.txt\n",
      "\n",
      "2D_SPH/build/manta 2D_SPH/scenes/2D_sph.py c1 0.643907,0.203877,0.185997,0.281018 c2 0.572316,0.169280,0.134286,0.281738 fps 30 res 150 circ 0 gui 0 out 2D_data/highres/ref_sph_2D_v02_d005_%03d t_end 0.6666666666666666 c3 0.538035,0.182752,0.196000,0.274803 c4 0.486080,0.096630,0.168540,0.057382 c_cnt 5 sres 2 c0 0.547636,0.106259,0.274128,0.095912 > 2D_data/log/high_log_005.txt ; echo output written into 2D_data/log/high_log_005.txt\n",
      "\n",
      "2D_SPH/build/manta 2D_SPH/scenes/2D_sph.py c1 0.643907,0.203877,0.185997,0.281018 c2 0.572316,0.169280,0.134286,0.281738 fps 30 res 50 circ 0 gui 0 out 2D_data/test/sph_2D_v02_d005_%03d t_end 0.6666666666666666 c3 0.538035,0.182752,0.196000,0.274803 c4 0.486080,0.096630,0.168540,0.057382 c_cnt 5 sres 2 c0 0.547636,0.106259,0.274128,0.095912 > 2D_data/log/low_log_005.txt ; echo output written into 2D_data/log/low_log_005.txt\n",
      "\n",
      "2D_SPH/build/manta 2D_SPH/scenes/2D_sph.py c1 0.501697,0.072990,0.238044,0.085700 c2 0.614429,0.120625,0.200372,0.209069 fps 30 res 150 circ 0 gui 0 out 2D_data/highres/ref_sph_2D_v02_d006_%03d t_end 0.6666666666666666 c3 0.580438,0.143954,0.193927,0.156000 c4 0.609308,0.066680,0.114569,0.069373 c_cnt 5 sres 2 c0 0.476446,0.173508,0.246122,0.226027 > 2D_data/log/high_log_006.txt ; echo output written into 2D_data/log/high_log_006.txt\n",
      "\n",
      "2D_SPH/build/manta 2D_SPH/scenes/2D_sph.py c1 0.501697,0.072990,0.238044,0.085700 c2 0.614429,0.120625,0.200372,0.209069 fps 30 res 50 circ 0 gui 0 out 2D_data/test/sph_2D_v02_d006_%03d t_end 0.6666666666666666 c3 0.580438,0.143954,0.193927,0.156000 c4 0.609308,0.066680,0.114569,0.069373 c_cnt 5 sres 2 c0 0.476446,0.173508,0.246122,0.226027 > 2D_data/log/low_log_006.txt ; echo output written into 2D_data/log/low_log_006.txt\n",
      "\n",
      "2D_SPH/build/manta 2D_SPH/scenes/2D_sph.py c1 0.511772,0.110198,0.295273,0.124117 c2 0.435116,0.126971,0.181251,0.230396 fps 30 res 150 circ 0 gui 0 out 2D_data/highres/ref_sph_2D_v02_d007_%03d t_end 0.6666666666666666 c_cnt 3 sres 2 c0 0.630168,0.185331,0.294826,0.297181 > 2D_data/log/high_log_007.txt ; echo output written into 2D_data/log/high_log_007.txt\n",
      "\n",
      "2D_SPH/build/manta 2D_SPH/scenes/2D_sph.py c1 0.511772,0.110198,0.295273,0.124117 c2 0.435116,0.126971,0.181251,0.230396 fps 30 res 50 circ 0 gui 0 out 2D_data/test/sph_2D_v02_d007_%03d t_end 0.6666666666666666 c_cnt 3 sres 2 c0 0.630168,0.185331,0.294826,0.297181 > 2D_data/log/low_log_007.txt ; echo output written into 2D_data/log/low_log_007.txt\n",
      "\n",
      "2D_SPH/build/manta 2D_SPH/scenes/2D_sph.py c1 0.438515,0.037668,0.296932,0.071994 c2 0.612935,0.089882,0.219865,0.173905 fps 30 res 150 circ 0 gui 0 out 2D_data/highres/ref_sph_2D_v02_d008_%03d t_end 0.6666666666666666 c3 0.387071,0.136679,0.105943,0.188040 c4 0.473379,0.149652,0.219558,0.159862 c_cnt 5 sres 2 c0 0.622523,0.180344,0.293229,0.165067 > 2D_data/log/high_log_008.txt ; echo output written into 2D_data/log/high_log_008.txt\n",
      "\n",
      "2D_SPH/build/manta 2D_SPH/scenes/2D_sph.py c1 0.438515,0.037668,0.296932,0.071994 c2 0.612935,0.089882,0.219865,0.173905 fps 30 res 50 circ 0 gui 0 out 2D_data/test/sph_2D_v02_d008_%03d t_end 0.6666666666666666 c3 0.387071,0.136679,0.105943,0.188040 c4 0.473379,0.149652,0.219558,0.159862 c_cnt 5 sres 2 c0 0.622523,0.180344,0.293229,0.165067 > 2D_data/log/low_log_008.txt ; echo output written into 2D_data/log/low_log_008.txt\n",
      "\n",
      "2D_SPH/build/manta 2D_SPH/scenes/2D_sph.py c1 0.743277,0.310519,0.058381,0.101029 c2 0.551672,0.306873,0.136154,0.124297 fps 30 res 150 circ 0 gui 0 out 2D_data/highres/ref_sph_2D_v02_d009_%03d t_end 0.6666666666666666 c3 0.614469,0.243552,0.087332,0.036693 c4 0.273137,0.278306,0.045331,0.086502 c_cnt 5 sres 2 c0 0.000000,0.050000,1.000000,0.100000 > 2D_data/log/high_log_009.txt ; echo output written into 2D_data/log/high_log_009.txt\n",
      "\n",
      "2D_SPH/build/manta 2D_SPH/scenes/2D_sph.py c1 0.743277,0.310519,0.058381,0.101029 c2 0.551672,0.306873,0.136154,0.124297 fps 30 res 50 circ 0 gui 0 out 2D_data/test/sph_2D_v02_d009_%03d t_end 0.6666666666666666 c3 0.614469,0.243552,0.087332,0.036693 c4 0.273137,0.278306,0.045331,0.086502 c_cnt 5 sres 2 c0 0.000000,0.050000,1.000000,0.100000 > 2D_data/log/low_log_009.txt ; echo output written into 2D_data/log/low_log_009.txt\n",
      "\n",
      "2D_SPH/build/manta 2D_SPH/scenes/2D_sph.py c1 0.722469,0.281904,0.129642,0.136981 fps 30 res 150 circ 0 gui 0 out 2D_data/highres/ref_sph_2D_v02_d010_%03d t_end 0.6666666666666666 c_cnt 2 sres 2 c0 0.000000,0.050000,1.000000,0.100000 > 2D_data/log/high_log_010.txt ; echo output written into 2D_data/log/high_log_010.txt\n",
      "\n",
      "2D_SPH/build/manta 2D_SPH/scenes/2D_sph.py c1 0.722469,0.281904,0.129642,0.136981 fps 30 res 50 circ 0 gui 0 out 2D_data/test/sph_2D_v02_d010_%03d t_end 0.6666666666666666 c_cnt 2 sres 2 c0 0.000000,0.050000,1.000000,0.100000 > 2D_data/log/low_log_010.txt ; echo output written into 2D_data/log/low_log_010.txt\n",
      "\n",
      "2D_SPH/build/manta 2D_SPH/scenes/2D_sph.py c1 0.292318,0.314154,0.129758,0.078171 c2 0.601309,0.308899,0.131121,0.093291 fps 30 res 150 circ 0 gui 0 out 2D_data/highres/ref_sph_2D_v02_d011_%03d t_end 0.6666666666666666 c_cnt 3 sres 2 c0 0.000000,0.050000,1.000000,0.100000 > 2D_data/log/high_log_011.txt ; echo output written into 2D_data/log/high_log_011.txt\n",
      "\n",
      "2D_SPH/build/manta 2D_SPH/scenes/2D_sph.py c1 0.292318,0.314154,0.129758,0.078171 c2 0.601309,0.308899,0.131121,0.093291 fps 30 res 50 circ 0 gui 0 out 2D_data/test/sph_2D_v02_d011_%03d t_end 0.6666666666666666 c_cnt 3 sres 2 c0 0.000000,0.050000,1.000000,0.100000 > 2D_data/log/low_log_011.txt ; echo output written into 2D_data/log/low_log_011.txt\n",
      "\n",
      "2D_SPH/build/manta 2D_SPH/scenes/2D_sph.py c1 0.267840,0.359346,0.049635,0.025184 c2 0.529587,0.267548,0.082842,0.034490 fps 30 res 150 circ 0 gui 0 out 2D_data/highres/ref_sph_2D_v02_d012_%03d t_end 0.6666666666666666 c3 0.632995,0.287519,0.053091,0.145885 c4 0.676210,0.362261,0.100813,0.060606 c_cnt 5 sres 2 c0 0.000000,0.050000,1.000000,0.100000 > 2D_data/log/high_log_012.txt ; echo output written into 2D_data/log/high_log_012.txt\n",
      "\n",
      "2D_SPH/build/manta 2D_SPH/scenes/2D_sph.py c1 0.267840,0.359346,0.049635,0.025184 c2 0.529587,0.267548,0.082842,0.034490 fps 30 res 50 circ 0 gui 0 out 2D_data/test/sph_2D_v02_d012_%03d t_end 0.6666666666666666 c3 0.632995,0.287519,0.053091,0.145885 c4 0.676210,0.362261,0.100813,0.060606 c_cnt 5 sres 2 c0 0.000000,0.050000,1.000000,0.100000 > 2D_data/log/low_log_012.txt ; echo output written into 2D_data/log/low_log_012.txt\n",
      "\n",
      "2D_SPH/build/manta 2D_SPH/scenes/2D_sph.py c1 0.326521,0.322975,0.135465,0.135424 c2 0.362169,0.287368,0.081341,0.128834 fps 30 res 150 circ 0 gui 0 out 2D_data/highres/ref_sph_2D_v02_d013_%03d t_end 0.6666666666666666 c_cnt 3 sres 2 c0 0.000000,0.050000,1.000000,0.100000 > 2D_data/log/high_log_013.txt ; echo output written into 2D_data/log/high_log_013.txt\n",
      "\n",
      "2D_SPH/build/manta 2D_SPH/scenes/2D_sph.py c1 0.326521,0.322975,0.135465,0.135424 c2 0.362169,0.287368,0.081341,0.128834 fps 30 res 50 circ 0 gui 0 out 2D_data/test/sph_2D_v02_d013_%03d t_end 0.6666666666666666 c_cnt 3 sres 2 c0 0.000000,0.050000,1.000000,0.100000 > 2D_data/log/low_log_013.txt ; echo output written into 2D_data/log/low_log_013.txt\n",
      "\n",
      "2D_SPH/build/manta 2D_SPH/scenes/2D_sph.py c1 0.494437,0.309955,0.085539,0.058233 c2 0.760793,0.311888,0.073184,0.025248 fps 30 res 150 circ 0 gui 0 out 2D_data/highres/ref_sph_2D_v02_d014_%03d t_end 0.6666666666666666 c3 0.588898,0.309128,0.124284,0.145193 c4 0.607810,0.292848,0.040907,0.040401 c_cnt 5 sres 2 c0 0.000000,0.050000,1.000000,0.100000 > 2D_data/log/high_log_014.txt ; echo output written into 2D_data/log/high_log_014.txt\n",
      "\n",
      "2D_SPH/build/manta 2D_SPH/scenes/2D_sph.py c1 0.494437,0.309955,0.085539,0.058233 c2 0.760793,0.311888,0.073184,0.025248 fps 30 res 50 circ 0 gui 0 out 2D_data/test/sph_2D_v02_d014_%03d t_end 0.6666666666666666 c3 0.588898,0.309128,0.124284,0.145193 c4 0.607810,0.292848,0.040907,0.040401 c_cnt 5 sres 2 c0 0.000000,0.050000,1.000000,0.100000 > 2D_data/log/low_log_014.txt ; echo output written into 2D_data/log/low_log_014.txt\n",
      "\n",
      "2D_SPH/build/manta 2D_SPH/scenes/2D_sph.py c1 0.611672,0.284207,0.078403,0.091510 c2 0.738770,0.265685,0.104226,0.025928 fps 30 res 150 circ 0 gui 0 out 2D_data/highres/ref_sph_2D_v02_d015_%03d t_end 0.6666666666666666 c3 0.580859,0.320653,0.118227,0.141824 c4 0.262351,0.246326,0.073872,0.056980 c_cnt 5 sres 2 c0 0.000000,0.050000,1.000000,0.100000 > 2D_data/log/high_log_015.txt ; echo output written into 2D_data/log/high_log_015.txt\n",
      "\n",
      "2D_SPH/build/manta 2D_SPH/scenes/2D_sph.py c1 0.611672,0.284207,0.078403,0.091510 c2 0.738770,0.265685,0.104226,0.025928 fps 30 res 50 circ 0 gui 0 out 2D_data/test/sph_2D_v02_d015_%03d t_end 0.6666666666666666 c3 0.580859,0.320653,0.118227,0.141824 c4 0.262351,0.246326,0.073872,0.056980 c_cnt 5 sres 2 c0 0.000000,0.050000,1.000000,0.100000 > 2D_data/log/low_log_015.txt ; echo output written into 2D_data/log/low_log_015.txt\n",
      "\n",
      "2D_SPH/build/manta 2D_SPH/scenes/2D_sph.py c1 0.262709,0.296716,0.081001,0.081832 c2 0.402386,0.282431,0.072542,0.119662 fps 30 res 150 circ 0 gui 0 out 2D_data/highres/ref_sph_2D_v02_d016_%03d t_end 0.6666666666666666 c3 0.621630,0.330696,0.126396,0.119403 c4 0.338394,0.302878,0.122075,0.137794 c_cnt 5 sres 2 c0 0.000000,0.050000,1.000000,0.100000 > 2D_data/log/high_log_016.txt ; echo output written into 2D_data/log/high_log_016.txt\n",
      "\n",
      "2D_SPH/build/manta 2D_SPH/scenes/2D_sph.py c1 0.262709,0.296716,0.081001,0.081832 c2 0.402386,0.282431,0.072542,0.119662 fps 30 res 50 circ 0 gui 0 out 2D_data/test/sph_2D_v02_d016_%03d t_end 0.6666666666666666 c3 0.621630,0.330696,0.126396,0.119403 c4 0.338394,0.302878,0.122075,0.137794 c_cnt 5 sres 2 c0 0.000000,0.050000,1.000000,0.100000 > 2D_data/log/low_log_016.txt ; echo output written into 2D_data/log/low_log_016.txt\n",
      "\n",
      "2D_SPH/build/manta 2D_SPH/scenes/2D_sph.py c1 0.637495,0.369115,0.087911,0.058983 c2 0.329725,0.325000,0.029922,0.103135 fps 30 res 150 circ 0 gui 0 out 2D_data/highres/ref_sph_2D_v02_d017_%03d t_end 0.6666666666666666 c3 0.685470,0.289317,0.122514,0.104446 c_cnt 4 sres 2 c0 0.000000,0.050000,1.000000,0.100000 > 2D_data/log/high_log_017.txt ; echo output written into 2D_data/log/high_log_017.txt\n",
      "\n",
      "2D_SPH/build/manta 2D_SPH/scenes/2D_sph.py c1 0.637495,0.369115,0.087911,0.058983 c2 0.329725,0.325000,0.029922,0.103135 fps 30 res 50 circ 0 gui 0 out 2D_data/test/sph_2D_v02_d017_%03d t_end 0.6666666666666666 c3 0.685470,0.289317,0.122514,0.104446 c_cnt 4 sres 2 c0 0.000000,0.050000,1.000000,0.100000 > 2D_data/log/low_log_017.txt ; echo output written into 2D_data/log/low_log_017.txt\n",
      "\n",
      "2D_SPH/build/manta 2D_SPH/scenes/2D_sph.py c1 0.390386,0.187601,0.243708,0.235938 c2 0.539624,0.136863,0.050487,0.078147 fps 30 res 150 circ 0 gui 0 out 2D_data/highres/ref_sph_2D_v02_d018_%03d t_end 0.6666666666666666 c_cnt 3 sres 2 c0 0.416954,0.137595,0.121428,0.187509 > 2D_data/log/high_log_018.txt ; echo output written into 2D_data/log/high_log_018.txt\n",
      "\n",
      "2D_SPH/build/manta 2D_SPH/scenes/2D_sph.py c1 0.390386,0.187601,0.243708,0.235938 c2 0.539624,0.136863,0.050487,0.078147 fps 30 res 50 circ 0 gui 0 out 2D_data/test/sph_2D_v02_d018_%03d t_end 0.6666666666666666 c_cnt 3 sres 2 c0 0.416954,0.137595,0.121428,0.187509 > 2D_data/log/low_log_018.txt ; echo output written into 2D_data/log/low_log_018.txt\n",
      "\n",
      "2D_SPH/build/manta 2D_SPH/scenes/2D_sph.py c1 0.266501,0.279644,0.082800,0.121546 fps 30 res 150 circ 0 gui 0 out 2D_data/highres/ref_sph_2D_v02_d019_%03d t_end 0.6666666666666666 c_cnt 2 sres 2 c0 0.000000,0.050000,1.000000,0.100000 > 2D_data/log/high_log_019.txt ; echo output written into 2D_data/log/high_log_019.txt\n",
      "\n",
      "2D_SPH/build/manta 2D_SPH/scenes/2D_sph.py c1 0.266501,0.279644,0.082800,0.121546 fps 30 res 50 circ 0 gui 0 out 2D_data/test/sph_2D_v02_d019_%03d t_end 0.6666666666666666 c_cnt 2 sres 2 c0 0.000000,0.050000,1.000000,0.100000 > 2D_data/log/low_log_019.txt ; echo output written into 2D_data/log/low_log_019.txt\n",
      "\n"
     ]
    }
   ],
   "source": [
    "import random\n",
    "\n",
    "#remove_data(ref_prefix)\n",
    "\n",
    "run = False\n",
    "if not run: print(\"PRINTS ONLY CALLS! RUN NOT ACTIVATED\\n\")\n",
    "    \n",
    "param = {}\n",
    "\n",
    "#disable gui\n",
    "param['gui'] = 0\n",
    "\n",
    "param['sres'] = data_param.sub_res\n",
    "\n",
    "# write only every 30th frame -> 30 frames are one timestep\n",
    "param['fps'] = data_param.fps\n",
    "\n",
    "# simulation time (how many frames)\n",
    "param['t_end'] = float(data_param.frame_count) / data_param.fps\n",
    "\n",
    "# run random training setups\n",
    "random.seed(data_param.seed)\n",
    "\n",
    "def call_dataset_gen(var0,var1,var2,off):\n",
    "    if run: print(\"var0: %d, var1: %d, var2: %d\" % (var0, var1, var2))\n",
    "\n",
    "    def run_gen(cubes,cnt):\n",
    "        param['c_cnt'] = len(cubes)\n",
    "        \n",
    "        param['res'] = data_param.res\n",
    "        param['out'] = (ref_prefix + \"_d%03d\")%cnt + \"_%03d\"\n",
    "        run_manta(\"scenes/2D_sph.py\", dict(param, **cubes), run, data_loc + \"log/high_log_%03d.txt\"%off)\n",
    "        \n",
    "        param['res'] = low_res\n",
    "        param['out'] = (test_prefix + \"_d%03d\")%cnt + \"_%03d\"\n",
    "        run_manta(\"scenes/2D_sph.py\", dict(param, **cubes), run, data_loc + \"log/low_log_%03d.txt\"%off)\n",
    "        \n",
    "    param['circ'] = 0\n",
    "    for i in range(var0):\n",
    "        # generate different cubes with dataformat \"pos_x,pos_y,scale_x,scale_y\"\n",
    "        cubes = {}\n",
    "        for c in range(random.randint(1,data_param.max_cnt)):    \n",
    "            scx = random.uniform(data_param.min_scale, data_param.max_scale)\n",
    "            scy = random.uniform(data_param.min_scale, data_param.max_scale)\n",
    "            px = random.uniform(data_param.min_pos+scx/2, data_param.max_pos-scx/2)\n",
    "            py = random.uniform(0, data_param.max_h) + scy/2\n",
    "            cubes['c%d'%c] = \"%f,%f,%f,%f\"%(px,py,scx,scy)\n",
    "        run_gen(cubes,off)\n",
    "        off+=1\n",
    "        \n",
    "\n",
    "    for i in range(var1):\n",
    "        cubes = {}\n",
    "        scy = data_param.max_h\n",
    "        cubes['c0'] = \"%f,%f,%f,%f\"%(0, scy/2, 1, scy)\n",
    "        for c in range(1,random.randint(2,data_param.max_cnt)):    \n",
    "            scx = random.uniform(data_param.min_scale, data_param.max_scale)*0.5\n",
    "            scy = random.uniform(data_param.min_scale, data_param.max_scale)*0.5\n",
    "            px = random.uniform(data_param.min_pos+scx/2, data_param.max_pos-scx/2)\n",
    "            py = random.uniform(data_param.min_pos+scy/2, data_param.max_pos*0.5-scy/2)\n",
    "            cubes['c%d'%c] = \"%f,%f,%f,%f\"%(px,py,scx,scy)\n",
    "        run_gen(cubes, off)\n",
    "        off+=1\n",
    "\n",
    "    param['circ'] = data_param.circ_vel\n",
    "    for i in range(var2):\n",
    "        cubes = {}\n",
    "        for c in range(random.randint(2,data_param.max_cnt)):    \n",
    "            scx = random.uniform(data_param.min_scale, data_param.max_scale)*0.5\n",
    "            scy = random.uniform(data_param.min_scale, data_param.max_scale)*0.5\n",
    "            px = random.uniform(data_param.min_pos+scx/2, data_param.max_pos-scx/2)\n",
    "            py = random.uniform(data_param.min_pos+scy/2, data_param.max_pos-scy/2)\n",
    "            cubes['c%d'%c] = \"%f,%f,%f,%f\"%(px,py,scx,scy)\n",
    "        run_gen(cubes, off)\n",
    "        off+=1\n",
    "    \n",
    "var1 = int(nn_param.train_data_count * data_param.var1)\n",
    "var2 = int(nn_param.train_data_count * data_param.var2)\n",
    "var0 = nn_param.train_data_count - var1 - var2\n",
    " \n",
    "call_dataset_gen(var0,var1,var2,0)\n",
    "\n",
    "var1 = int(nn_param.test_data_count * data_param.var1)\n",
    "var2 = int(nn_param.test_data_count * data_param.var2)\n",
    "var0 = nn_param.test_data_count - var1 - var2\n",
    "\n",
    "call_dataset_gen(var0,var1,var2,nn_param.train_data_count)"
   ]
  },
  {
   "cell_type": "markdown",
   "metadata": {},
   "source": [
    "### Generate Low-res Data"
   ]
  },
  {
   "cell_type": "code",
   "execution_count": 13,
   "metadata": {
    "collapsed": false
   },
   "outputs": [
    {
     "name": "stdout",
     "output_type": "stream",
     "text": [
      "2D_SPH/build/manta 2D_SPH/scenes/down_scale.py t 20 upres 0 in 2D_data/highres/ref_sph_2D_v02_d000_%03d res 150 seed 20622653208 gui 0 sres 2 factor 9 min_n 0 out 2D_data/lowres/sph_2D_v02-01_d000_var00_%03d\n",
      "\n",
      "2D_SPH/build/manta 2D_SPH/scenes/down_scale.py t 20 upres 0 in 2D_data/highres/ref_sph_2D_v02_d001_%03d res 150 seed 30326057822 gui 0 sres 2 factor 9 min_n 0 out 2D_data/lowres/sph_2D_v02-01_d001_var00_%03d\n",
      "\n",
      "2D_SPH/build/manta 2D_SPH/scenes/down_scale.py t 20 upres 0 in 2D_data/highres/ref_sph_2D_v02_d002_%03d res 150 seed 40887929364 gui 0 sres 2 factor 9 min_n 0 out 2D_data/lowres/sph_2D_v02-01_d002_var00_%03d\n",
      "\n",
      "2D_SPH/build/manta 2D_SPH/scenes/down_scale.py t 20 upres 0 in 2D_data/highres/ref_sph_2D_v02_d003_%03d res 150 seed 38102557851 gui 0 sres 2 factor 9 min_n 0 out 2D_data/lowres/sph_2D_v02-01_d003_var00_%03d\n",
      "\n",
      "2D_SPH/build/manta 2D_SPH/scenes/down_scale.py t 20 upres 0 in 2D_data/highres/ref_sph_2D_v02_d004_%03d res 150 seed 6317905639 gui 0 sres 2 factor 9 min_n 0 out 2D_data/lowres/sph_2D_v02-01_d004_var00_%03d\n",
      "\n",
      "2D_SPH/build/manta 2D_SPH/scenes/down_scale.py t 20 upres 0 in 2D_data/highres/ref_sph_2D_v02_d005_%03d res 150 seed 20787362080 gui 0 sres 2 factor 9 min_n 0 out 2D_data/lowres/sph_2D_v02-01_d005_var00_%03d\n",
      "\n",
      "2D_SPH/build/manta 2D_SPH/scenes/down_scale.py t 20 upres 0 in 2D_data/highres/ref_sph_2D_v02_d006_%03d res 150 seed 31166487843 gui 0 sres 2 factor 9 min_n 0 out 2D_data/lowres/sph_2D_v02-01_d006_var00_%03d\n",
      "\n",
      "2D_SPH/build/manta 2D_SPH/scenes/down_scale.py t 20 upres 0 in 2D_data/highres/ref_sph_2D_v02_d007_%03d res 150 seed 4108566095 gui 0 sres 2 factor 9 min_n 0 out 2D_data/lowres/sph_2D_v02-01_d007_var00_%03d\n",
      "\n",
      "2D_SPH/build/manta 2D_SPH/scenes/down_scale.py t 20 upres 0 in 2D_data/highres/ref_sph_2D_v02_d008_%03d res 150 seed 20366693889 gui 0 sres 2 factor 9 min_n 0 out 2D_data/lowres/sph_2D_v02-01_d008_var00_%03d\n",
      "\n",
      "2D_SPH/build/manta 2D_SPH/scenes/down_scale.py t 20 upres 0 in 2D_data/highres/ref_sph_2D_v02_d009_%03d res 150 seed 35241935584 gui 0 sres 2 factor 9 min_n 0 out 2D_data/lowres/sph_2D_v02-01_d009_var00_%03d\n",
      "\n",
      "2D_SPH/build/manta 2D_SPH/scenes/down_scale.py t 20 upres 0 in 2D_data/highres/ref_sph_2D_v02_d010_%03d res 150 seed 37390578141 gui 0 sres 2 factor 9 min_n 0 out 2D_data/lowres/sph_2D_v02-01_d010_var00_%03d\n",
      "\n",
      "2D_SPH/build/manta 2D_SPH/scenes/down_scale.py t 20 upres 0 in 2D_data/highres/ref_sph_2D_v02_d011_%03d res 150 seed 9137097219 gui 0 sres 2 factor 9 min_n 0 out 2D_data/lowres/sph_2D_v02-01_d011_var00_%03d\n",
      "\n",
      "2D_SPH/build/manta 2D_SPH/scenes/down_scale.py t 20 upres 0 in 2D_data/highres/ref_sph_2D_v02_d012_%03d res 150 seed 25265137579 gui 0 sres 2 factor 9 min_n 0 out 2D_data/lowres/sph_2D_v02-01_d012_var00_%03d\n",
      "\n",
      "2D_SPH/build/manta 2D_SPH/scenes/down_scale.py t 20 upres 0 in 2D_data/highres/ref_sph_2D_v02_d013_%03d res 150 seed 16207417611 gui 0 sres 2 factor 9 min_n 0 out 2D_data/lowres/sph_2D_v02-01_d013_var00_%03d\n",
      "\n",
      "2D_SPH/build/manta 2D_SPH/scenes/down_scale.py t 20 upres 0 in 2D_data/highres/ref_sph_2D_v02_d014_%03d res 150 seed 24200234716 gui 0 sres 2 factor 9 min_n 0 out 2D_data/lowres/sph_2D_v02-01_d014_var00_%03d\n",
      "\n",
      "2D_SPH/build/manta 2D_SPH/scenes/down_scale.py t 20 upres 0 in 2D_data/highres/ref_sph_2D_v02_d015_%03d res 150 seed 44803536563 gui 0 sres 2 factor 9 min_n 0 out 2D_data/lowres/sph_2D_v02-01_d015_var00_%03d\n",
      "\n",
      "2D_SPH/build/manta 2D_SPH/scenes/down_scale.py t 20 upres 0 in 2D_data/highres/ref_sph_2D_v02_d016_%03d res 150 seed 29422784967 gui 0 sres 2 factor 9 min_n 0 out 2D_data/lowres/sph_2D_v02-01_d016_var00_%03d\n",
      "\n",
      "2D_SPH/build/manta 2D_SPH/scenes/down_scale.py t 20 upres 0 in 2D_data/highres/ref_sph_2D_v02_d017_%03d res 150 seed 9226441231 gui 0 sres 2 factor 9 min_n 0 out 2D_data/lowres/sph_2D_v02-01_d017_var00_%03d\n",
      "\n",
      "2D_SPH/build/manta 2D_SPH/scenes/down_scale.py t 20 upres 0 in 2D_data/highres/ref_sph_2D_v02_d018_%03d res 150 seed 15028098246 gui 0 sres 2 factor 9 min_n 0 out 2D_data/lowres/sph_2D_v02-01_d018_var00_%03d\n",
      "\n",
      "2D_SPH/build/manta 2D_SPH/scenes/down_scale.py t 20 upres 0 in 2D_data/highres/ref_sph_2D_v02_d019_%03d res 150 seed 18439349572 gui 0 sres 2 factor 9 min_n 0 out 2D_data/lowres/sph_2D_v02-01_d019_var00_%03d\n",
      "\n"
     ]
    }
   ],
   "source": [
    "import random\n",
    "\n",
    "param = {}\n",
    "\n",
    "param['res'] = data_param.res\n",
    "param['sres'] = data_param.sub_res\n",
    "param['upres'] = pre_param.upres\n",
    " \n",
    "param['factor'] = pre_param.factor\n",
    "param['gui'] = 0\n",
    "param['t'] = data_param.frame_count\n",
    "param['min_n'] = pre_param.min_n\n",
    "\n",
    "random.seed(data_param.seed)\n",
    "\n",
    "for i in range(data_count):\n",
    "    for j in range(pre_param.var):\n",
    "        param['seed'] = random.randint(0,45820438204)\n",
    "        param['in'] = (ref_prefix + \"_d%03d\")%(i) + \"_%03d\"\n",
    "        param['out'] = (src_prefix + \"_d%03d_var%02d\")%(i,j) + \"_%03d\"\n",
    "        run_manta(\"scenes/down_scale.py\", param)"
   ]
  },
  {
   "cell_type": "markdown",
   "metadata": {},
   "source": [
    "### Extract Surface-Patches"
   ]
  },
  {
   "cell_type": "code",
   "execution_count": 14,
   "metadata": {
    "collapsed": false
   },
   "outputs": [
    {
     "name": "stdout",
     "output_type": "stream",
     "text": [
      "2D_SPH/build/manta 2D_SPH/scenes/extract_patches.py t 20 h_in 2D_data/highres/ref_sph_2D_v02_d000_%03d hpsize 15 l_out 2D_data/patches/lowres/sph_2D_v02-01_d000_var00_%03d h_fac 4.0 l_fac 12.0 stride 2 h_out 2D_data/patches/highres/ref_sph_2D_v02-01_d000_var00_%03d tanh 1 psize 5 l_in 2D_data/lowres/sph_2D_v02-01_d000_var00_%03d surface 0.5\n",
      "\n",
      "2D_SPH/build/manta 2D_SPH/scenes/extract_patches.py t 20 h_in 2D_data/highres/ref_sph_2D_v02_d001_%03d hpsize 15 l_out 2D_data/patches/lowres/sph_2D_v02-01_d001_var00_%03d h_fac 4.0 l_fac 12.0 stride 2 h_out 2D_data/patches/highres/ref_sph_2D_v02-01_d001_var00_%03d tanh 1 psize 5 l_in 2D_data/lowres/sph_2D_v02-01_d001_var00_%03d surface 0.5\n",
      "\n",
      "2D_SPH/build/manta 2D_SPH/scenes/extract_patches.py t 20 h_in 2D_data/highres/ref_sph_2D_v02_d002_%03d hpsize 15 l_out 2D_data/patches/lowres/sph_2D_v02-01_d002_var00_%03d h_fac 4.0 l_fac 12.0 stride 2 h_out 2D_data/patches/highres/ref_sph_2D_v02-01_d002_var00_%03d tanh 1 psize 5 l_in 2D_data/lowres/sph_2D_v02-01_d002_var00_%03d surface 0.5\n",
      "\n",
      "2D_SPH/build/manta 2D_SPH/scenes/extract_patches.py t 20 h_in 2D_data/highres/ref_sph_2D_v02_d003_%03d hpsize 15 l_out 2D_data/patches/lowres/sph_2D_v02-01_d003_var00_%03d h_fac 4.0 l_fac 12.0 stride 2 h_out 2D_data/patches/highres/ref_sph_2D_v02-01_d003_var00_%03d tanh 1 psize 5 l_in 2D_data/lowres/sph_2D_v02-01_d003_var00_%03d surface 0.5\n",
      "\n",
      "2D_SPH/build/manta 2D_SPH/scenes/extract_patches.py t 20 h_in 2D_data/highres/ref_sph_2D_v02_d004_%03d hpsize 15 l_out 2D_data/patches/lowres/sph_2D_v02-01_d004_var00_%03d h_fac 4.0 l_fac 12.0 stride 2 h_out 2D_data/patches/highres/ref_sph_2D_v02-01_d004_var00_%03d tanh 1 psize 5 l_in 2D_data/lowres/sph_2D_v02-01_d004_var00_%03d surface 0.5\n",
      "\n",
      "2D_SPH/build/manta 2D_SPH/scenes/extract_patches.py t 20 h_in 2D_data/highres/ref_sph_2D_v02_d005_%03d hpsize 15 l_out 2D_data/patches/lowres/sph_2D_v02-01_d005_var00_%03d h_fac 4.0 l_fac 12.0 stride 2 h_out 2D_data/patches/highres/ref_sph_2D_v02-01_d005_var00_%03d tanh 1 psize 5 l_in 2D_data/lowres/sph_2D_v02-01_d005_var00_%03d surface 0.5\n",
      "\n",
      "2D_SPH/build/manta 2D_SPH/scenes/extract_patches.py t 20 h_in 2D_data/highres/ref_sph_2D_v02_d006_%03d hpsize 15 l_out 2D_data/patches/lowres/sph_2D_v02-01_d006_var00_%03d h_fac 4.0 l_fac 12.0 stride 2 h_out 2D_data/patches/highres/ref_sph_2D_v02-01_d006_var00_%03d tanh 1 psize 5 l_in 2D_data/lowres/sph_2D_v02-01_d006_var00_%03d surface 0.5\n",
      "\n",
      "2D_SPH/build/manta 2D_SPH/scenes/extract_patches.py t 20 h_in 2D_data/highres/ref_sph_2D_v02_d007_%03d hpsize 15 l_out 2D_data/patches/lowres/sph_2D_v02-01_d007_var00_%03d h_fac 4.0 l_fac 12.0 stride 2 h_out 2D_data/patches/highres/ref_sph_2D_v02-01_d007_var00_%03d tanh 1 psize 5 l_in 2D_data/lowres/sph_2D_v02-01_d007_var00_%03d surface 0.5\n",
      "\n",
      "2D_SPH/build/manta 2D_SPH/scenes/extract_patches.py t 20 h_in 2D_data/highres/ref_sph_2D_v02_d008_%03d hpsize 15 l_out 2D_data/patches/lowres/sph_2D_v02-01_d008_var00_%03d h_fac 4.0 l_fac 12.0 stride 2 h_out 2D_data/patches/highres/ref_sph_2D_v02-01_d008_var00_%03d tanh 1 psize 5 l_in 2D_data/lowres/sph_2D_v02-01_d008_var00_%03d surface 0.5\n",
      "\n",
      "2D_SPH/build/manta 2D_SPH/scenes/extract_patches.py t 20 h_in 2D_data/highres/ref_sph_2D_v02_d009_%03d hpsize 15 l_out 2D_data/patches/lowres/sph_2D_v02-01_d009_var00_%03d h_fac 4.0 l_fac 12.0 stride 2 h_out 2D_data/patches/highres/ref_sph_2D_v02-01_d009_var00_%03d tanh 1 psize 5 l_in 2D_data/lowres/sph_2D_v02-01_d009_var00_%03d surface 0.5\n",
      "\n",
      "2D_SPH/build/manta 2D_SPH/scenes/extract_patches.py t 20 h_in 2D_data/highres/ref_sph_2D_v02_d010_%03d hpsize 15 l_out 2D_data/patches/lowres/sph_2D_v02-01_d010_var00_%03d h_fac 4.0 l_fac 12.0 stride 2 h_out 2D_data/patches/highres/ref_sph_2D_v02-01_d010_var00_%03d tanh 1 psize 5 l_in 2D_data/lowres/sph_2D_v02-01_d010_var00_%03d surface 0.5\n",
      "\n",
      "2D_SPH/build/manta 2D_SPH/scenes/extract_patches.py t 20 h_in 2D_data/highres/ref_sph_2D_v02_d011_%03d hpsize 15 l_out 2D_data/patches/lowres/sph_2D_v02-01_d011_var00_%03d h_fac 4.0 l_fac 12.0 stride 2 h_out 2D_data/patches/highres/ref_sph_2D_v02-01_d011_var00_%03d tanh 1 psize 5 l_in 2D_data/lowres/sph_2D_v02-01_d011_var00_%03d surface 0.5\n",
      "\n",
      "2D_SPH/build/manta 2D_SPH/scenes/extract_patches.py t 20 h_in 2D_data/highres/ref_sph_2D_v02_d012_%03d hpsize 15 l_out 2D_data/patches/lowres/sph_2D_v02-01_d012_var00_%03d h_fac 4.0 l_fac 12.0 stride 2 h_out 2D_data/patches/highres/ref_sph_2D_v02-01_d012_var00_%03d tanh 1 psize 5 l_in 2D_data/lowres/sph_2D_v02-01_d012_var00_%03d surface 0.5\n",
      "\n",
      "2D_SPH/build/manta 2D_SPH/scenes/extract_patches.py t 20 h_in 2D_data/highres/ref_sph_2D_v02_d013_%03d hpsize 15 l_out 2D_data/patches/lowres/sph_2D_v02-01_d013_var00_%03d h_fac 4.0 l_fac 12.0 stride 2 h_out 2D_data/patches/highres/ref_sph_2D_v02-01_d013_var00_%03d tanh 1 psize 5 l_in 2D_data/lowres/sph_2D_v02-01_d013_var00_%03d surface 0.5\n",
      "\n",
      "2D_SPH/build/manta 2D_SPH/scenes/extract_patches.py t 20 h_in 2D_data/highres/ref_sph_2D_v02_d014_%03d hpsize 15 l_out 2D_data/patches/lowres/sph_2D_v02-01_d014_var00_%03d h_fac 4.0 l_fac 12.0 stride 2 h_out 2D_data/patches/highres/ref_sph_2D_v02-01_d014_var00_%03d tanh 1 psize 5 l_in 2D_data/lowres/sph_2D_v02-01_d014_var00_%03d surface 0.5\n",
      "\n",
      "2D_SPH/build/manta 2D_SPH/scenes/extract_patches.py t 20 h_in 2D_data/highres/ref_sph_2D_v02_d015_%03d hpsize 15 l_out 2D_data/patches/lowres/sph_2D_v02-01_d015_var00_%03d h_fac 4.0 l_fac 12.0 stride 2 h_out 2D_data/patches/highres/ref_sph_2D_v02-01_d015_var00_%03d tanh 1 psize 5 l_in 2D_data/lowres/sph_2D_v02-01_d015_var00_%03d surface 0.5\n",
      "\n",
      "2D_SPH/build/manta 2D_SPH/scenes/extract_patches.py t 20 h_in 2D_data/highres/ref_sph_2D_v02_d016_%03d hpsize 15 l_out 2D_data/patches/lowres/sph_2D_v02-01_d016_var00_%03d h_fac 4.0 l_fac 12.0 stride 2 h_out 2D_data/patches/highres/ref_sph_2D_v02-01_d016_var00_%03d tanh 1 psize 5 l_in 2D_data/lowres/sph_2D_v02-01_d016_var00_%03d surface 0.5\n",
      "\n",
      "2D_SPH/build/manta 2D_SPH/scenes/extract_patches.py t 20 h_in 2D_data/highres/ref_sph_2D_v02_d017_%03d hpsize 15 l_out 2D_data/patches/lowres/sph_2D_v02-01_d017_var00_%03d h_fac 4.0 l_fac 12.0 stride 2 h_out 2D_data/patches/highres/ref_sph_2D_v02-01_d017_var00_%03d tanh 1 psize 5 l_in 2D_data/lowres/sph_2D_v02-01_d017_var00_%03d surface 0.5\n",
      "\n",
      "2D_SPH/build/manta 2D_SPH/scenes/extract_patches.py t 20 h_in 2D_data/highres/ref_sph_2D_v02_d018_%03d hpsize 15 l_out 2D_data/patches/lowres/sph_2D_v02-01_d018_var00_%03d h_fac 4.0 l_fac 12.0 stride 2 h_out 2D_data/patches/highres/ref_sph_2D_v02-01_d018_var00_%03d tanh 1 psize 5 l_in 2D_data/lowres/sph_2D_v02-01_d018_var00_%03d surface 0.5\n",
      "\n",
      "2D_SPH/build/manta 2D_SPH/scenes/extract_patches.py t 20 h_in 2D_data/highres/ref_sph_2D_v02_d019_%03d hpsize 15 l_out 2D_data/patches/lowres/sph_2D_v02-01_d019_var00_%03d h_fac 4.0 l_fac 12.0 stride 2 h_out 2D_data/patches/highres/ref_sph_2D_v02-01_d019_var00_%03d tanh 1 psize 5 l_in 2D_data/lowres/sph_2D_v02-01_d019_var00_%03d surface 0.5\n",
      "\n"
     ]
    }
   ],
   "source": [
    "src_patches_path = \"%spatches/%s/%s_v%02d-%02d\" % (data_loc, src, data_param.prefix, version_combi.data, version_combi.pre)\n",
    "ref_patches_path = \"%spatches/%s/ref_%s_v%02d-%02d\" % (data_loc, ref, data_param.prefix, version_combi.data, version_combi.pre)\n",
    "\n",
    "#remove_data(src_patches_path)\n",
    "#remove_data(ref_patches_path)\n",
    "\n",
    "param = {}\n",
    "\n",
    "param[\"t\"] = data_param.frame_count\n",
    "\n",
    "# patch size\n",
    "param[\"psize\"] = pre_param.patch_size\n",
    "param[\"stride\"] = pre_param.stride\n",
    "\n",
    "param[\"hpsize\"] = high_patch_size\n",
    "\n",
    "param[\"l_fac\"] = pre_param.l_fac\n",
    "param[\"h_fac\"] = pre_param.h_fac\n",
    "param[\"tanh\"] = pre_param.use_tanh\n",
    "\n",
    "# tolerance of surface\n",
    "param[\"surface\"] = pre_param.surf\n",
    "\n",
    "for i in range(data_count):\n",
    "    for j in range(pre_param.var):\n",
    "        param[\"h_in\"] = ref_prefix + \"_d%03d\"%(i) + \"_%03d\"\n",
    "        param[\"l_in\"] = src_prefix + \"_d%03d_var%02d\"%(i,j) + \"_%03d\"\n",
    "        param[\"h_out\"] = ref_patches_path + \"_d%03d_var%02d\"%(i,j) + \"_%03d\"\n",
    "        param[\"l_out\"] = src_patches_path + \"_d%03d_var%02d\"%(i,j) + \"_%03d\"\n",
    "        run_manta(\"scenes/extract_patches.py\", param)"
   ]
  },
  {
   "cell_type": "markdown",
   "metadata": {},
   "source": [
    "### Show Data"
   ]
  },
  {
   "cell_type": "markdown",
   "metadata": {},
   "source": [
    "**Show low-res data-sets:**"
   ]
  },
  {
   "cell_type": "code",
   "execution_count": 16,
   "metadata": {
    "collapsed": false,
    "scrolled": true
   },
   "outputs": [
    {
     "name": "stdout",
     "output_type": "stream",
     "text": [
      "2D_SPH/build/manta 2D_SPH/scenes/show_particles.py res 50 in 2D_data/lowres/sph_2D_v02-01_d019_var00_%03d_ps.uni sdf 2D_data/lowres/sph_2D_v02-01_d019_var00_%03d_sdf.uni t 20\n",
      "\n"
     ]
    }
   ],
   "source": [
    "param = {}\n",
    "dataset = 19\n",
    "var = 0\n",
    "\n",
    "# show low res\n",
    "param['in'] = src_prefix + \"_d%03d_var%02d\"%(dataset,var) + \"_%03d_ps.uni\"\n",
    "param['sdf'] = src_prefix + \"_d%03d_var%02d\"%(dataset,var) + \"_%03d_sdf.uni\"\n",
    "param['t'] = data_param.frame_count\n",
    "param['res'] = low_res\n",
    "\n",
    "#param['scr'] = #create_curr_date_folder(data_loc+'screenshots/') + \"sph_%03d_sdf.png\"\n",
    "\n",
    "run_manta(\"scenes/show_particles.py\", param)"
   ]
  },
  {
   "cell_type": "markdown",
   "metadata": {},
   "source": [
    "**Show real low-res data-sets:**"
   ]
  },
  {
   "cell_type": "code",
   "execution_count": 78,
   "metadata": {
    "collapsed": false
   },
   "outputs": [
    {
     "name": "stdout",
     "output_type": "stream",
     "text": [
      "2D_SPH/build/manta 2D_SPH/scenes/show_particles.py res 50 sdf 2D_data/test/sph_2D_v02_d019_%03d_sdf.uni in 2D_data/test/sph_2D_v02_d019_%03d_ps.uni t 20\n",
      "\n"
     ]
    }
   ],
   "source": [
    "param = {}\n",
    "dataset = 19\n",
    "\n",
    "# show high res\n",
    "param['in'] = test_prefix + \"_d%03d\"%dataset + \"_%03d_ps.uni\"\n",
    "param['sdf'] = test_prefix + \"_d%03d\"%dataset + \"_%03d_sdf.uni\"\n",
    "param['t'] = data_param.frame_count\n",
    "param['res'] = low_res\n",
    "\n",
    "#param['scr'] = create_curr_date_folder(data_loc+'screenshots/') + \"sph_real_%03d_sdf_ref.png\"\n",
    "\n",
    "run_manta(\"scenes/show_particles.py\", param)"
   ]
  },
  {
   "cell_type": "markdown",
   "metadata": {},
   "source": [
    "**Show high-res data-sets:**"
   ]
  },
  {
   "cell_type": "code",
   "execution_count": 79,
   "metadata": {
    "collapsed": false,
    "scrolled": true
   },
   "outputs": [
    {
     "name": "stdout",
     "output_type": "stream",
     "text": [
      "2D_SPH/build/manta 2D_SPH/scenes/show_particles.py res 150 sdf 2D_data/highres/ref_sph_2D_v02_d019_%03d_sdf.uni in 2D_data/highres/ref_sph_2D_v02_d019_%03d_ps.uni t 20\n",
      "\n"
     ]
    }
   ],
   "source": [
    "param = {}\n",
    "dataset = 19\n",
    "\n",
    "# show high res\n",
    "param['in'] = ref_prefix + \"_d%03d\"%dataset + \"_%03d_ps.uni\"\n",
    "param['sdf'] = ref_prefix + \"_d%03d\"%dataset + \"_%03d_sdf.uni\"\n",
    "param['t'] = data_param.frame_count\n",
    "param['res'] = data_param.res\n",
    "\n",
    "#param['scr'] = create_curr_date_folder(data_loc+'screenshots/') + \"sph_%03d_sdf_ref.png\"\n",
    "\n",
    "run_manta(\"scenes/show_particles.py\", param)"
   ]
  },
  {
   "cell_type": "markdown",
   "metadata": {},
   "source": [
    "**Show patches:**"
   ]
  },
  {
   "cell_type": "code",
   "execution_count": 25,
   "metadata": {
    "collapsed": false,
    "scrolled": true
   },
   "outputs": [
    {
     "name": "stdout",
     "output_type": "stream",
     "text": [
      "2D_SPH/build/manta 2D_SPH/scenes/show_patches.py vel 2D_data/patches/lowres/sph_2D_v01-01_d000_010_vel src 2D_data/patches/lowres/sph_2D_v01-01_d000_010_sdf ref 2D_data/patches/highres/ref_sph_2D_v01-01_d000_010_sdf psize 5 ps 2D_data/patches/lowres/sph_2D_v01-01_d000_010_ps hpsize 15 t 1\n",
      "\n",
      "Traceback (most recent call last):\n",
      "\n",
      "  File \"2D_SPH/scenes/show_patches.py\", line 141, in <module>\n",
      "\n",
      "    s.step()\n",
      "\n",
      "RuntimeError: User interrupt\n",
      "\n"
     ]
    }
   ],
   "source": [
    "param = {}\n",
    "dataset = 0\n",
    "timestep = 10\n",
    "var = 0\n",
    "\n",
    "# show patches\n",
    "param['src'] = src_patches_path + \"_d%03d_var%02d\"%(dataset,var) + \"_%03d_sdf\"%timestep\n",
    "param['vel'] = src_patches_path + \"_d%03d_var%02d\"%(dataset,var) + \"_%03d_vel\"%timestep\n",
    "param['ps'] =  src_patches_path + \"_d%03d_var%02d\"%(dataset,var) + \"_%03d_ps\" %timestep\n",
    "param['ref'] = ref_patches_path + \"_d%03d_var%02d\"%(dataset,var) + \"_%03d_sdf\"%timestep\n",
    "param['psize'] = pre_param.patch_size\n",
    "param['hpsize'] = high_patch_size\n",
    "param['t'] = 1#data_param.frame_count\n",
    "\n",
    "#param['scr'] = create_curr_date_folder(data_loc+'screenshots/') + \"sph_patch_%03d_sdf_ref.png\"\n",
    "\n",
    "run_manta(\"scenes/show_patches.py\", param)"
   ]
  },
  {
   "cell_type": "markdown",
   "metadata": {},
   "source": [
    "## Train Neural Network"
   ]
  },
  {
   "cell_type": "markdown",
   "metadata": {},
   "source": [
    "### Load Data"
   ]
  },
  {
   "cell_type": "code",
   "execution_count": 17,
   "metadata": {
    "collapsed": false,
    "scrolled": false
   },
   "outputs": [
    {
     "name": "stdout",
     "output_type": "stream",
     "text": [
      "2D_data/patches/lowres/sph_2D_v02-01_d%03d_var%02d_%03d\n",
      "2D_data/patches/highres/ref_sph_2D_v02-01_d%03d_var%02d_%03d\n",
      "(10144, 5, 5, 4)\n",
      "(10144, 15, 15, 1)\n"
     ]
    }
   ],
   "source": [
    "from dataset import Dataset\n",
    "src_patches_path = \"%spatches/%s/%s_v%02d-%02d\" % (data_loc, src, data_param.prefix, version_combi.data, version_combi.pre) + \"_d%03d_var%02d\" + \"_%03d\"\n",
    "print(src_patches_path)\n",
    "ref_patches_path = \"%spatches/%s/ref_%s_v%02d-%02d\" % (data_loc, ref, data_param.prefix, version_combi.data, version_combi.pre) + \"_d%03d_var%02d\" + \"_%03d\"\n",
    "print(ref_patches_path)\n",
    "\n",
    "train_data = Dataset(src_patches_path, \n",
    "                     0, nn_param.train_data_count, nn_param.t_start, nn_param.t_end, \n",
    "                     nn_param.features, pre_param.var, ref_patches_path, ['sdf'])\n",
    "test_data = Dataset(src_patches_path, \n",
    "                    nn_param.train_data_count, nn_param.train_data_count + nn_param.test_data_count, nn_param.t_start, nn_param.t_end, \n",
    "                    nn_param.features, pre_param.var, ref_patches_path, ['sdf'])\n",
    "\n",
    "print(train_data.data.shape)\n",
    "print(train_data.ref_data.shape)"
   ]
  },
  {
   "cell_type": "markdown",
   "metadata": {},
   "source": [
    "### Setup Neural Network"
   ]
  },
  {
   "cell_type": "code",
   "execution_count": 18,
   "metadata": {
    "collapsed": false
   },
   "outputs": [
    {
     "name": "stderr",
     "output_type": "stream",
     "text": [
      "Using TensorFlow backend.\n"
     ]
    },
    {
     "name": "stdout",
     "output_type": "stream",
     "text": [
      "feature_count: 4\n"
     ]
    }
   ],
   "source": [
    "import keras\n",
    "from keras.models import Model\n",
    "from keras.layers import Conv2D, Conv2DTranspose, BatchNormalization, Input\n",
    "from keras.layers import Reshape, RepeatVector, Permute, concatenate, add, Activation\n",
    "from keras_utils.subpixel import *\n",
    "from keras import regularizers\n",
    "import numpy as np\n",
    "\n",
    "feature_cnt = train_data.data.shape[3]\n",
    "print(\"feature_count: %d\" % feature_cnt)\n",
    "\n",
    "model = None\n",
    "\n",
    "inputs = Input((pre_param.patch_size, pre_param.patch_size, 1), name=\"main_input\")\n",
    "auxiliary_input = Input(shape=(pre_param.patch_size, pre_param.patch_size, feature_cnt-1), name=\"auxiliary_input\")"
   ]
  },
  {
   "cell_type": "markdown",
   "metadata": {},
   "source": [
    "#### ESPCNN"
   ]
  },
  {
   "cell_type": "code",
   "execution_count": 19,
   "metadata": {
    "collapsed": false
   },
   "outputs": [],
   "source": [
    "if not nn_param.residual:\n",
    "    x = concatenate([inputs, auxiliary_input], name=\"concatenate\")\n",
    "    \n",
    "    x = Conv2D(filters=3, kernel_size=3, \n",
    "               strides=1, input_shape=input_shape, \n",
    "               activation='tanh', padding='same', name=\"conv2D_0\")(x)\n",
    "\n",
    "    x = Conv2D(filters=9, kernel_size=3,\n",
    "               strides=1, activation='tanh', padding='same', name=\"conv2D_1\")(x)\n",
    "\n",
    "    #model.add( keras.layers.BatchNormalization() )  \n",
    "\n",
    "    if nn_param.use_spc:\n",
    "        print(\"Use Subpixel Convolution\")\n",
    "        predictions = Subpixel(filters=1, kernel_size=3, r=3,activation='tanh', padding='same', name=\"subpixel_conv\")(x)\n",
    "    else:\n",
    "        x = Conv2DTranspose(filters=3, kernel_size=3, \n",
    "                            strides=int(factor_2D), activation='tanh', padding='same', name=\"deconv2D_0\")(x)\n",
    "        predictions = Conv2DTranspose(filters=1, kernel_size=3, \n",
    "                            strides=1, activation='tanh', padding='same', name=\"deconv2D_1\")(x)\n",
    "        \n",
    "    model = Model(inputs=[inputs,auxiliary_input], outputs=predictions)\n",
    "    model.summary()\n",
    "    model.compile( loss='mse', optimizer=keras.optimizers.adam(lr=nn_param.learning_rate))"
   ]
  },
  {
   "cell_type": "markdown",
   "metadata": {},
   "source": [
    "#### Residual ESPCNN"
   ]
  },
  {
   "cell_type": "code",
   "execution_count": 83,
   "metadata": {
    "collapsed": false
   },
   "outputs": [
    {
     "name": "stdout",
     "output_type": "stream",
     "text": [
      "____________________________________________________________________________________________________\n",
      "Layer (type)                     Output Shape          Param #     Connected to                     \n",
      "====================================================================================================\n",
      "main_input (InputLayer)          (None, 5, 5, 1)       0                                            \n",
      "____________________________________________________________________________________________________\n",
      "auxiliary_input (InputLayer)     (None, 5, 5, 3)       0                                            \n",
      "____________________________________________________________________________________________________\n",
      "concatenate (Concatenate)        (None, 5, 5, 4)       0           main_input[0][0]                 \n",
      "                                                                   auxiliary_input[0][0]            \n",
      "____________________________________________________________________________________________________\n",
      "reshape_flat_res (Reshape)       (None, 100)           0           concatenate[0][0]                \n",
      "____________________________________________________________________________________________________\n",
      "repeate_res (RepeatVector)       (None, 9, 100)        0           reshape_flat_res[0][0]           \n",
      "____________________________________________________________________________________________________\n",
      "permute_res (Permute)            (None, 100, 9)        0           repeate_res[0][0]                \n",
      "____________________________________________________________________________________________________\n",
      "reshape_back_res (Reshape)       (None, 5, 5, 36)      0           permute_res[0][0]                \n",
      "____________________________________________________________________________________________________\n",
      "conv2D_0 (Conv2D)                (None, 5, 5, 64)      20800       reshape_back_res[0][0]           \n",
      "____________________________________________________________________________________________________\n",
      "normalize_0 (BatchNormalization) (None, 5, 5, 64)      256         conv2D_0[0][0]                   \n",
      "____________________________________________________________________________________________________\n",
      "conv2D_1 (Conv2D)                (None, 5, 5, 128)     73856       normalize_0[0][0]                \n",
      "____________________________________________________________________________________________________\n",
      "normalize_1 (BatchNormalization) (None, 5, 5, 128)     512         conv2D_1[0][0]                   \n",
      "____________________________________________________________________________________________________\n",
      "reshape_flat (Reshape)           (None, 25)            0           main_input[0][0]                 \n",
      "____________________________________________________________________________________________________\n",
      "deconv2D_0 (Conv2DTranspose)     (None, 5, 5, 64)      73792       normalize_1[0][0]                \n",
      "____________________________________________________________________________________________________\n",
      "repeate (RepeatVector)           (None, 9, 25)         0           reshape_flat[0][0]               \n",
      "____________________________________________________________________________________________________\n",
      "normalize_2 (BatchNormalization) (None, 5, 5, 64)      256         deconv2D_0[0][0]                 \n",
      "____________________________________________________________________________________________________\n",
      "permute (Permute)                (None, 25, 9)         0           repeate[0][0]                    \n",
      "____________________________________________________________________________________________________\n",
      "deconv2D_1 (Conv2DTranspose)     (None, 5, 5, 9)       5193        normalize_2[0][0]                \n",
      "____________________________________________________________________________________________________\n",
      "reshape_back (Reshape)           (None, 5, 5, 9)       0           permute[0][0]                    \n",
      "____________________________________________________________________________________________________\n",
      "normalize_3 (BatchNormalization) (None, 5, 5, 9)       36          deconv2D_1[0][0]                 \n",
      "____________________________________________________________________________________________________\n",
      "add (Add)                        (None, 5, 5, 9)       0           reshape_back[0][0]               \n",
      "                                                                   normalize_3[0][0]                \n",
      "____________________________________________________________________________________________________\n",
      "activation (Activation)          (None, 5, 5, 9)       0           add[0][0]                        \n",
      "____________________________________________________________________________________________________\n",
      "subpixel_conv (Subpixel)         (None, 15, 15, 1)     738         activation[0][0]                 \n",
      "====================================================================================================\n",
      "Total params: 175,439\n",
      "Trainable params: 174,909\n",
      "Non-trainable params: 530\n",
      "____________________________________________________________________________________________________\n"
     ]
    }
   ],
   "source": [
    "if nn_param.residual:   \n",
    "    base = Reshape((pre_param.patch_size*pre_param.patch_size,), name=\"reshape_flat\")(inputs)\n",
    "    base = RepeatVector(9, name=\"repeate\")(base)\n",
    "    base = Permute((2, 1), name=\"permute\")(base)\n",
    "    base = Reshape((pre_param.patch_size, pre_param.patch_size,9), name=\"reshape_back\")(base)\n",
    "    \n",
    "    x = concatenate([inputs, auxiliary_input], name=\"concatenate\")\n",
    "    x = Reshape((pre_param.patch_size*pre_param.patch_size*feature_cnt,), name=\"reshape_flat_res\")(x)\n",
    "    x = RepeatVector(9, name=\"repeate_res\")(x)\n",
    "    x = Permute((2, 1), name=\"permute_res\")(x)\n",
    "    x = Reshape((pre_param.patch_size, pre_param.patch_size,9*feature_cnt), name=\"reshape_back_res\")(x)\n",
    "    \n",
    "    #x = concatenate([base, auxiliary_input], name=\"concatenate\")\n",
    "    \n",
    "    x = Conv2D(filters=16*feature_cnt, kernel_size=3, \n",
    "               strides=1, activation='tanh', padding='same', name=\"conv2D_0\")(x)\n",
    "    x = BatchNormalization(name=\"normalize_0\")(x)\n",
    "    x = Conv2D(filters=32*feature_cnt, kernel_size=3,\n",
    "               strides=1, activation='tanh', padding='same', name=\"conv2D_1\")(x)    \n",
    "    x = BatchNormalization(name=\"normalize_1\")(x)\n",
    "    x = Conv2DTranspose(filters=16*feature_cnt, kernel_size=3, \n",
    "                        strides=1, activation='tanh', padding='same', name=\"deconv2D_0\")(x)\n",
    "    x = BatchNormalization(name=\"normalize_2\")(x)\n",
    "    x = Conv2DTranspose(filters=9, kernel_size=3, \n",
    "                        strides=1, activation='tanh', padding='same', name=\"deconv2D_1\")(x)\n",
    "    x = BatchNormalization(name=\"normalize_3\")(x)\n",
    "    \n",
    "    x = add([base,x], name=\"add\")\n",
    "    x = Activation('tanh', name=\"activation\")(x)\n",
    "    predictions = Subpixel(filters=1, kernel_size=3, r=3,activation='tanh', padding='same', name=\"subpixel_conv\")(x)\n",
    "    \n",
    "    model = Model(inputs=[inputs,auxiliary_input], outputs=predictions)\n",
    "    s = model.summary()\n",
    "    model.compile( loss='mse', optimizer=keras.optimizers.adam(lr=nn_param.learning_rate))"
   ]
  },
  {
   "cell_type": "markdown",
   "metadata": {},
   "source": [
    "**Train:**"
   ]
  },
  {
   "cell_type": "code",
   "execution_count": 78,
   "metadata": {
    "collapsed": false,
    "scrolled": true
   },
   "outputs": [
    {
     "name": "stdout",
     "output_type": "stream",
     "text": [
      "1/250 - loss: 0.320067 val_loss: 0.545961\n",
      "10/250 - loss: 0.124973 val_loss: 0.379489\n",
      "20/250 - loss: 0.113641 val_loss: 0.418527\n"
     ]
    },
    {
     "ename": "KeyboardInterrupt",
     "evalue": "",
     "output_type": "error",
     "traceback": [
      "\u001b[0;31m---------------------------------------------------------------------------\u001b[0m",
      "\u001b[0;31mKeyboardInterrupt\u001b[0m                         Traceback (most recent call last)",
      "\u001b[0;32m<ipython-input-78-68e3832b57d8>\u001b[0m in \u001b[0;36m<module>\u001b[0;34m()\u001b[0m\n\u001b[1;32m     14\u001b[0m history = model.fit(x=np.split(train_data.data,[1],axis=3),y=train_data.ref_data, validation_split=nn_param.val_split, \n\u001b[1;32m     15\u001b[0m                     \u001b[0mepochs\u001b[0m\u001b[0;34m=\u001b[0m\u001b[0mnn_param\u001b[0m\u001b[0;34m.\u001b[0m\u001b[0mepochs\u001b[0m\u001b[0;34m,\u001b[0m \u001b[0mbatch_size\u001b[0m\u001b[0;34m=\u001b[0m\u001b[0mnn_param\u001b[0m\u001b[0;34m.\u001b[0m\u001b[0mbatch_size\u001b[0m\u001b[0;34m,\u001b[0m\u001b[0;34m\u001b[0m\u001b[0m\n\u001b[0;32m---> 16\u001b[0;31m                     verbose=0, callbacks=[NthLogger()])\n\u001b[0m\u001b[1;32m     17\u001b[0m \u001b[0;34m\u001b[0m\u001b[0m\n\u001b[1;32m     18\u001b[0m \u001b[0mmodel_path\u001b[0m \u001b[0;34m=\u001b[0m \u001b[0;34m'%smodel/%s_v%02d.h5'\u001b[0m \u001b[0;34m%\u001b[0m \u001b[0;34m(\u001b[0m\u001b[0mdata_loc\u001b[0m\u001b[0;34m,\u001b[0m \u001b[0mdata_param\u001b[0m\u001b[0;34m.\u001b[0m\u001b[0mprefix\u001b[0m\u001b[0;34m,\u001b[0m \u001b[0mversion\u001b[0m\u001b[0;34m)\u001b[0m\u001b[0;34m\u001b[0m\u001b[0m\n",
      "\u001b[0;32m/Library/Frameworks/Python.framework/Versions/3.5/lib/python3.5/site-packages/keras/engine/training.py\u001b[0m in \u001b[0;36mfit\u001b[0;34m(self, x, y, batch_size, epochs, verbose, callbacks, validation_split, validation_data, shuffle, class_weight, sample_weight, initial_epoch, **kwargs)\u001b[0m\n\u001b[1;32m   1496\u001b[0m                               \u001b[0mval_f\u001b[0m\u001b[0;34m=\u001b[0m\u001b[0mval_f\u001b[0m\u001b[0;34m,\u001b[0m \u001b[0mval_ins\u001b[0m\u001b[0;34m=\u001b[0m\u001b[0mval_ins\u001b[0m\u001b[0;34m,\u001b[0m \u001b[0mshuffle\u001b[0m\u001b[0;34m=\u001b[0m\u001b[0mshuffle\u001b[0m\u001b[0;34m,\u001b[0m\u001b[0;34m\u001b[0m\u001b[0m\n\u001b[1;32m   1497\u001b[0m                               \u001b[0mcallback_metrics\u001b[0m\u001b[0;34m=\u001b[0m\u001b[0mcallback_metrics\u001b[0m\u001b[0;34m,\u001b[0m\u001b[0;34m\u001b[0m\u001b[0m\n\u001b[0;32m-> 1498\u001b[0;31m                               initial_epoch=initial_epoch)\n\u001b[0m\u001b[1;32m   1499\u001b[0m \u001b[0;34m\u001b[0m\u001b[0m\n\u001b[1;32m   1500\u001b[0m     \u001b[0;32mdef\u001b[0m \u001b[0mevaluate\u001b[0m\u001b[0;34m(\u001b[0m\u001b[0mself\u001b[0m\u001b[0;34m,\u001b[0m \u001b[0mx\u001b[0m\u001b[0;34m,\u001b[0m \u001b[0my\u001b[0m\u001b[0;34m,\u001b[0m \u001b[0mbatch_size\u001b[0m\u001b[0;34m=\u001b[0m\u001b[0;36m32\u001b[0m\u001b[0;34m,\u001b[0m \u001b[0mverbose\u001b[0m\u001b[0;34m=\u001b[0m\u001b[0;36m1\u001b[0m\u001b[0;34m,\u001b[0m \u001b[0msample_weight\u001b[0m\u001b[0;34m=\u001b[0m\u001b[0;32mNone\u001b[0m\u001b[0;34m)\u001b[0m\u001b[0;34m:\u001b[0m\u001b[0;34m\u001b[0m\u001b[0m\n",
      "\u001b[0;32m/Library/Frameworks/Python.framework/Versions/3.5/lib/python3.5/site-packages/keras/engine/training.py\u001b[0m in \u001b[0;36m_fit_loop\u001b[0;34m(self, f, ins, out_labels, batch_size, epochs, verbose, callbacks, val_f, val_ins, shuffle, callback_metrics, initial_epoch)\u001b[0m\n\u001b[1;32m   1150\u001b[0m                 \u001b[0mbatch_logs\u001b[0m\u001b[0;34m[\u001b[0m\u001b[0;34m'size'\u001b[0m\u001b[0;34m]\u001b[0m \u001b[0;34m=\u001b[0m \u001b[0mlen\u001b[0m\u001b[0;34m(\u001b[0m\u001b[0mbatch_ids\u001b[0m\u001b[0;34m)\u001b[0m\u001b[0;34m\u001b[0m\u001b[0m\n\u001b[1;32m   1151\u001b[0m                 \u001b[0mcallbacks\u001b[0m\u001b[0;34m.\u001b[0m\u001b[0mon_batch_begin\u001b[0m\u001b[0;34m(\u001b[0m\u001b[0mbatch_index\u001b[0m\u001b[0;34m,\u001b[0m \u001b[0mbatch_logs\u001b[0m\u001b[0;34m)\u001b[0m\u001b[0;34m\u001b[0m\u001b[0m\n\u001b[0;32m-> 1152\u001b[0;31m                 \u001b[0mouts\u001b[0m \u001b[0;34m=\u001b[0m \u001b[0mf\u001b[0m\u001b[0;34m(\u001b[0m\u001b[0mins_batch\u001b[0m\u001b[0;34m)\u001b[0m\u001b[0;34m\u001b[0m\u001b[0m\n\u001b[0m\u001b[1;32m   1153\u001b[0m                 \u001b[0;32mif\u001b[0m \u001b[0;32mnot\u001b[0m \u001b[0misinstance\u001b[0m\u001b[0;34m(\u001b[0m\u001b[0mouts\u001b[0m\u001b[0;34m,\u001b[0m \u001b[0mlist\u001b[0m\u001b[0;34m)\u001b[0m\u001b[0;34m:\u001b[0m\u001b[0;34m\u001b[0m\u001b[0m\n\u001b[1;32m   1154\u001b[0m                     \u001b[0mouts\u001b[0m \u001b[0;34m=\u001b[0m \u001b[0;34m[\u001b[0m\u001b[0mouts\u001b[0m\u001b[0;34m]\u001b[0m\u001b[0;34m\u001b[0m\u001b[0m\n",
      "\u001b[0;32m/Library/Frameworks/Python.framework/Versions/3.5/lib/python3.5/site-packages/keras/backend/tensorflow_backend.py\u001b[0m in \u001b[0;36m__call__\u001b[0;34m(self, inputs)\u001b[0m\n\u001b[1;32m   2227\u001b[0m         \u001b[0msession\u001b[0m \u001b[0;34m=\u001b[0m \u001b[0mget_session\u001b[0m\u001b[0;34m(\u001b[0m\u001b[0;34m)\u001b[0m\u001b[0;34m\u001b[0m\u001b[0m\n\u001b[1;32m   2228\u001b[0m         updated = session.run(self.outputs + [self.updates_op],\n\u001b[0;32m-> 2229\u001b[0;31m                               feed_dict=feed_dict)\n\u001b[0m\u001b[1;32m   2230\u001b[0m         \u001b[0;32mreturn\u001b[0m \u001b[0mupdated\u001b[0m\u001b[0;34m[\u001b[0m\u001b[0;34m:\u001b[0m\u001b[0mlen\u001b[0m\u001b[0;34m(\u001b[0m\u001b[0mself\u001b[0m\u001b[0;34m.\u001b[0m\u001b[0moutputs\u001b[0m\u001b[0;34m)\u001b[0m\u001b[0;34m]\u001b[0m\u001b[0;34m\u001b[0m\u001b[0m\n\u001b[1;32m   2231\u001b[0m \u001b[0;34m\u001b[0m\u001b[0m\n",
      "\u001b[0;32m/Library/Frameworks/Python.framework/Versions/3.5/lib/python3.5/site-packages/tensorflow/python/client/session.py\u001b[0m in \u001b[0;36mrun\u001b[0;34m(self, fetches, feed_dict, options, run_metadata)\u001b[0m\n\u001b[1;32m    893\u001b[0m     \u001b[0;32mtry\u001b[0m\u001b[0;34m:\u001b[0m\u001b[0;34m\u001b[0m\u001b[0m\n\u001b[1;32m    894\u001b[0m       result = self._run(None, fetches, feed_dict, options_ptr,\n\u001b[0;32m--> 895\u001b[0;31m                          run_metadata_ptr)\n\u001b[0m\u001b[1;32m    896\u001b[0m       \u001b[0;32mif\u001b[0m \u001b[0mrun_metadata\u001b[0m\u001b[0;34m:\u001b[0m\u001b[0;34m\u001b[0m\u001b[0m\n\u001b[1;32m    897\u001b[0m         \u001b[0mproto_data\u001b[0m \u001b[0;34m=\u001b[0m \u001b[0mtf_session\u001b[0m\u001b[0;34m.\u001b[0m\u001b[0mTF_GetBuffer\u001b[0m\u001b[0;34m(\u001b[0m\u001b[0mrun_metadata_ptr\u001b[0m\u001b[0;34m)\u001b[0m\u001b[0;34m\u001b[0m\u001b[0m\n",
      "\u001b[0;32m/Library/Frameworks/Python.framework/Versions/3.5/lib/python3.5/site-packages/tensorflow/python/client/session.py\u001b[0m in \u001b[0;36m_run\u001b[0;34m(self, handle, fetches, feed_dict, options, run_metadata)\u001b[0m\n\u001b[1;32m   1122\u001b[0m     \u001b[0;32mif\u001b[0m \u001b[0mfinal_fetches\u001b[0m \u001b[0;32mor\u001b[0m \u001b[0mfinal_targets\u001b[0m \u001b[0;32mor\u001b[0m \u001b[0;34m(\u001b[0m\u001b[0mhandle\u001b[0m \u001b[0;32mand\u001b[0m \u001b[0mfeed_dict_tensor\u001b[0m\u001b[0;34m)\u001b[0m\u001b[0;34m:\u001b[0m\u001b[0;34m\u001b[0m\u001b[0m\n\u001b[1;32m   1123\u001b[0m       results = self._do_run(handle, final_targets, final_fetches,\n\u001b[0;32m-> 1124\u001b[0;31m                              feed_dict_tensor, options, run_metadata)\n\u001b[0m\u001b[1;32m   1125\u001b[0m     \u001b[0;32melse\u001b[0m\u001b[0;34m:\u001b[0m\u001b[0;34m\u001b[0m\u001b[0m\n\u001b[1;32m   1126\u001b[0m       \u001b[0mresults\u001b[0m \u001b[0;34m=\u001b[0m \u001b[0;34m[\u001b[0m\u001b[0;34m]\u001b[0m\u001b[0;34m\u001b[0m\u001b[0m\n",
      "\u001b[0;32m/Library/Frameworks/Python.framework/Versions/3.5/lib/python3.5/site-packages/tensorflow/python/client/session.py\u001b[0m in \u001b[0;36m_do_run\u001b[0;34m(self, handle, target_list, fetch_list, feed_dict, options, run_metadata)\u001b[0m\n\u001b[1;32m   1319\u001b[0m     \u001b[0;32mif\u001b[0m \u001b[0mhandle\u001b[0m \u001b[0;32mis\u001b[0m \u001b[0;32mNone\u001b[0m\u001b[0;34m:\u001b[0m\u001b[0;34m\u001b[0m\u001b[0m\n\u001b[1;32m   1320\u001b[0m       return self._do_call(_run_fn, self._session, feeds, fetches, targets,\n\u001b[0;32m-> 1321\u001b[0;31m                            options, run_metadata)\n\u001b[0m\u001b[1;32m   1322\u001b[0m     \u001b[0;32melse\u001b[0m\u001b[0;34m:\u001b[0m\u001b[0;34m\u001b[0m\u001b[0m\n\u001b[1;32m   1323\u001b[0m       \u001b[0;32mreturn\u001b[0m \u001b[0mself\u001b[0m\u001b[0;34m.\u001b[0m\u001b[0m_do_call\u001b[0m\u001b[0;34m(\u001b[0m\u001b[0m_prun_fn\u001b[0m\u001b[0;34m,\u001b[0m \u001b[0mself\u001b[0m\u001b[0;34m.\u001b[0m\u001b[0m_session\u001b[0m\u001b[0;34m,\u001b[0m \u001b[0mhandle\u001b[0m\u001b[0;34m,\u001b[0m \u001b[0mfeeds\u001b[0m\u001b[0;34m,\u001b[0m \u001b[0mfetches\u001b[0m\u001b[0;34m)\u001b[0m\u001b[0;34m\u001b[0m\u001b[0m\n",
      "\u001b[0;32m/Library/Frameworks/Python.framework/Versions/3.5/lib/python3.5/site-packages/tensorflow/python/client/session.py\u001b[0m in \u001b[0;36m_do_call\u001b[0;34m(self, fn, *args)\u001b[0m\n\u001b[1;32m   1325\u001b[0m   \u001b[0;32mdef\u001b[0m \u001b[0m_do_call\u001b[0m\u001b[0;34m(\u001b[0m\u001b[0mself\u001b[0m\u001b[0;34m,\u001b[0m \u001b[0mfn\u001b[0m\u001b[0;34m,\u001b[0m \u001b[0;34m*\u001b[0m\u001b[0margs\u001b[0m\u001b[0;34m)\u001b[0m\u001b[0;34m:\u001b[0m\u001b[0;34m\u001b[0m\u001b[0m\n\u001b[1;32m   1326\u001b[0m     \u001b[0;32mtry\u001b[0m\u001b[0;34m:\u001b[0m\u001b[0;34m\u001b[0m\u001b[0m\n\u001b[0;32m-> 1327\u001b[0;31m       \u001b[0;32mreturn\u001b[0m \u001b[0mfn\u001b[0m\u001b[0;34m(\u001b[0m\u001b[0;34m*\u001b[0m\u001b[0margs\u001b[0m\u001b[0;34m)\u001b[0m\u001b[0;34m\u001b[0m\u001b[0m\n\u001b[0m\u001b[1;32m   1328\u001b[0m     \u001b[0;32mexcept\u001b[0m \u001b[0merrors\u001b[0m\u001b[0;34m.\u001b[0m\u001b[0mOpError\u001b[0m \u001b[0;32mas\u001b[0m \u001b[0me\u001b[0m\u001b[0;34m:\u001b[0m\u001b[0;34m\u001b[0m\u001b[0m\n\u001b[1;32m   1329\u001b[0m       \u001b[0mmessage\u001b[0m \u001b[0;34m=\u001b[0m \u001b[0mcompat\u001b[0m\u001b[0;34m.\u001b[0m\u001b[0mas_text\u001b[0m\u001b[0;34m(\u001b[0m\u001b[0me\u001b[0m\u001b[0;34m.\u001b[0m\u001b[0mmessage\u001b[0m\u001b[0;34m)\u001b[0m\u001b[0;34m\u001b[0m\u001b[0m\n",
      "\u001b[0;32m/Library/Frameworks/Python.framework/Versions/3.5/lib/python3.5/site-packages/tensorflow/python/client/session.py\u001b[0m in \u001b[0;36m_run_fn\u001b[0;34m(session, feed_dict, fetch_list, target_list, options, run_metadata)\u001b[0m\n\u001b[1;32m   1296\u001b[0m       \u001b[0;31m# Ensure any changes to the graph are reflected in the runtime.\u001b[0m\u001b[0;34m\u001b[0m\u001b[0;34m\u001b[0m\u001b[0m\n\u001b[1;32m   1297\u001b[0m       \u001b[0mself\u001b[0m\u001b[0;34m.\u001b[0m\u001b[0m_extend_graph\u001b[0m\u001b[0;34m(\u001b[0m\u001b[0;34m)\u001b[0m\u001b[0;34m\u001b[0m\u001b[0m\n\u001b[0;32m-> 1298\u001b[0;31m       \u001b[0;32mwith\u001b[0m \u001b[0merrors\u001b[0m\u001b[0;34m.\u001b[0m\u001b[0mraise_exception_on_not_ok_status\u001b[0m\u001b[0;34m(\u001b[0m\u001b[0;34m)\u001b[0m \u001b[0;32mas\u001b[0m \u001b[0mstatus\u001b[0m\u001b[0;34m:\u001b[0m\u001b[0;34m\u001b[0m\u001b[0m\n\u001b[0m\u001b[1;32m   1299\u001b[0m         \u001b[0;32mif\u001b[0m \u001b[0mself\u001b[0m\u001b[0;34m.\u001b[0m\u001b[0m_created_with_new_api\u001b[0m\u001b[0;34m:\u001b[0m\u001b[0;34m\u001b[0m\u001b[0m\n\u001b[1;32m   1300\u001b[0m           return tf_session.TF_SessionRun_wrapper(\n",
      "\u001b[0;32m/Library/Frameworks/Python.framework/Versions/3.5/lib/python3.5/contextlib.py\u001b[0m in \u001b[0;36mhelper\u001b[0;34m(*args, **kwds)\u001b[0m\n\u001b[1;32m    131\u001b[0m     \u001b[0;34m@\u001b[0m\u001b[0mwraps\u001b[0m\u001b[0;34m(\u001b[0m\u001b[0mfunc\u001b[0m\u001b[0;34m)\u001b[0m\u001b[0;34m\u001b[0m\u001b[0m\n\u001b[1;32m    132\u001b[0m     \u001b[0;32mdef\u001b[0m \u001b[0mhelper\u001b[0m\u001b[0;34m(\u001b[0m\u001b[0;34m*\u001b[0m\u001b[0margs\u001b[0m\u001b[0;34m,\u001b[0m \u001b[0;34m**\u001b[0m\u001b[0mkwds\u001b[0m\u001b[0;34m)\u001b[0m\u001b[0;34m:\u001b[0m\u001b[0;34m\u001b[0m\u001b[0m\n\u001b[0;32m--> 133\u001b[0;31m         \u001b[0;32mreturn\u001b[0m \u001b[0m_GeneratorContextManager\u001b[0m\u001b[0;34m(\u001b[0m\u001b[0mfunc\u001b[0m\u001b[0;34m,\u001b[0m \u001b[0margs\u001b[0m\u001b[0;34m,\u001b[0m \u001b[0mkwds\u001b[0m\u001b[0;34m)\u001b[0m\u001b[0;34m\u001b[0m\u001b[0m\n\u001b[0m\u001b[1;32m    134\u001b[0m     \u001b[0;32mreturn\u001b[0m \u001b[0mhelper\u001b[0m\u001b[0;34m\u001b[0m\u001b[0m\n\u001b[1;32m    135\u001b[0m \u001b[0;34m\u001b[0m\u001b[0m\n",
      "\u001b[0;32m/Library/Frameworks/Python.framework/Versions/3.5/lib/python3.5/contextlib.py\u001b[0m in \u001b[0;36m__init__\u001b[0;34m(self, func, args, kwds)\u001b[0m\n\u001b[1;32m     35\u001b[0m     \u001b[0;34m\"\"\"Helper for @contextmanager decorator.\"\"\"\u001b[0m\u001b[0;34m\u001b[0m\u001b[0m\n\u001b[1;32m     36\u001b[0m \u001b[0;34m\u001b[0m\u001b[0m\n\u001b[0;32m---> 37\u001b[0;31m     \u001b[0;32mdef\u001b[0m \u001b[0m__init__\u001b[0m\u001b[0;34m(\u001b[0m\u001b[0mself\u001b[0m\u001b[0;34m,\u001b[0m \u001b[0mfunc\u001b[0m\u001b[0;34m,\u001b[0m \u001b[0margs\u001b[0m\u001b[0;34m,\u001b[0m \u001b[0mkwds\u001b[0m\u001b[0;34m)\u001b[0m\u001b[0;34m:\u001b[0m\u001b[0;34m\u001b[0m\u001b[0m\n\u001b[0m\u001b[1;32m     38\u001b[0m         \u001b[0mself\u001b[0m\u001b[0;34m.\u001b[0m\u001b[0mgen\u001b[0m \u001b[0;34m=\u001b[0m \u001b[0mfunc\u001b[0m\u001b[0;34m(\u001b[0m\u001b[0;34m*\u001b[0m\u001b[0margs\u001b[0m\u001b[0;34m,\u001b[0m \u001b[0;34m**\u001b[0m\u001b[0mkwds\u001b[0m\u001b[0;34m)\u001b[0m\u001b[0;34m\u001b[0m\u001b[0m\n\u001b[1;32m     39\u001b[0m         \u001b[0mself\u001b[0m\u001b[0;34m.\u001b[0m\u001b[0mfunc\u001b[0m\u001b[0;34m,\u001b[0m \u001b[0mself\u001b[0m\u001b[0;34m.\u001b[0m\u001b[0margs\u001b[0m\u001b[0;34m,\u001b[0m \u001b[0mself\u001b[0m\u001b[0;34m.\u001b[0m\u001b[0mkwds\u001b[0m \u001b[0;34m=\u001b[0m \u001b[0mfunc\u001b[0m\u001b[0;34m,\u001b[0m \u001b[0margs\u001b[0m\u001b[0;34m,\u001b[0m \u001b[0mkwds\u001b[0m\u001b[0;34m\u001b[0m\u001b[0m\n",
      "\u001b[0;31mKeyboardInterrupt\u001b[0m: "
     ]
    }
   ],
   "source": [
    "import matplotlib.pyplot as plt\n",
    "from keras.models import load_model\n",
    "\n",
    "class NthLogger(keras.callbacks.Callback):\n",
    "    def __init__(self,n=10):\n",
    "        self.act = 0\n",
    "        self.n = n\n",
    "\n",
    "    def on_epoch_end(self,batch,logs={}):\n",
    "        self.act += 1\n",
    "        if self.act % self.n == 0 or self.act == 1:\n",
    "            print('%d/%d - loss: %f val_loss: %f' % (self.act, self.params['epochs'], logs['loss'], logs['val_loss']))\n",
    "\n",
    "history = model.fit(x=np.split(train_data.data,[1],axis=3),y=train_data.ref_data, validation_split=nn_param.val_split, \n",
    "                    epochs=nn_param.epochs, batch_size=nn_param.batch_size, \n",
    "                    verbose=0, callbacks=[NthLogger()])\n",
    "\n",
    "model_path = '%smodel/%s_v%02d.h5' % (data_loc, data_param.prefix, version)\n",
    "print(\"save model in %s\" % model_path)\n",
    "model.save(model_path)"
   ]
  },
  {
   "cell_type": "code",
   "execution_count": 22,
   "metadata": {
    "collapsed": false,
    "scrolled": true
   },
   "outputs": [
    {
     "data": {
      "image/png": "[encoded data removed]",
      "text/plain": [
       "<matplotlib.figure.Figure at 0x120db4128>"
      ]
     },
     "metadata": {},
     "output_type": "display_data"
    }
   ],
   "source": [
    "plt.plot(history.history['loss'])\n",
    "plt.plot(history.history['val_loss'])\n",
    "plt.title('model loss')\n",
    "plt.ylabel('loss')\n",
    "plt.xlabel('epoch')\n",
    "plt.legend(['train', 'validation'], loc='upper left')\n",
    "\n",
    "plt.savefig('%smodel/%s_v%02d_loss.png' % (data_loc, data_param.prefix, version))\n",
    "\n",
    "plt.show()"
   ]
  },
  {
   "cell_type": "markdown",
   "metadata": {},
   "source": [
    "**Validate:**"
   ]
  },
  {
   "cell_type": "code",
   "execution_count": 72,
   "metadata": {
    "collapsed": false
   },
   "outputs": [
    {
     "name": "stdout",
     "output_type": "stream",
     "text": [
      "768/782 [============================>.] - ETA: 0s0.0956703233902\n"
     ]
    }
   ],
   "source": [
    "loss_and_metrics = model.evaluate(x=np.split(test_data.data,[1],axis=3), y=test_data.ref_data, batch_size=nn_param.batch_size)\n",
    "print(loss_and_metrics)"
   ]
  },
  {
   "cell_type": "markdown",
   "metadata": {},
   "source": [
    "### Run Neural Network"
   ]
  },
  {
   "cell_type": "markdown",
   "metadata": {},
   "source": [
    "#### Show Results"
   ]
  },
  {
   "cell_type": "code",
   "execution_count": 70,
   "metadata": {
    "collapsed": false
   },
   "outputs": [],
   "source": [
    "from uniio import *\n",
    "import keras\n",
    "from keras.models import load_model\n",
    "from keras_utils.subpixel import *\n",
    "\n",
    "timestep = (nn_param.t_start + nn_param.t_end) // 2\n",
    "\n",
    "#model = load_model('%smodel/%s_v%02d.h5' % (data_loc, data_param.prefix, version), custom_objects={'Subpixel': Subpixel})\n",
    "\n",
    "test_filename = \"%sresult/%s_v%02d\" % (data_loc, data_param.prefix, version) + \"_%03d_sdf\" % timestep\n",
    "ref_filename = \"%sresult/ref_%s_v%02d\" % (data_loc, data_param.prefix, version) + \"_%03d_sdf\" % timestep\n",
    "result_filename = \"%sresult/result_%s_v%02d\" % (data_loc, data_param.prefix, version) + \"_%03d_sdf\" % timestep\n",
    "\n",
    "#remove_data(test_filename)\n",
    "#remove_data(ref_filename)\n",
    "#remove_data(result_filename)\n",
    "\n",
    "result = model.predict(x=np.split(test_data.data,[1],axis=3), batch_size=nn_param.batch_size)\n",
    "\n",
    "for patch in test_data.data:\n",
    "    writeNumpyBuf(test_filename, patch[:,:,0])\n",
    "    \n",
    "for patch in test_data.ref_data:\n",
    "    writeNumpyBuf(ref_filename, patch)\n",
    "    \n",
    "for patch in result:\n",
    "    writeNumpyBuf(result_filename, patch)\n",
    "    \n",
    "finalizeNumpyBufs()"
   ]
  },
  {
   "cell_type": "code",
   "execution_count": 22,
   "metadata": {
    "collapsed": false,
    "scrolled": true
   },
   "outputs": [
    {
     "name": "stdout",
     "output_type": "stream",
     "text": [
      "2D_SPH/build/manta 2D_SPH/scenes/show_patches.py ref 2D_data/result/result_sph_2D_v05_010_sdf ref2 2D_data/result/ref_sph_2D_v05_010_sdf scr 2D_data/screenshots/20171121/sph_patch_%03d_sdf_res.png src 2D_data/result/sph_2D_v05_010_sdf t 1 psize 5 hpsize 15\n",
      "\n",
      "Traceback (most recent call last):\n",
      "\n",
      "  File \"2D_SPH/scenes/show_patches.py\", line 141, in <module>\n",
      "\n",
      "    s.step()\n",
      "\n",
      "RuntimeError: User interrupt\n",
      "\n"
     ]
    }
   ],
   "source": [
    "param = {}\n",
    "\n",
    "# show patches\n",
    "param['src'] = test_filename\n",
    "param['ref'] = result_filename\n",
    "param['ref2'] = ref_filename\n",
    "param['psize'] = pre_param.patch_size\n",
    "param['hpsize'] = high_patch_size\n",
    "param['t'] = 1\n",
    "\n",
    "param['scr'] = create_curr_date_folder(data_loc+'screenshots/') + \"sph_patch_%03d_sdf_res.png\"\n",
    "\n",
    "run_manta(\"scenes/show_patches.py\", param)"
   ]
  },
  {
   "cell_type": "markdown",
   "metadata": {},
   "source": [
    "### Complete Application"
   ]
  },
  {
   "cell_type": "code",
   "execution_count": 71,
   "metadata": {
    "collapsed": false
   },
   "outputs": [
    {
     "name": "stdout",
     "output_type": "stream",
     "text": [
      "(152, 152, 1)\n",
      "2D_data/lowres/sph_2D_v02-01_d018_var00_%03d\n",
      "2D_data/highres/ref_sph_2D_v02_d018_%03d_sdf.uni\n",
      "2D_data/result/sph_2D_v04_d018_%03d_result.uni\n"
     ]
    }
   ],
   "source": [
    "import scipy.ndimage.filters as fi\n",
    "import math\n",
    "import numpy as np\n",
    "\n",
    "use_real_data = False\n",
    "\n",
    "def filter2D(kernlen, s, fac):\n",
    "    dirac = np.zeros((kernlen, kernlen))\n",
    "    dirac[kernlen//2, kernlen//2] = 1\n",
    "    return np.clip(fi.gaussian_filter(dirac, s) * fac, a_min=None, a_max=1.0)\n",
    "\n",
    "result = np.ndarray(shape=(data_param.res,data_param.res,1), dtype=float)\n",
    "#weights = np.ndarray(shape=(data_param.res,data_param.res,1), dtype=float)\n",
    "#weights.fill(0)\n",
    "\n",
    "ps = pre_param.patch_size//2\n",
    "hps = high_patch_size//2\n",
    "\n",
    "border = int(math.ceil(hps-(ps*factor_2D)))\n",
    "\n",
    "result=np.pad(result,((border,border),(border,border),(0,0)),mode=\"edge\")\n",
    "#weights=np.pad(weights,((border,border),(border,border),(0,0)),mode=\"edge\")\n",
    "print(result.shape)\n",
    "dataset = 18#nn_param.train_data_count\n",
    "var = 0\n",
    "\n",
    "input_path = (test_prefix if use_real_data else src_prefix) + \"_d%03d\" % dataset + (\"_var%02d\"%var if not use_real_data else \"\") + \"_%03d\"\n",
    "ref_input_path = ref_prefix + \"_d%03d\" % dataset + \"_%03d_sdf.uni\"\n",
    "print(input_path)\n",
    "print(ref_input_path)\n",
    "output_path = \"%sresult/%s_v%02d_d%03d\" % (data_loc, data_param.prefix, version, dataset) + \"_%03d_result.uni\"\n",
    "print(output_path)\n",
    "\n",
    "elem_min = np.vectorize(lambda x,y: min(x,y))\n",
    "circular_filter = filter2D(high_patch_size, high_patch_size*0.2, 500)\n",
    "\n",
    "for t in range(nn_param.t_start, nn_param.t_end):\n",
    "    result.fill(1)\n",
    "    hdr, source = readUni(input_path%t+\"_sdf.uni\")\n",
    "    for f in nn_param.features:\n",
    "        if f != \"sdf\":\n",
    "            _, tmp = readUni(input_path%t+\"_\"+f+\".uni\")\n",
    "            source = np.append(source, tmp, axis=3)\n",
    "\n",
    "    for x in range (ps, low_res-ps, 1):\n",
    "        for y in range(ps, low_res-ps, 1):\n",
    "            if(abs(source[0,x,y,0]) < pre_param.surf):\n",
    "                x0=x-ps\n",
    "                x1=x+ps+1\n",
    "                y0=y-ps\n",
    "                y1=y+ps+1\n",
    "                \n",
    "                data = np.array([source[0,x0:x1,y0:y1]]) * pre_param.l_fac\n",
    "                if pre_param.use_tanh != 0:\n",
    "                    data[0,:,:,0] = np.tanh(data[0,:,:,0])\n",
    "                \n",
    "                predict = model.predict(x=np.split(data,[1],axis=3), batch_size=1)\n",
    "                if pre_param.use_tanh != 0:\n",
    "                    predict = np.arctanh(np.clip(predict,-.999999,.999999))\n",
    "                    \n",
    "                predict = predict * circular_filter/pre_param.h_fac\n",
    "\n",
    "                x0=int(factor_2D*x)-hps+border\n",
    "                x1=int(factor_2D*x)+hps+border+1\n",
    "                y0=int(factor_2D*y)-hps+border\n",
    "                y1=int(factor_2D*y)+hps+border+1\n",
    "\n",
    "                result[x0:x1,y0:y1,0] = elem_min(result[x0:x1,y0:y1,0], predict[0,:,:,0])\n",
    "\n",
    "    hdr['dimX'] = data_param.res\n",
    "    hdr['dimY'] = data_param.res\n",
    "\n",
    "    #print(result[border:data_param.res+border,border:data_param.res+border,0].shape)\n",
    "    writeUni(output_path%t, hdr, result[border:data_param.res+border,border:data_param.res+border,0])"
   ]
  },
  {
   "cell_type": "markdown",
   "metadata": {},
   "source": [
    "**Init show frame**"
   ]
  },
  {
   "cell_type": "code",
   "execution_count": 73,
   "metadata": {
    "collapsed": false
   },
   "outputs": [],
   "source": [
    "scr_path = \"%s_v%02d_d%03d\" % (data_param.prefix, version, dataset) + \"_%03d\"\n",
    "if nn_param.t_end - nn_param.t_start <= 1: \n",
    "    scr_path = scr_path % nn_param.t_start\n",
    "    input_path = input_path % nn_param.t_start\n",
    "    output_path = output_path % nn_param.t_start\n",
    "    ref_input_path = ref_input_path % nn_param.t_start"
   ]
  },
  {
   "cell_type": "markdown",
   "metadata": {},
   "source": [
    "**Naiive Up-res**"
   ]
  },
  {
   "cell_type": "code",
   "execution_count": 31,
   "metadata": {
    "collapsed": false
   },
   "outputs": [
    {
     "name": "stdout",
     "output_type": "stream",
     "text": [
      "2D_SPH/build/manta 2D_SPH/scenes/up_scale.py t_end 15 upres 150 scr 2D_data/screenshots/20171121/simple_sph_2D_v05_d018_%03d.png res 50 sdf 2D_data/lowres/sph_2D_v02-02_d018_var00_%03d_sdf.uni t_start 5\n",
      "\n"
     ]
    }
   ],
   "source": [
    "param = {}\n",
    "dataset = 0\n",
    "\n",
    "# show input\n",
    "param['sdf'] = input_path+\"_sdf.uni\"\n",
    "param['t_start'] = nn_param.t_start\n",
    "param['t_end'] = nn_param.t_end\n",
    "param['res'] = low_res\n",
    "param['upres'] = data_param.res\n",
    "\n",
    "param['scr'] = create_curr_date_folder(data_loc+'screenshots/') + 'simple_' + scr_path + \".png\"\n",
    "\n",
    "run_manta(\"scenes/up_scale.py\", param)"
   ]
  },
  {
   "cell_type": "markdown",
   "metadata": {},
   "source": [
    "**Show source frame:**"
   ]
  },
  {
   "cell_type": "code",
   "execution_count": 39,
   "metadata": {
    "collapsed": false
   },
   "outputs": [
    {
     "name": "stdout",
     "output_type": "stream",
     "text": [
      "2D_SPH/build/manta 2D_SPH/scenes/show_particles.py t_end 15 scr 2D_data/screenshots/20171122/src_sph_2D_v04_d018_%03d.png sdf 2D_data/lowres/sph_2D_v02-01_d018_var00_%03d_sdf.uni t_start 5 res 50 sres 2\n",
      "\n"
     ]
    }
   ],
   "source": [
    "param = {}\n",
    "dataset = 0\n",
    "\n",
    "# show input\n",
    "param['sdf'] = input_path+\"_sdf.uni\"\n",
    "param['t_start'] = nn_param.t_start\n",
    "param['t_end'] = nn_param.t_end\n",
    "param['res'] = low_res\n",
    "param['sres'] = data_param.sub_res\n",
    "\n",
    "param['scr'] = create_curr_date_folder(data_loc+'screenshots/') + 'src_' + scr_path + \".png\"\n",
    "\n",
    "run_manta(\"scenes/show_particles.py\", param)"
   ]
  },
  {
   "cell_type": "markdown",
   "metadata": {},
   "source": [
    "**Show result frame:**"
   ]
  },
  {
   "cell_type": "code",
   "execution_count": 74,
   "metadata": {
    "collapsed": false
   },
   "outputs": [
    {
     "name": "stdout",
     "output_type": "stream",
     "text": [
      "2D_SPH/build/manta 2D_SPH/scenes/show_particles.py t_end 15 scr 2D_data/screenshots/20171122/old_sph_2D_v04_d018_%03d.png sdf 2D_data/result/sph_2D_v04_d018_%03d_result.uni t_start 5 res 150 sres 2\n",
      "\n"
     ]
    }
   ],
   "source": [
    "param = {}\n",
    "dataset = 0\n",
    "\n",
    "# show result\n",
    "param['sdf'] = output_path\n",
    "param['t_start'] = nn_param.t_start\n",
    "param['t_end'] = nn_param.t_end\n",
    "param['res'] = data_param.res\n",
    "param['sres'] = data_param.sub_res\n",
    "\n",
    "param['scr'] = create_curr_date_folder(data_loc+'screenshots/') + 'old_' + scr_path + \".png\"\n",
    "\n",
    "run_manta(\"scenes/show_particles.py\", param)"
   ]
  },
  {
   "cell_type": "markdown",
   "metadata": {},
   "source": [
    "**Show reference:**"
   ]
  },
  {
   "cell_type": "code",
   "execution_count": 34,
   "metadata": {
    "collapsed": false
   },
   "outputs": [
    {
     "name": "stdout",
     "output_type": "stream",
     "text": [
      "2D_SPH/build/manta 2D_SPH/scenes/show_particles.py sres 2 t_end 15 scr 2D_data/screenshots/20171121/ref_sph_2D_v05_d018_%03d.png res 150 sdf 2D_data/highres/ref_sph_2D_v02_d018_%03d_sdf.uni t_start 5\n",
      "\n"
     ]
    }
   ],
   "source": [
    "param = {}\n",
    "dataset = 0\n",
    "\n",
    "# show result\n",
    "param['sdf'] = ref_input_path\n",
    "param['t_start'] = nn_param.t_start\n",
    "param['t_end'] = nn_param.t_end\n",
    "param['res'] = data_param.res\n",
    "param['sres'] = data_param.sub_res\n",
    "\n",
    "param['scr'] = create_curr_date_folder(data_loc+'screenshots/') + 'ref_' + scr_path + \".png\"\n",
    "\n",
    "run_manta(\"scenes/show_particles.py\", param)"
   ]
  },
  {
   "cell_type": "code",
   "execution_count": 1,
   "metadata": {
    "collapsed": false
   },
   "outputs": [
    {
     "name": "stdout",
     "output_type": "stream",
     "text": [
      "2D_data/patches/lowres/sph_2D_v01-01_d%03d_%03d\n",
      "2D_data/patches/highres/ref_sph_2D_v01-01_d%03d_%03d\n",
      "(6510, 100)\n",
      "(6510, 1000)\n"
     ]
    }
   ],
   "source": [
    "import sys\n",
    "sys.path.append(\"2D_SPH/scenes/tools\")\n",
    "from uniio import *\n",
    "from dataset import Dataset\n",
    "\n",
    "src_patches_path = \"2D_data/patches/lowres/sph_2D_v01-01_d%03d_%03d\"\n",
    "print(src_patches_path)\n",
    "ref_patches_path = \"2D_data/patches/highres/ref_sph_2D_v01-01_d%03d_%03d\"\n",
    "print(ref_patches_path)\n",
    "\n",
    "train_data = Dataset(src_patches_path, \n",
    "                     0, 9, 5, 15, \n",
    "                     ['ps'], ref_patches_path, ['ps'])\n",
    "#test_data = Dataset(src_patches_path, ref_patches_path, \n",
    "#                    nn_param.train_data_count, nn_param.train_data_count + nn_param.test_data_count, nn_param.t_start, nn_param.t_end, \n",
    "#                    nn_param.features, ['sdf'])\n",
    "\n",
    "print(train_data.data.shape)\n",
    "print(train_data.ref_data.shape)"
   ]
  },
  {
   "cell_type": "code",
   "execution_count": 2,
   "metadata": {
    "collapsed": false
   },
   "outputs": [
    {
     "name": "stderr",
     "output_type": "stream",
     "text": [
      "Using TensorFlow backend.\n"
     ]
    }
   ],
   "source": [
    "import keras\n",
    "from keras.layers import Dense\n",
    "from keras.models import Sequential\n",
    "\n",
    "model = Sequential()\n",
    "model.add(Dense(100, input_shape=(100,), activation='relu'))\n",
    "model.add(Dense(500, activation='relu'))\n",
    "model.add(Dense(1000, activation='relu'))\n",
    "model.compile(loss='mse', optimizer=keras.optimizers.adam(lr=0.1))"
   ]
  },
  {
   "cell_type": "code",
   "execution_count": 3,
   "metadata": {
    "collapsed": false
   },
   "outputs": [
    {
     "name": "stdout",
     "output_type": "stream",
     "text": [
      "1/100 - loss: 19992.541534 val_loss: 56.722551\n",
      "10/100 - loss: 55.696776 val_loss: 56.144690\n",
      "20/100 - loss: 55.068462 val_loss: 55.594103\n",
      "30/100 - loss: 54.522375 val_loss: 55.072018\n",
      "40/100 - loss: 54.274731 val_loss: 54.760774\n",
      "50/100 - loss: 54.215486 val_loss: 54.677540\n",
      "60/100 - loss: 54.183672 val_loss: 54.673735\n",
      "70/100 - loss: 54.220620 val_loss: 54.757098\n",
      "80/100 - loss: 54.212504 val_loss: 54.949502\n",
      "90/100 - loss: 54.199258 val_loss: 54.657104\n",
      "100/100 - loss: 54.170859 val_loss: 54.750958\n"
     ]
    },
    {
     "data": {
      "image/png": "[encoded data removed]",
      "text/plain": [
       "<matplotlib.figure.Figure at 0x126f93ac8>"
      ]
     },
     "metadata": {},
     "output_type": "display_data"
    }
   ],
   "source": [
    "import matplotlib.pyplot as plt\n",
    "\n",
    "class NthLogger(keras.callbacks.Callback):\n",
    "    def __init__(self,n=10):\n",
    "        self.act = 0\n",
    "        self.n = n\n",
    "\n",
    "    def on_epoch_end(self,batch,logs={}):\n",
    "        self.act += 1\n",
    "        if self.act % self.n == 0 or self.act == 1:\n",
    "            print('%d/%d - loss: %f val_loss: %f' % (self.act, self.params['epochs'], logs['loss'], logs['val_loss']))\n",
    "\n",
    "history = model.fit(x=train_data.data,y=train_data.ref_data, validation_split=0.2, \n",
    "                    epochs=100, batch_size=32, \n",
    "                    verbose=0, callbacks=[NthLogger()])\n",
    "\n",
    "plt.plot(history.history['loss'])\n",
    "plt.plot(history.history['val_loss'])\n",
    "plt.title('model loss')\n",
    "plt.ylabel('loss')\n",
    "plt.xlabel('epoch')\n",
    "plt.legend(['train', 'validation'], loc='upper left')\n",
    "plt.show()"
   ]
  },
  {
   "cell_type": "code",
   "execution_count": 17,
   "metadata": {
    "collapsed": false
   },
   "outputs": [
    {
     "name": "stdout",
     "output_type": "stream",
     "text": [
      "Reading 2D_data/lowres/sph_2D_v01-01_d004_005_ps.uni ... \n",
      "(BasicParticleSystem) \n",
      "Done.\n",
      "Reading 2D_data/lowres/sph_2D_v01-01_d004_006_ps.uni ... \n",
      "(BasicParticleSystem) \n",
      "Done.\n",
      "Reading 2D_data/lowres/sph_2D_v01-01_d004_007_ps.uni ... \n",
      "(BasicParticleSystem) \n",
      "Done.\n",
      "Reading 2D_data/lowres/sph_2D_v01-01_d004_008_ps.uni ... \n",
      "(BasicParticleSystem) \n",
      "Done.\n",
      "Reading 2D_data/lowres/sph_2D_v01-01_d004_009_ps.uni ... \n",
      "(BasicParticleSystem) \n",
      "Done.\n",
      "Reading 2D_data/lowres/sph_2D_v01-01_d004_010_ps.uni ... \n",
      "(BasicParticleSystem) \n",
      "Done.\n",
      "Reading 2D_data/lowres/sph_2D_v01-01_d004_011_ps.uni ... \n",
      "(BasicParticleSystem) \n",
      "Done.\n",
      "Reading 2D_data/lowres/sph_2D_v01-01_d004_012_ps.uni ... \n",
      "(BasicParticleSystem) \n",
      "Done.\n",
      "Reading 2D_data/lowres/sph_2D_v01-01_d004_013_ps.uni ... \n",
      "(BasicParticleSystem) \n",
      "Done.\n",
      "Reading 2D_data/lowres/sph_2D_v01-01_d004_014_ps.uni ... \n",
      "(BasicParticleSystem) \n",
      "Done.\n"
     ]
    }
   ],
   "source": [
    "import scipy.ndimage.filters as fi\n",
    "import math\n",
    "\n",
    "ps = 5//2\n",
    "hps = 15//2\n",
    "\n",
    "dataset = 4#nn_param.train_data_count\n",
    "\n",
    "input_path = src_prefix + \"_d%03d\" % dataset + \"_%03d\"\n",
    "ref_input_path = ref_prefix + \"_d%03d\" % dataset + \"_%03d_sdf.uni\"\n",
    "output_path = \"%sresult/%s_v%02d_d%03d\" % (data_loc, data_param.prefix, version, dataset) + \"_%03d_ps_result.uni\"\n",
    "\n",
    "def particle_range(arr, start, end):\n",
    "    for i in range(len(start)):\n",
    "        arr = arr[np.where((arr[:,i]>=start[i])&(arr[:,i]<=end[i]))]\n",
    "    return arr\n",
    "\n",
    "for t in range(5, 15):\n",
    "    result = None\n",
    "    hdr, particle_src = readParticles(input_path%t+\"_ps.uni\")\n",
    "    sdf_source = readUni(input_path%t+\"_sdf.uni\")[1]\n",
    "\n",
    "    for x in range (ps, low_res-ps, 1):\n",
    "        for y in range(ps, low_res-ps, 1):\n",
    "            if(abs(sdf_source[0,x,y,0]) < 0.5):\n",
    "                x0=x-ps\n",
    "                x1=x+ps+1\n",
    "                y0=y-ps\n",
    "                y1=y+ps+1\n",
    "                \n",
    "                v = np.subtract(particle_range(particle_src, [y0,x0],[y1,x1]),[y0,x0,0])\n",
    "                v = v[:,0]\n",
    "                np.random.shuffle(v)\n",
    "                v = np.resize(v,100)\n",
    "                #np.random.shuffle(v)\n",
    "                \n",
    "                predict = model.predict(x=np.array([v]), batch_size=1)\n",
    "                \n",
    "                predict = np.reshape(predict, (500,2))\n",
    "                predict = np.concatenate((predict, np.full((500,1),0.5)), axis=1)\n",
    "                \n",
    "                if result is None:\n",
    "                    result = np.add(predict,[y0,x0,0])\n",
    "                else:\n",
    "                    result = np.concatenate((result, np.add(predict,[y0,x0,0])), axis=0)\n",
    "\n",
    "    hdr['dim'] = len(result)\n",
    "\n",
    "    #print(result[border:data_param.res+border,border:data_param.res+border,0].shape)\n",
    "    writeParticles(output_path%t, hdr, result)"
   ]
  },
  {
   "cell_type": "code",
   "execution_count": 19,
   "metadata": {
    "collapsed": false
   },
   "outputs": [
    {
     "name": "stdout",
     "output_type": "stream",
     "text": [
      "2D_SPH/build/manta 2D_SPH/scenes/show_particles.py in 2D_data/result/sph_2D_v03_d004_%03d_ps_result.uni res 150 sdf 2D_data/highres/ref_sph_2D_v01_d004_%03d_sdf.uni t_end 15 t_start 5\n",
      "\n"
     ]
    }
   ],
   "source": [
    "param = {}\n",
    "dataset = 4\n",
    "\n",
    "# show high res\n",
    "param['in'] = output_path\n",
    "param['sdf'] = ref_prefix + \"_d%03d\"%dataset + \"_%03d_sdf.uni\"\n",
    "param['t_start'] = nn_param.t_start\n",
    "param['t_end'] = nn_param.t_end\n",
    "param['res'] = data_param.res\n",
    "\n",
    "#param['scr'] = create_curr_date_folder(data_loc+'screenshots/') + \"sph_%03d_sdf_ref.png\"\n",
    "\n",
    "run_manta(\"scenes/show_particles.py\", param)"
   ]
  },
  {
   "cell_type": "code",
   "execution_count": 130,
   "metadata": {
    "collapsed": false
   },
   "outputs": [
    {
     "name": "stdout",
     "output_type": "stream",
     "text": [
      "[[[[ 0.]\n",
      "   [ 1.]\n",
      "   [ 2.]]\n",
      "\n",
      "  [[ 3.]\n",
      "   [ 4.]\n",
      "   [ 5.]]\n",
      "\n",
      "  [[ 6.]\n",
      "   [ 7.]\n",
      "   [ 8.]]]]\n",
      "+\n",
      "[[[[ 10.]\n",
      "   [ 11.]\n",
      "   [ 12.]]\n",
      "\n",
      "  [[ 13.]\n",
      "   [ 14.]\n",
      "   [ 15.]]\n",
      "\n",
      "  [[ 16.]\n",
      "   [ 17.]\n",
      "   [ 18.]]]]\n",
      "=>\n",
      "[[[[  0.   0.   0.   0.   0.   0.   0.   0.   0.  10.  10.  10.  10.  10.\n",
      "     10.  10.  10.  10.]\n",
      "   [  1.   1.   1.   1.   1.   1.   1.   1.   1.  11.  11.  11.  11.  11.\n",
      "     11.  11.  11.  11.]\n",
      "   [  2.   2.   2.   2.   2.   2.   2.   2.   2.  12.  12.  12.  12.  12.\n",
      "     12.  12.  12.  12.]]\n",
      "\n",
      "  [[  3.   3.   3.   3.   3.   3.   3.   3.   3.  13.  13.  13.  13.  13.\n",
      "     13.  13.  13.  13.]\n",
      "   [  4.   4.   4.   4.   4.   4.   4.   4.   4.  14.  14.  14.  14.  14.\n",
      "     14.  14.  14.  14.]\n",
      "   [  5.   5.   5.   5.   5.   5.   5.   5.   5.  15.  15.  15.  15.  15.\n",
      "     15.  15.  15.  15.]]\n",
      "\n",
      "  [[  6.   6.   6.   6.   6.   6.   6.   6.   6.  16.  16.  16.  16.  16.\n",
      "     16.  16.  16.  16.]\n",
      "   [  7.   7.   7.   7.   7.   7.   7.   7.   7.  17.  17.  17.  17.  17.\n",
      "     17.  17.  17.  17.]\n",
      "   [  8.   8.   8.   8.   8.   8.   8.   8.   8.  18.  18.  18.  18.  18.\n",
      "     18.  18.  18.  18.]]]]\n"
     ]
    }
   ],
   "source": [
    "import keras\n",
    "import numpy as np\n",
    "\n",
    "i = keras.layers.Input((3,3,1))\n",
    "ai = keras.layers.Input((3,3,1))\n",
    "x = concatenate([i, ai])\n",
    "x = Reshape((3*3*2,))(x)\n",
    "x = RepeatVector(9)(x)\n",
    "x = Permute((2, 1))(x)\n",
    "x = Reshape((3, 3, 18))(x)\n",
    "    \n",
    "#x = concatenate([x, ai])\n",
    "\n",
    "#x = i\n",
    "\n",
    "#x = Conv2D(filters=1, kernel_size=3, strides=1, padding='same', name=\"conv\")(x)\n",
    "\n",
    "model = keras.layers.Model(inputs=[i,ai],outputs=x)\n",
    "model.compile(loss='mse', optimizer=keras.optimizers.adam(lr=0.1))\n",
    "\n",
    "data = np.array([[[[0.],[1.],[2.]],[[3.],[4.],[5.]],[[6.],[7.],[8.]]]])\n",
    "aux = np.array([[[[10.],[11.],[12.]],[[13.],[14.],[15.]],[[16.],[17.],[18.]]]])\n",
    "print(data)\n",
    "print(\"+\")\n",
    "print(aux)\n",
    "print(\"=>\")\n",
    "print(model.predict([data,aux]))\n",
    "#print(model.get_layer(\"conv\").get_weights()[0].shape)\n",
    "#print(model.get_layer(\"conv\").get_weights())"
   ]
  },
  {
   "cell_type": "code",
   "execution_count": null,
   "metadata": {
    "collapsed": true
   },
   "outputs": [],
   "source": []
  }
 ],
 "metadata": {
  "kernelspec": {
   "display_name": "Python 3",
   "language": "python",
   "name": "python3"
  },
  "language_info": {
   "codemirror_mode": {
    "name": "ipython",
    "version": 3
   },
   "file_extension": ".py",
   "mimetype": "text/x-python",
   "name": "python",
   "nbconvert_exporter": "python",
   "pygments_lexer": "ipython3",
   "version": "3.5.0"
  }
 },
 "nbformat": 4,
 "nbformat_minor": 1
}
