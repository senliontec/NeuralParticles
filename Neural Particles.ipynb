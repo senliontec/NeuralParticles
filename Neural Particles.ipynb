{
 "cells": [
  {
   "cell_type": "markdown",
   "metadata": {},
   "source": [
    "# Neural Particles 2D"
   ]
  },
  {
   "cell_type": "markdown",
   "metadata": {},
   "source": [
    "## 2D Dataset\n",
    "Pipeline:\n",
    "* Generation of high-res data (reference) using some random cubes of water\n",
    "* Extracting relevant data (particle data and grid data) like e.g. sdf, velocity, pressure, density...\n",
    "* Down-sampling of particles (by a given factor) and generation of the low-res data (source)\n",
    "* Extract corresponding and relevant patches on the surface from the data-set pairs (considering the low-res data)\n",
    "* Use patche-pairs to train the NN"
   ]
  },
  {
   "cell_type": "markdown",
   "metadata": {},
   "source": [
    "### Load Config"
   ]
  },
  {
   "cell_type": "markdown",
   "metadata": {},
   "source": [
    "**Main Config**"
   ]
  },
  {
   "cell_type": "code",
   "execution_count": 1,
   "metadata": {
    "collapsed": false
   },
   "outputs": [
    {
     "name": "stdout",
     "output_type": "stream",
     "text": [
      "key                  value                     description\n",
      "\n",
      "data                 data/data_00.txt          data config location\n",
      "train                train/train_02.txt        train config location\n",
      "preprocess           preprocess/pre_02.txt     pre-processing config location\n",
      "id                   v03                       id of the config version\n"
     ]
    }
   ],
   "source": [
    "import sys\n",
    "sys.path.append(\"manta/scenes/tools\")\n",
    "import json\n",
    "import os\n",
    "\n",
    "def print_config(config, desc):\n",
    "    print(\"{:<20} {:<25} {:<10}\\n\".format(\"key\", \"value\", \"description\"))\n",
    "    for k, v in config.items():\n",
    "        print(\"{:<20} {:<25} {:<10}\".format(k, str(v), desc[k]))\n",
    "\n",
    "config_path = \"config/version_03.txt\"\n",
    "data_path = \"2d_data/\"\n",
    "dataset = 19\n",
    "\n",
    "with open(config_path, 'r') as f:\n",
    "    config = json.loads(f.read())\n",
    "\n",
    "print_config(config, {\n",
    "        \"preprocess\" : \"pre-processing config location\",\n",
    "        \"id\" : \"id of the config version\",\n",
    "        \"data\" : \"data config location\",\n",
    "        \"train\" : \"train config location\"\n",
    "    })\n"
   ]
  },
  {
   "cell_type": "markdown",
   "metadata": {},
   "source": [
    "**Data Config**"
   ]
  },
  {
   "cell_type": "code",
   "execution_count": 2,
   "metadata": {
    "collapsed": false
   },
   "outputs": [
    {
     "name": "stdout",
     "output_type": "stream",
     "text": [
      "key                  value                     description\n",
      "\n",
      "sub_res              2                         count of particles per cell (per dimension)\n",
      "var1                 0.5                       factor of drop falling in basin data-sets (var0 is 1 - var1 - var2)\n",
      "max_h                0.1                       maximum start-height of boxes\n",
      "data_count           20                        count of generated datasets\n",
      "res                  150                       resolution of high-res grid\n",
      "max_cnt              5                         maximum count of boxes\n",
      "circ_vel             100.0                     velocity used for colliding drops\n",
      "fps                  30                        frames per second, the velocity of the simulation\n",
      "max_scale            0.3                       maximum scale of boxes for data-set generation\n",
      "max_pos              0.8                       maximum x-position of boxes\n",
      "prefix               sph_2D                    prefix of the generated data\n",
      "var2                 0                         factor of two drop shooting against other\n",
      "seed                 123412144                 seed for random data-set generation\n",
      "id                   dat00                     id of the config version\n",
      "min_pos              0.2                       minimum x-position of boxes\n",
      "min_scale            0.05                      minimum scale of boxes for data-set generation\n",
      "frame_count          20                        count of generated frames\n"
     ]
    }
   ],
   "source": [
    "with open(os.path.dirname(config_path) + '/' + config['data'], 'r') as f:\n",
    "    data_config = json.loads(f.read())\n",
    "print_config(data_config, {\n",
    "        \"id\":             \"id of the config version\",\n",
    "        \"prefix\":         \"prefix of the generated data\",\n",
    "        \"fps\":            \"frames per second, the velocity of the simulation\",\n",
    "        \"frame_count\":    \"count of generated frames\",\n",
    "        \"data_count\":     \"count of generated datasets\",\n",
    "        \"sub_res\":        \"count of particles per cell (per dimension)\",\n",
    "        \"res\":            \"resolution of high-res grid\",\n",
    "        \"var1\":           \"factor of drop falling in basin data-sets (var0 is 1 - var1 - var2)\",\n",
    "        \"var2\":           \"factor of two drop shooting against other\",\n",
    "        \"seed\":           \"seed for random data-set generation\",\n",
    "        \"min_scale\":      \"minimum scale of boxes for data-set generation\",\n",
    "        \"max_scale\":      \"maximum scale of boxes for data-set generation\",\n",
    "        \"min_pos\":        \"minimum x-position of boxes\",\n",
    "        \"max_pos\":        \"maximum x-position of boxes\",\n",
    "        \"max_h\":          \"maximum start-height of boxes\",\n",
    "        \"max_cnt\":        \"maximum count of boxes\",\n",
    "        \"circ_vel\":       \"velocity used for colliding drops\"\n",
    "    })"
   ]
  },
  {
   "cell_type": "markdown",
   "metadata": {},
   "source": [
    "**Pre-process Config**"
   ]
  },
  {
   "cell_type": "code",
   "execution_count": 3,
   "metadata": {
    "collapsed": false
   },
   "outputs": [
    {
     "name": "stdout",
     "output_type": "stream",
     "text": [
      "key                  value                     description\n",
      "\n",
      "l_fac                4.0                       multiplicative factor of low-res sdf-patches\n",
      "h_fac                12.0                      multiplicative factor of high-res sdf-patches\n",
      "par_cnt              10                        particle count for each patch\n",
      "min_n                0                         minimum amount of neighbors used for down-sampling\n",
      "surf                 0.5                       surface tolerance, specifies where to extract the patches\n",
      "stride               2                         stride used for the generation of the patches\n",
      "factor               9                         goal up-scale factor of particles\n",
      "id                   p02                       id of the config version\n",
      "use_tanh             1                         apply tanh on sdf-patches, after multiplication with factor\n",
      "patch_size           5                         size of generated surface patches (of the low-res data)\n",
      "var                  1                         count of down-samplings of the same data-set with different seeds\n"
     ]
    }
   ],
   "source": [
    "with open(os.path.dirname(config_path) + '/' + config['preprocess'], 'r') as f:\n",
    "    pre_config = json.loads(f.read())\n",
    "print_config(pre_config, {\n",
    "        \"id\":             \"id of the config version\",\n",
    "        \"patch_size\":     \"size of generated surface patches (of the low-res data)\",\n",
    "        \"stride\":         \"stride used for the generation of the patches\",\n",
    "        \"surf\":           \"surface tolerance, specifies where to extract the patches\",\n",
    "        \"l_fac\":          \"multiplicative factor of low-res sdf-patches\",\n",
    "        \"h_fac\":          \"multiplicative factor of high-res sdf-patches\",\n",
    "        \"use_tanh\":       \"apply tanh on sdf-patches, after multiplication with factor\",\n",
    "        \"factor\":         \"goal up-scale factor of particles\",\n",
    "        \"min_n\":          \"minimum amount of neighbors used for down-sampling\",\n",
    "        \"var\":            \"count of down-samplings of the same data-set with different seeds\",\n",
    "        \"par_cnt\":        \"particle count for each patch\"\n",
    "    })"
   ]
  },
  {
   "cell_type": "markdown",
   "metadata": {},
   "source": [
    "**Train Config**"
   ]
  },
  {
   "cell_type": "code",
   "execution_count": 4,
   "metadata": {
    "collapsed": false
   },
   "outputs": [
    {
     "name": "stdout",
     "output_type": "stream",
     "text": [
      "key                  value                     description\n",
      "\n",
      "train_split          0.9                       split ratio for train and test data\n",
      "explicit             True                      specify if use a lagrangian- or eulerian-based network\n",
      "t_start              5                         timestep start-point of data\n",
      "learning_rate        0.001                     learing rate used for training\n",
      "epochs               250                       training epochs\n",
      "val_split            0.2                       split ratio for train and validation data\n",
      "batch_size           32                        batch size used for training and validation\n",
      "t_end                15                        timestep end-point of data\n",
      "id                   t02                       id of the config version\n",
      "adv_fac              0.0                       adversarial loss factor, if bigger then one a GAN architecture is used\n",
      "features             ['ps', 'vel', 'dens']     list of strings which the features used by the neural network\n",
      "mse_fac              1.0                       MSE loss factor\n"
     ]
    }
   ],
   "source": [
    "with open(os.path.dirname(config_path) + '/' + config['train'], 'r') as f:\n",
    "    train_config = json.loads(f.read())\n",
    "print_config(train_config, {\n",
    "        \"id\":                 \"id of the config version\",\n",
    "        \"train_split\":        \"split ratio for train and test data\",\n",
    "        \"val_split\":          \"split ratio for train and validation data\",\n",
    "        \"t_start\":            \"timestep start-point of data\",\n",
    "        \"t_end\":              \"timestep end-point of data\",\n",
    "        \"features\":           \"list of strings which the features used by the neural network\",\n",
    "        \"batch_size\":         \"batch size used for training and validation\",\n",
    "        \"learning_rate\":      \"learing rate used for training\",\n",
    "        \"epochs\":             \"training epochs\",\n",
    "        \"explicit\":           \"specify if use a lagrangian- or eulerian-based network\",\n",
    "        \"mse_fac\":            \"MSE loss factor\",\n",
    "        \"adv_fac\":            \"adversarial loss factor, if bigger then one a GAN architecture is used\"\n",
    "    })"
   ]
  },
  {
   "cell_type": "markdown",
   "metadata": {},
   "source": [
    "### Reference Data (High Resolution)"
   ]
  },
  {
   "cell_type": "code",
   "execution_count": 27,
   "metadata": {
    "collapsed": false
   },
   "outputs": [
    {
     "name": "stdout",
     "output_type": "stream",
     "text": [
      "python3 show_data.py var 0 data 2d_data/ scr tmp/ref.png verbose 0 t_start 14 type ref dataset 19 manta manta/ config config/version_00.txt t_end 15\n"
     ]
    }
   ],
   "source": [
    "from subprocess import Popen, PIPE \n",
    "from IPython.display import Image\n",
    "\n",
    "def run_python(script,param):\n",
    "    command = [\"python3\",script]\n",
    "    for k,v in param.items():\n",
    "        command += [k, str(v)]\n",
    "    print(\" \".join(command))\n",
    "    \n",
    "    proc = Popen(command, stdin=None, stdout=PIPE, stderr=PIPE)\n",
    "\n",
    "    for line in proc.stderr:\n",
    "        print(line.decode('utf-8'))\n",
    "\n",
    "if not os.path.exists(\"tmp\"):\n",
    "    os.makedirs(\"tmp\")\n",
    "    \n",
    "param = {\n",
    "    \"data\" : data_path,\n",
    "    \"manta\" : \"manta/\",\n",
    "    \"config\" : config_path,\n",
    "    \"verbose\" : 0,\n",
    "    \"t_start\" : train_config[\"t_end\"]-1,\n",
    "    \"t_end\" : train_config[\"t_end\"],\n",
    "    \"dataset\" : dataset,\n",
    "    \"var\": 0,\n",
    "    \"type\": \"ref\",\n",
    "    \"scr\" : \"tmp/ref.png\"\n",
    "}\n",
    "\n",
    "run_python(\"show_data.py\",param)"
   ]
  },
  {
   "cell_type": "markdown",
   "metadata": {},
   "source": [
    "<img src=\"tmp/ref.png\" width=\"400\"/> "
   ]
  },
  {
   "cell_type": "markdown",
   "metadata": {},
   "source": [
    "### Reference Data (Low Resolution)"
   ]
  },
  {
   "cell_type": "code",
   "execution_count": 28,
   "metadata": {
    "collapsed": false
   },
   "outputs": [
    {
     "name": "stdout",
     "output_type": "stream",
     "text": [
      "python3 show_data.py var 0 data 2d_data/ scr tmp/real_%02d.png verbose 0 t_start 5 type real dataset 19 manta manta/ config config/version_00.txt t_end 15\n"
     ]
    }
   ],
   "source": [
    "param = {\n",
    "    \"data\" : data_path,\n",
    "    \"manta\" : \"manta/\",\n",
    "    \"config\" : config_path,\n",
    "    \"verbose\" : 0,\n",
    "    \"t_start\" : train_config[\"t_end\"]-1,\n",
    "    \"t_end\" : train_config[\"t_end\"],\n",
    "    \"dataset\" : dataset,\n",
    "    \"var\": 0,\n",
    "    \"type\": \"real\",\n",
    "    \"scr\" : \"tmp/real.png\"\n",
    "}\n",
    "\n",
    "run_python(\"show_data.py\",param)"
   ]
  },
  {
   "cell_type": "markdown",
   "metadata": {},
   "source": [
    "<img src=\"tmp/real.png\" width=\"400\"/> "
   ]
  },
  {
   "cell_type": "markdown",
   "metadata": {},
   "source": [
    "### Source Data (Low Resolution)"
   ]
  },
  {
   "cell_type": "code",
   "execution_count": 61,
   "metadata": {
    "collapsed": false
   },
   "outputs": [
    {
     "name": "stdout",
     "output_type": "stream",
     "text": [
      "python3 show_data.py var 0 data 2d_data/ scr tmp/src_%02d.png verbose 0 t_start 5 type src dataset 19 manta manta/ config config/version_01.txt t_end 15\n"
     ]
    }
   ],
   "source": [
    "param = {\n",
    "    \"data\" : data_path,\n",
    "    \"manta\" : \"manta/\",\n",
    "    \"config\" : config_path,\n",
    "    \"verbose\" : 0,\n",
    "    \"t_start\" : train_config[\"t_end\"]-1,\n",
    "    \"t_end\" : train_config[\"t_end\"],\n",
    "    \"dataset\" : dataset,\n",
    "    \"var\": 0,\n",
    "    \"type\": \"src\",\n",
    "    \"scr\" : \"tmp/src.png\"\n",
    "}\n",
    "\n",
    "run_python(\"show_data.py\",param)"
   ]
  },
  {
   "cell_type": "markdown",
   "metadata": {},
   "source": [
    "<img src=\"tmp/src.png\" width=\"400\"/> "
   ]
  },
  {
   "cell_type": "markdown",
   "metadata": {},
   "source": [
    "### Extracted Patches"
   ]
  },
  {
   "cell_type": "code",
   "execution_count": 8,
   "metadata": {
    "collapsed": false
   },
   "outputs": [
    {
     "name": "stdout",
     "output_type": "stream",
     "text": [
      "python3 show_patches.py var 0 data 2d_data/ verbose 0 l_scr tmp/src_patch_%02d.png timestep 14 dataset 19 manta manta/ config config/version_03.txt h_scr tmp/ref_patch_%02d.png\n"
     ]
    }
   ],
   "source": [
    "param = {\n",
    "    \"data\" : data_path,\n",
    "    \"manta\" : \"manta/\",\n",
    "    \"config\" : config_path,\n",
    "    \"verbose\" : 0,\n",
    "    \"timestep\" : train_config[\"t_end\"]-1,\n",
    "    \"dataset\" : dataset,\n",
    "    \"var\": 0,\n",
    "    \"l_scr\" : \"tmp/src_patch_%02d.png\",\n",
    "    \"h_scr\" : \"tmp/ref_patch_%02d.png\"\n",
    "}\n",
    "\n",
    "run_python(\"show_patches.py\",param)"
   ]
  },
  {
   "cell_type": "markdown",
   "metadata": {},
   "source": [
    "<img src=\"tmp/src_patch_29.png\" width=\"400\"/> \n",
    "<img src=\"tmp/ref_patch_29.png\" width=\"400\"/> "
   ]
  },
  {
   "cell_type": "markdown",
   "metadata": {},
   "source": [
    "### Neural Network"
   ]
  },
  {
   "cell_type": "markdown",
   "metadata": {},
   "source": [
    "**Model**"
   ]
  },
  {
   "cell_type": "code",
   "execution_count": 5,
   "metadata": {
    "collapsed": false,
    "scrolled": false
   },
   "outputs": [
    {
     "name": "stderr",
     "output_type": "stream",
     "text": [
      "Using TensorFlow backend.\n"
     ]
    },
    {
     "name": "stdout",
     "output_type": "stream",
     "text": [
      "2d_data/models/sph_2D_v03.h5\n",
      "__________________________________________________________________________________________________\n",
      "Layer (type)                    Output Shape         Param #     Connected to                     \n",
      "==================================================================================================\n",
      "main (InputLayer)               (None, 10, 3)        0                                            \n",
      "__________________________________________________________________________________________________\n",
      "spatial_transformer_1 (SpatialT (None, 10, 3)        799113      main[0][0]                       \n",
      "__________________________________________________________________________________________________\n",
      "lambda_1 (Lambda)               (None, 1, 3)         0           spatial_transformer_1[0][0]      \n",
      "__________________________________________________________________________________________________\n",
      "lambda_2 (Lambda)               (None, 1, 3)         0           spatial_transformer_1[0][0]      \n",
      "__________________________________________________________________________________________________\n",
      "lambda_3 (Lambda)               (None, 1, 3)         0           spatial_transformer_1[0][0]      \n",
      "__________________________________________________________________________________________________\n",
      "lambda_4 (Lambda)               (None, 1, 3)         0           spatial_transformer_1[0][0]      \n",
      "__________________________________________________________________________________________________\n",
      "lambda_5 (Lambda)               (None, 1, 3)         0           spatial_transformer_1[0][0]      \n",
      "__________________________________________________________________________________________________\n",
      "lambda_6 (Lambda)               (None, 1, 3)         0           spatial_transformer_1[0][0]      \n",
      "__________________________________________________________________________________________________\n",
      "lambda_7 (Lambda)               (None, 1, 3)         0           spatial_transformer_1[0][0]      \n",
      "__________________________________________________________________________________________________\n",
      "lambda_8 (Lambda)               (None, 1, 3)         0           spatial_transformer_1[0][0]      \n",
      "__________________________________________________________________________________________________\n",
      "lambda_9 (Lambda)               (None, 1, 3)         0           spatial_transformer_1[0][0]      \n",
      "__________________________________________________________________________________________________\n",
      "lambda_10 (Lambda)              (None, 1, 3)         0           spatial_transformer_1[0][0]      \n",
      "__________________________________________________________________________________________________\n",
      "dense_4 (SplitDense)            [(None, 1, 64), (Non 256         lambda_1[0][0]                   \n",
      "                                                                 lambda_2[0][0]                   \n",
      "                                                                 lambda_3[0][0]                   \n",
      "                                                                 lambda_4[0][0]                   \n",
      "                                                                 lambda_5[0][0]                   \n",
      "                                                                 lambda_6[0][0]                   \n",
      "                                                                 lambda_7[0][0]                   \n",
      "                                                                 lambda_8[0][0]                   \n",
      "                                                                 lambda_9[0][0]                   \n",
      "                                                                 lambda_10[0][0]                  \n",
      "__________________________________________________________________________________________________\n",
      "dense_5 (SplitDense)            [(None, 1, 64), (Non 4160        dense_4[0][0]                    \n",
      "                                                                 dense_4[0][1]                    \n",
      "                                                                 dense_4[0][2]                    \n",
      "                                                                 dense_4[0][3]                    \n",
      "                                                                 dense_4[0][4]                    \n",
      "                                                                 dense_4[0][5]                    \n",
      "                                                                 dense_4[0][6]                    \n",
      "                                                                 dense_4[0][7]                    \n",
      "                                                                 dense_4[0][8]                    \n",
      "                                                                 dense_4[0][9]                    \n",
      "__________________________________________________________________________________________________\n",
      "concatenate_1 (Concatenate)     (None, 10, 64)       0           dense_5[0][0]                    \n",
      "                                                                 dense_5[0][1]                    \n",
      "                                                                 dense_5[0][2]                    \n",
      "                                                                 dense_5[0][3]                    \n",
      "                                                                 dense_5[0][4]                    \n",
      "                                                                 dense_5[0][5]                    \n",
      "                                                                 dense_5[0][6]                    \n",
      "                                                                 dense_5[0][7]                    \n",
      "                                                                 dense_5[0][8]                    \n",
      "                                                                 dense_5[0][9]                    \n",
      "__________________________________________________________________________________________________\n",
      "spatial_transformer_2 (SpatialT (None, 10, 64)       34879488    concatenate_1[0][0]              \n",
      "__________________________________________________________________________________________________\n",
      "lambda_11 (Lambda)              (None, 1, 64)        0           spatial_transformer_2[0][0]      \n",
      "__________________________________________________________________________________________________\n",
      "lambda_12 (Lambda)              (None, 1, 64)        0           spatial_transformer_2[0][0]      \n",
      "__________________________________________________________________________________________________\n",
      "lambda_13 (Lambda)              (None, 1, 64)        0           spatial_transformer_2[0][0]      \n",
      "__________________________________________________________________________________________________\n",
      "lambda_14 (Lambda)              (None, 1, 64)        0           spatial_transformer_2[0][0]      \n",
      "__________________________________________________________________________________________________\n",
      "lambda_15 (Lambda)              (None, 1, 64)        0           spatial_transformer_2[0][0]      \n",
      "__________________________________________________________________________________________________\n",
      "lambda_16 (Lambda)              (None, 1, 64)        0           spatial_transformer_2[0][0]      \n",
      "__________________________________________________________________________________________________\n",
      "lambda_17 (Lambda)              (None, 1, 64)        0           spatial_transformer_2[0][0]      \n",
      "__________________________________________________________________________________________________\n",
      "lambda_18 (Lambda)              (None, 1, 64)        0           spatial_transformer_2[0][0]      \n",
      "__________________________________________________________________________________________________\n",
      "lambda_19 (Lambda)              (None, 1, 64)        0           spatial_transformer_2[0][0]      \n",
      "__________________________________________________________________________________________________\n",
      "lambda_20 (Lambda)              (None, 1, 64)        0           spatial_transformer_2[0][0]      \n",
      "__________________________________________________________________________________________________\n",
      "dense_9 (SplitDense)            [(None, 1, 64), (Non 4160        lambda_11[0][0]                  \n",
      "                                                                 lambda_12[0][0]                  \n",
      "                                                                 lambda_13[0][0]                  \n",
      "                                                                 lambda_14[0][0]                  \n",
      "                                                                 lambda_15[0][0]                  \n",
      "                                                                 lambda_16[0][0]                  \n",
      "                                                                 lambda_17[0][0]                  \n",
      "                                                                 lambda_18[0][0]                  \n",
      "                                                                 lambda_19[0][0]                  \n",
      "                                                                 lambda_20[0][0]                  \n",
      "__________________________________________________________________________________________________\n",
      "dense_10 (SplitDense)           [(None, 1, 128), (No 8320        dense_9[0][0]                    \n",
      "                                                                 dense_9[0][1]                    \n",
      "                                                                 dense_9[0][2]                    \n",
      "                                                                 dense_9[0][3]                    \n",
      "                                                                 dense_9[0][4]                    \n",
      "                                                                 dense_9[0][5]                    \n",
      "                                                                 dense_9[0][6]                    \n",
      "                                                                 dense_9[0][7]                    \n",
      "                                                                 dense_9[0][8]                    \n",
      "                                                                 dense_9[0][9]                    \n",
      "__________________________________________________________________________________________________\n",
      "dense_11 (SplitDense)           [(None, 1, 128), (No 16512       dense_10[0][0]                   \n",
      "                                                                 dense_10[0][1]                   \n",
      "                                                                 dense_10[0][2]                   \n",
      "                                                                 dense_10[0][3]                   \n",
      "                                                                 dense_10[0][4]                   \n",
      "                                                                 dense_10[0][5]                   \n",
      "                                                                 dense_10[0][6]                   \n",
      "                                                                 dense_10[0][7]                   \n",
      "                                                                 dense_10[0][8]                   \n",
      "                                                                 dense_10[0][9]                   \n",
      "__________________________________________________________________________________________________\n",
      "add_1 (Add)                     (None, 1, 128)       0           dense_11[0][0]                   \n",
      "                                                                 dense_11[0][1]                   \n",
      "                                                                 dense_11[0][2]                   \n",
      "                                                                 dense_11[0][3]                   \n",
      "                                                                 dense_11[0][4]                   \n",
      "                                                                 dense_11[0][5]                   \n",
      "                                                                 dense_11[0][6]                   \n",
      "                                                                 dense_11[0][7]                   \n",
      "                                                                 dense_11[0][8]                   \n",
      "                                                                 dense_11[0][9]                   \n",
      "__________________________________________________________________________________________________\n",
      "dense_12 (Dense)                (None, 1, 512)       66048       add_1[0][0]                      \n",
      "__________________________________________________________________________________________________\n",
      "dense_13 (Dense)                (None, 1, 256)       131328      dense_12[0][0]                   \n",
      "__________________________________________________________________________________________________\n",
      "dense_14 (Dense)                (None, 1, 30)        7710        dense_13[0][0]                   \n",
      "__________________________________________________________________________________________________\n",
      "reshape_5 (Reshape)             (None, 10, 3)        0           dense_14[0][0]                   \n",
      "==================================================================================================\n",
      "Total params: 35,917,095\n",
      "Trainable params: 35,917,095\n",
      "Non-trainable params: 0\n",
      "__________________________________________________________________________________________________\n"
     ]
    }
   ],
   "source": [
    "import keras\n",
    "from keras.models import load_model\n",
    "from subpixel import *\n",
    "from spatial_transformer import *\n",
    "from split_dense import *\n",
    "\n",
    "model_path = '%s%s_%s' % (data_path + \"models/\", data_config['prefix'], config['id'])\n",
    "print(model_path + \".h5\")\n",
    "load_model(model_path + \".h5\", custom_objects={'Subpixel': Subpixel, 'SpatialTransformer': SpatialTransformer, 'SplitDense': SplitDense}).summary()\n",
    "if train_config['adv_fac'] > 0:\n",
    "    print(\"\\nDiscriminator:\\n\")\n",
    "    load_model(model_path + \"_dis.h5\", custom_objects={'Subpixel': Subpixel}).summary()"
   ]
  },
  {
   "cell_type": "markdown",
   "metadata": {},
   "source": [
    "**Loss**"
   ]
  },
  {
   "cell_type": "code",
   "execution_count": 42,
   "metadata": {
    "collapsed": false
   },
   "outputs": [
    {
     "name": "stdout",
     "output_type": "stream",
     "text": [
      "2d_data/models/sph_2D_v01_loss.png\n"
     ]
    },
    {
     "data": {
      "image/png": "[encoded data removed]",
      "text/plain": [
       "<IPython.core.display.Image object>"
      ]
     },
     "execution_count": 42,
     "metadata": {
      "image/png": {
       "width": 400
      }
     },
     "output_type": "execute_result"
    }
   ],
   "source": [
    "fig_path = '%s_loss.png' % model_path\n",
    "print(fig_path)\n",
    "Image(filename=fig_path, width=400) "
   ]
  },
  {
   "cell_type": "markdown",
   "metadata": {},
   "source": [
    "### Results"
   ]
  },
  {
   "cell_type": "code",
   "execution_count": 56,
   "metadata": {
    "collapsed": false
   },
   "outputs": [
    {
     "name": "stdout",
     "output_type": "stream",
     "text": [
      "python3 run.py var 0 config config/version_02.txt t_start 5 verbose 0 dataset 19 data 2d_data/ t_end 15\n",
      "2017-12-06 10:47:43.962010: W tensorflow/core/platform/cpu_feature_guard.cc:45] The TensorFlow library wasn't compiled to use SSE4.2 instructions, but these are available on your machine and could speed up CPU computations.\n",
      "\n",
      "2017-12-06 10:47:43.962040: W tensorflow/core/platform/cpu_feature_guard.cc:45] The TensorFlow library wasn't compiled to use AVX instructions, but these are available on your machine and could speed up CPU computations.\n",
      "\n",
      "2017-12-06 10:47:43.962046: W tensorflow/core/platform/cpu_feature_guard.cc:45] The TensorFlow library wasn't compiled to use AVX2 instructions, but these are available on your machine and could speed up CPU computations.\n",
      "\n",
      "2017-12-06 10:47:43.962051: W tensorflow/core/platform/cpu_feature_guard.cc:45] The TensorFlow library wasn't compiled to use FMA instructions, but these are available on your machine and could speed up CPU computations.\n",
      "\n",
      "Using TensorFlow backend.\n",
      "\n"
     ]
    }
   ],
   "source": [
    "# run network\n",
    "param = {\n",
    "    \"data\" : data_path,\n",
    "    \"config\" : config_path,\n",
    "    \"verbose\" : 0,\n",
    "    \"t_start\" : train_config[\"t_start\"],\n",
    "    \"t_end\" : train_config[\"t_end\"],\n",
    "    \"dataset\" : dataset,\n",
    "    \"var\": 0\n",
    "}\n",
    "\n",
    "run_python(\"run.py\",param)"
   ]
  },
  {
   "cell_type": "code",
   "execution_count": 57,
   "metadata": {
    "collapsed": false
   },
   "outputs": [
    {
     "name": "stdout",
     "output_type": "stream",
     "text": [
      "python3 show_data.py var 0 data 2d_data/ scr tmp/res_%03d.png verbose 0 t_start 5 type res dataset 19 manta manta/ config config/version_02.txt t_end 15\n"
     ]
    }
   ],
   "source": [
    "param = {\n",
    "    \"data\" : data_path,\n",
    "    \"manta\" : \"manta/\",\n",
    "    \"config\" : config_path,\n",
    "    \"verbose\" : 0,\n",
    "    \"t_start\" : train_config[\"t_start\"],\n",
    "    \"t_end\" : train_config[\"t_end\"],\n",
    "    \"dataset\" : dataset,\n",
    "    \"var\": 0,\n",
    "    \"type\": \"res\",\n",
    "    \"scr\" : \"tmp/res_%03d.png\"\n",
    "}\n",
    "\n",
    "run_python(\"show_data.py\",param)"
   ]
  },
  {
   "cell_type": "markdown",
   "metadata": {},
   "source": [
    "<img src=\"tmp/res_014.png\" width=\"400\"/> "
   ]
  },
  {
   "cell_type": "code",
   "execution_count": 58,
   "metadata": {
    "collapsed": false
   },
   "outputs": [
    {
     "name": "stdout",
     "output_type": "stream",
     "text": [
      "python3 run.py var 0 data 2d_data/ src 2d_data/real/sph_2D_dat00_d019_%03d verbose 0 t_start 5 dataset 19 config config/version_02.txt t_end 15\n",
      "2017-12-06 10:48:10.129229: W tensorflow/core/platform/cpu_feature_guard.cc:45] The TensorFlow library wasn't compiled to use SSE4.2 instructions, but these are available on your machine and could speed up CPU computations.\n",
      "\n",
      "2017-12-06 10:48:10.129939: W tensorflow/core/platform/cpu_feature_guard.cc:45] The TensorFlow library wasn't compiled to use AVX instructions, but these are available on your machine and could speed up CPU computations.\n",
      "\n",
      "2017-12-06 10:48:10.130174: W tensorflow/core/platform/cpu_feature_guard.cc:45] The TensorFlow library wasn't compiled to use AVX2 instructions, but these are available on your machine and could speed up CPU computations.\n",
      "\n",
      "2017-12-06 10:48:10.131312: W tensorflow/core/platform/cpu_feature_guard.cc:45] The TensorFlow library wasn't compiled to use FMA instructions, but these are available on your machine and could speed up CPU computations.\n",
      "\n",
      "Using TensorFlow backend.\n",
      "\n"
     ]
    }
   ],
   "source": [
    "# run network\n",
    "param = {\n",
    "    \"data\" : data_path,\n",
    "    \"src\" : data_path + \"real/%s_%s_d%03d\" % (data_config['prefix'], data_config['id'], dataset) + \"_%03d\",\n",
    "    \"config\" : config_path,\n",
    "    \"verbose\" : 0,\n",
    "    \"t_start\" : train_config[\"t_start\"],\n",
    "    \"t_end\" : train_config[\"t_end\"],\n",
    "    \"dataset\" : dataset,\n",
    "    \"var\": 0\n",
    "}\n",
    "\n",
    "run_python(\"run.py\",param)"
   ]
  },
  {
   "cell_type": "code",
   "execution_count": 59,
   "metadata": {
    "collapsed": false
   },
   "outputs": [
    {
     "name": "stdout",
     "output_type": "stream",
     "text": [
      "python3 show_data.py var 0 data 2d_data/ scr tmp/real_res_%03d.png verbose 0 t_start 5 type res_real dataset 19 manta manta/ config config/version_02.txt t_end 15\n"
     ]
    }
   ],
   "source": [
    "param = {\n",
    "    \"data\" : data_path,\n",
    "    \"manta\" : \"manta/\",\n",
    "    \"config\" : config_path,\n",
    "    \"verbose\" : 0,\n",
    "    \"t_start\" : train_config[\"t_start\"],\n",
    "    \"t_end\" : train_config[\"t_end\"],\n",
    "    \"dataset\" : dataset,\n",
    "    \"var\": 0,\n",
    "    \"type\": \"res_real\",\n",
    "    \"scr\" : \"tmp/real_res_%03d.png\"\n",
    "}\n",
    "\n",
    "run_python(\"show_data.py\",param)"
   ]
  },
  {
   "cell_type": "markdown",
   "metadata": {},
   "source": [
    "<img src=\"tmp/real_res_014.png\" width=\"400\"/> "
   ]
  },
  {
   "cell_type": "code",
   "execution_count": null,
   "metadata": {
    "collapsed": true
   },
   "outputs": [],
   "source": []
  }
 ],
 "metadata": {
  "kernelspec": {
   "display_name": "Python 3",
   "language": "python",
   "name": "python3"
  },
  "language_info": {
   "codemirror_mode": {
    "name": "ipython",
    "version": 3
   },
   "file_extension": ".py",
   "mimetype": "text/x-python",
   "name": "python",
   "nbconvert_exporter": "python",
   "pygments_lexer": "ipython3",
   "version": "3.5.0"
  }
 },
 "nbformat": 4,
 "nbformat_minor": 1
}
