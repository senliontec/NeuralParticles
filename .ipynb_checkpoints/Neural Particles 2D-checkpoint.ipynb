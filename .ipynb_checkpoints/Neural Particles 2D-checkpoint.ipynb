{
 "cells": [
  {
   "cell_type": "markdown",
   "metadata": {},
   "source": [
    "# Neural Particles 2D"
   ]
  },
  {
   "cell_type": "markdown",
   "metadata": {},
   "source": [
    "## 2D Dataset"
   ]
  },
  {
   "cell_type": "markdown",
   "metadata": {},
   "source": [
    "### Setup"
   ]
  },
  {
   "cell_type": "code",
   "execution_count": null,
   "metadata": {
    "collapsed": false
   },
   "outputs": [],
   "source": [
    "import os\n",
    "from subprocess import Popen, PIPE\n",
    "\n",
    "dir_loc = \"2D_SPH/\"\n",
    "\n",
    "data_version = 0\n",
    "\n",
    "def run_manta(scene, param={}):\n",
    "    command = [dir_loc+\"build/manta\", dir_loc+scene]\n",
    "\n",
    "    for k, v in param.items():\n",
    "        command += [k, str(v)]\n",
    "        \n",
    "    print(\" \".join(command) + \"\\n\")\n",
    "\n",
    "    proc = Popen(command, stdin=None, stdout=PIPE, stderr=PIPE)\n",
    "\n",
    "    for line in proc.stdout:\n",
    "        print(line.decode('utf-8'))\n",
    "    for line in proc.stderr:\n",
    "        print(line.decode('utf-8'))\n",
    "    "
   ]
  },
  {
   "cell_type": "markdown",
   "metadata": {},
   "source": [
    "### Generate High-res Data"
   ]
  },
  {
   "cell_type": "code",
   "execution_count": null,
   "metadata": {
    "collapsed": false
   },
   "outputs": [],
   "source": [
    "highres_prefix = \"2D_data/drop_2D_v%02d\" % data_version\n",
    "\n",
    "param = {}\n",
    "param['gui'] = 1\n",
    "param['out'] = highres_prefix+\"_%03d.uni\"\n",
    "\n",
    "run_manta(\"scenes/2D_drop.py\", param)"
   ]
  },
  {
   "cell_type": "markdown",
   "metadata": {},
   "source": [
    "### Downsample Data"
   ]
  },
  {
   "cell_type": "code",
   "execution_count": null,
   "metadata": {
    "collapsed": false
   },
   "outputs": [],
   "source": [
    "lowres_prefix = \"2D_data/tools/l_drop_2D_v%02d\" % data_version\n",
    "\n",
    "param = {}\n",
    "param['gui'] = 1\n",
    "param['in'] = highres_prefix+\"_%03d.uni\"\n",
    "param['out'] = lowres_prefix+\"_%03d.uni\"\n",
    "\n",
    "run_manta(\"scenes/tools/downsample.py\", param)"
   ]
  },
  {
   "cell_type": "markdown",
   "metadata": {},
   "source": [
    "## Train Neural Network"
   ]
  },
  {
   "cell_type": "markdown",
   "metadata": {},
   "source": [
    "### Setup Neural Network"
   ]
  },
  {
   "cell_type": "code",
   "execution_count": null,
   "metadata": {
    "collapsed": false
   },
   "outputs": [],
   "source": [
    "import keras\n",
    "from keras.models import Sequential\n",
    "from keras.layers import Dense, Activation\n",
    "\n",
    "conv_f = 3\n",
    "conv_k = 3\n",
    "conv_s = (1, 1)\n",
    "\n",
    "deconv_f = 3\n",
    "deconv_k = 3\n",
    "deconv_s = (1, 1)\n",
    "\n",
    "input_shape = (64, 64, 1)\n",
    "\n",
    "model = Sequential()\n",
    "\n",
    "model.add(keras.layers.Conv2D(input_shape=input_shape, filters=conv_f,            \\\n",
    "                              kernel_size=conv_k, strides=conv_s,                 \\\n",
    "                              padding='valid', data_format=None,                  \\\n",
    "                              dilation_rate=(1, 1), activation=None,              \\\n",
    "                              use_bias=True, kernel_initializer='glorot_uniform', \\\n",
    "                              bias_initializer='zeros', kernel_regularizer=None,  \\\n",
    "                              bias_regularizer=None, activity_regularizer=None,   \\\n",
    "                              kernel_constraint=None, bias_constraint=None))\n",
    "\n",
    "model.add(Dense(units=100))\n",
    "model.add(Activation('relu'))\n",
    "\n",
    "model.add(keras.layers.Conv2DTranspose(filters=deconv_f, kernel_size=deconv_k,    \\\n",
    "                                       strides=deconv_s, padding='valid',         \\\n",
    "                                       data_format=None, activation=None,         \\\n",
    "                                       use_bias=True,                             \\\n",
    "                                       kernel_initializer='glorot_uniform',       \\\n",
    "                                       bias_initializer='zeros',                  \\\n",
    "                                       kernel_regularizer=None,                   \\\n",
    "                                       bias_regularizer=None,                     \\\n",
    "                                       activity_regularizer=None,                 \\\n",
    "                                       kernel_constraint=None,                    \\\n",
    "                                       bias_constraint=None))"
   ]
  },
  {
   "cell_type": "code",
   "execution_count": null,
   "metadata": {
    "collapsed": true
   },
   "outputs": [],
   "source": []
  }
 ],
 "metadata": {
  "kernelspec": {
   "display_name": "Python 3",
   "language": "python",
   "name": "python3"
  },
  "language_info": {
   "codemirror_mode": {
    "name": "ipython",
    "version": 3
   },
   "file_extension": ".py",
   "mimetype": "text/x-python",
   "name": "python",
   "nbconvert_exporter": "python",
   "pygments_lexer": "ipython3",
   "version": "3.5.0"
  }
 },
 "nbformat": 4,
 "nbformat_minor": 1
}
