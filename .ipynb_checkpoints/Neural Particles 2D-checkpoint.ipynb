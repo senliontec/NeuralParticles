{
 "cells": [
  {
   "cell_type": "markdown",
   "metadata": {},
   "source": [
    "# Neural Particles 2D"
   ]
  },
  {
   "cell_type": "markdown",
   "metadata": {},
   "source": [
    "## 2D Dataset\n",
    "Pipeline:\n",
    "* Generation of high-res data (reference) using some random cubes of water\n",
    "* Extracting relevant data (particle data and grid data) like e.g. sdf, velocity, pressure, density...\n",
    "* Down-sampling of particles (by a given factor) and generation of the low-res data (source)\n",
    "* Extract corresponding and relevant patches on the surface from the data-set pairs (considering the low-res data)\n",
    "* Use patche-pairs to train the NN"
   ]
  },
  {
   "cell_type": "markdown",
   "metadata": {},
   "source": [
    "### Setup"
   ]
  },
  {
   "cell_type": "markdown",
   "metadata": {},
   "source": [
    "Simple structs containing parameters for different data-set and neural network versions.\n",
    "\n",
    "Data-set Parameters:\n",
    "* **prefix**: prefix of filename\n",
    "* **nn_version**: used neural network version\n",
    "* **patch_size**: size of generated surface patches (of the low-res data)\n",
    "* **stride**: stride used for the generation of the patches\n",
    "* **surf**: surface tolerance, specifies which sdf-values are considered as surface (for patches)\n",
    "* **fps**: frames per second, the velocity of the simulation\n",
    "* **frame_count**: count of generated frames\n",
    "* **sub_res**: count of particles per cell (per dimension)\n",
    "* **res**: resolution of high-res grid\n",
    "* **var1**: factor of drop falling in basin data-sets (var0 is 1 - var1 - var2)\n",
    "* **var2**: factor of two drop shooting against other\n",
    "* **factor**: goal up-scale factor of particles\n",
    "* **upres**: specify if the low-res grids will be up-scaled to res (=> input and output same scale)\n",
    "* **l_fac**: multiplicative factor of low-res sdf-patches\n",
    "* **h_fac**: multiplicative factor of high-res sdf-patches\n",
    "* **use_tanh**: apply tanh on sdf-patches, after multiplication with factor\n",
    "* **seed**: seed for random data-set generation\n",
    "* **min_scale**: minimum scale of boxes for data-set generation\n",
    "* **max_scale**: maximum scale of boxes for data-set generation\n",
    "* **min_pos**: minimum x-position of boxes\n",
    "* **max_pos**: maximum x-position of boxes\n",
    "* **max_h**: maximum start-height of boxes\n",
    "* **max_cnt**: maximum count of boxes\n",
    "* **circ_vel**: velocity used for colliding drops\n",
    "\n",
    "Neural Network Parameters:\n",
    "* **train_data_count**: count of training data-sets\n",
    "* **val_split**: factor of how much of training data is used for validation\n",
    "* **test_data_count**: count of test data-sets\n",
    "* **batch_size**: batch size used for training and validation\n",
    "* **learning_rate**: learing rate used for training\n",
    "* **epochs**: training epochs"
   ]
  },
  {
   "cell_type": "code",
   "execution_count": 32,
   "metadata": {
    "collapsed": false
   },
   "outputs": [],
   "source": [
    "class DatasetParam:\n",
    "    def __init__(self, prefix=\"sph_2D\", nn_version=0, patch_size=9, stride=3, surf=0.2, \n",
    "                fps=30, frame_count=50, sub_res=2, res=150, factor=10, upres=1, var1=0, var2=0,\n",
    "                l_fac=1.0,h_fac=1.0,use_tanh=0,\n",
    "                seed=124820112, min_scale=0.05, max_scale=0.3,\n",
    "                min_pos=0.2,max_pos=0.8,max_h=0.1,max_cnt=5, circ_vel=100.):\n",
    "    \n",
    "        self.prefix = prefix\n",
    "        self.nn_version = nn_version\n",
    "        self.patch_size = patch_size\n",
    "        self.stride = stride\n",
    "        self.surf = surf\n",
    "        \n",
    "        self.l_fac = l_fac\n",
    "        self.h_fac = h_fac\n",
    "        self.use_tanh = use_tanh\n",
    "\n",
    "        self.fps = fps\n",
    "        self.frame_count = frame_count\n",
    "        self.sub_res = sub_res\n",
    "        self.res = res\n",
    "        self.factor = factor\n",
    "        self.upres = upres\n",
    "        \n",
    "        self.var1 = var1\n",
    "        self.var2 = var2\n",
    "\n",
    "        self.seed = seed\n",
    "        self.min_scale = min_scale\n",
    "        self.max_scale = max_scale\n",
    "        self.min_pos = min_pos\n",
    "        self.max_pos = max_pos\n",
    "        self.max_h = max_h\n",
    "        self.max_cnt = max_cnt    \n",
    "        self.circ_vel = circ_vel\n",
    "\n",
    "class NNParam:\n",
    "    def __init__(self, train_data_count=5, val_split=0.2, test_data_count=1,\n",
    "                 features=['sdf'],\n",
    "                 batch_size=32,learning_rate=0.002,epochs=1000):\n",
    "        self.train_data_count = train_data_count\n",
    "        self.val_split = val_split\n",
    "        self.test_data_count = test_data_count\n",
    "        self.features = features\n",
    "        self.batch_size = batch_size\n",
    "        self.learning_rate=learning_rate\n",
    "        self.epochs = epochs\n"
   ]
  },
  {
   "cell_type": "markdown",
   "metadata": {},
   "source": [
    "Data Version:\n",
    "* **V0**: default values, input and output patches same size\n",
    "* **V1**: smaller patches, input and output patches different size\n",
    "\n",
    "NN Version:\n",
    "* **V0**: CNN with only sdf data\n",
    "* **V1**: also velocity as input"
   ]
  },
  {
   "cell_type": "code",
   "execution_count": 49,
   "metadata": {
    "collapsed": false
   },
   "outputs": [],
   "source": [
    "data_version_param = [\n",
    "    DatasetParam(),\n",
    "    DatasetParam(upres=0,\n",
    "                 factor=9,\n",
    "                 stride=2,\n",
    "                 surf=0.5,\n",
    "                 patch_size=5,\n",
    "                 nn_version=1,\n",
    "                 l_fac=3.0,\n",
    "                 use_tanh=1),\n",
    "    DatasetParam(upres=0,\n",
    "                 factor=9,\n",
    "                 stride=2,\n",
    "                 surf=0.5,\n",
    "                 patch_size=5,\n",
    "                 nn_version=2,\n",
    "                 l_fac=3.0,\n",
    "                 seed=123412144,\n",
    "                 use_tanh=1,\n",
    "                 var1=3./9,\n",
    "                 var2=3./9)\n",
    "]\n",
    "\n",
    "nn_version_param = [\n",
    "    NNParam(),\n",
    "    NNParam(),\n",
    "    NNParam(train_data_count=9, \n",
    "            test_data_count=1, \n",
    "            epochs=1000,\n",
    "            features=['sdf','vel'])\n",
    "]"
   ]
  },
  {
   "cell_type": "code",
   "execution_count": 53,
   "metadata": {
    "collapsed": false
   },
   "outputs": [],
   "source": [
    "import os\n",
    "from subprocess import Popen, PIPE\n",
    "\n",
    "import datetime\n",
    "\n",
    "manta_loc = \"2D_SPH/\"\n",
    "\n",
    "data_version = 2\n",
    "data_param = data_version_param[data_version]\n",
    "\n",
    "nn_param = nn_version_param[data_param.nn_version]\n",
    "\n",
    "data_loc = \"2D_data/\"\n",
    "src = \"lowres\"\n",
    "ref = \"highres\"\n",
    "\n",
    "# count of training/validation setups\n",
    "#data_count = nn_param.train_data_count + nn_param.test_data_count\n",
    "\n",
    "verbose = False\n",
    "\n",
    "def createFolder(p):\n",
    "    if not os.path.exists(p):\n",
    "        os.makedirs(p)\n",
    "    \n",
    "def create_curr_date_folder(path):\n",
    "    now = datetime.datetime.now()\n",
    "    path += \"%04d%02d%02d\"%(now.year,now.month,now.day)\n",
    "    createFolder(path)\n",
    "    return path + \"/\"\n",
    "\n",
    "createFolder(data_loc)\n",
    "createFolder(data_loc+src)\n",
    "createFolder(data_loc+ref)\n",
    "createFolder(data_loc+\"patches\")\n",
    "createFolder(data_loc+\"patches/\"+src)\n",
    "createFolder(data_loc+\"patches/\"+ref)\n",
    "createFolder(data_loc+\"result\")\n",
    "createFolder(data_loc+\"screenshots\")\n",
    "\n",
    "src_prefix = \"%s%s/%s_v%02d\" % (data_loc, src, data_param.prefix, data_version)\n",
    "ref_prefix = \"%s%s/ref_%s_v%02d\" % (data_loc, ref, data_param.prefix, data_version)\n",
    "\n",
    "def remove_data(path_prefix):\n",
    "    command = [\"rm\", path_prefix+\"*\"]\n",
    "    print(\" \".join(command) + \"\\n\")\n",
    "    proc = Popen(command, stdin=None, stdout=PIPE, stderr=PIPE)\n",
    "    if verbose:\n",
    "        for line in proc.stdout:\n",
    "            print(line.decode('utf-8'))\n",
    "    for line in proc.stderr:\n",
    "        print(line.decode('utf-8'))\n",
    "\n",
    "def run_manta(scene, param={},run=True):\n",
    "    command = [manta_loc+\"build/manta\", manta_loc+scene]\n",
    "\n",
    "    for k, v in param.items():\n",
    "        command += [k, str(v)]\n",
    "        \n",
    "    print(\" \".join(command) + \"\\n\")\n",
    "    \n",
    "    if not run: return\n",
    "\n",
    "    proc = Popen(command, stdin=None, stdout=PIPE, stderr=PIPE)\n",
    "\n",
    "    if verbose:\n",
    "        for line in proc.stdout:\n",
    "            print(line.decode('utf-8'))\n",
    "    for line in proc.stderr:\n",
    "        print(line.decode('utf-8'))"
   ]
  },
  {
   "cell_type": "markdown",
   "metadata": {},
   "source": [
    "Compute 2D down-scale factor:\n",
    "$$lowres=\\frac{res}{\\sqrt(factor)}$$"
   ]
  },
  {
   "cell_type": "code",
   "execution_count": 51,
   "metadata": {
    "collapsed": false
   },
   "outputs": [
    {
     "name": "stdout",
     "output_type": "stream",
     "text": [
      "2D factor: 3.000000\n",
      "low resolution: 50\n",
      "big patch size. 15\n"
     ]
    }
   ],
   "source": [
    "import math\n",
    "\n",
    "#remove_data(src_prefix)\n",
    "\n",
    "low_res = data_param.res\n",
    "high_patch_size = data_param.patch_size\n",
    "factor_2D = 1.\n",
    "if not data_param.upres:\n",
    "    factor_2D = math.sqrt(data_param.factor)\n",
    "    low_res = int(low_res/factor_2D)\n",
    "    high_patch_size = int(high_patch_size*factor_2D)\n",
    "    \n",
    "print(\"2D factor: %f\" % factor_2D)\n",
    "print(\"low resolution: %d\" % low_res)\n",
    "print(\"big patch size. %d\" % high_patch_size)"
   ]
  },
  {
   "cell_type": "markdown",
   "metadata": {},
   "source": [
    "### Generate High-res Data"
   ]
  },
  {
   "cell_type": "code",
   "execution_count": 52,
   "metadata": {
    "collapsed": false
   },
   "outputs": [
    {
     "name": "stdout",
     "output_type": "stream",
     "text": [
      "var0: 3, var1: 3, var2: 3\n",
      "2D_SPH/build/manta 2D_SPH/scenes/2D_sph.py t_end 1.6666666666666667 c0 0.494799,0.117561,0.235628,0.121357 res 150 out 2D_data/highres/ref_sph_2D_v02_d000_%03d sres 2 c_cnt 1 gui 0 fps 30\n",
      "\n",
      "QThread: Destroyed while thread is still running\n",
      "\n",
      "2D_SPH/build/manta 2D_SPH/scenes/2D_sph.py t_end 1.6666666666666667 c1 0.408424,0.188316,0.289150,0.235498 sres 2 c3 0.387485,0.126930,0.208639,0.167533 c4 0.499663,0.072849,0.262631,0.087050 c0 0.646937,0.079092,0.167751,0.106881 fps 30 gui 0 c2 0.698192,0.163711,0.081849,0.172705 res 150 out 2D_data/highres/ref_sph_2D_v02_d001_%03d c_cnt 5\n",
      "\n"
     ]
    },
    {
     "ename": "KeyboardInterrupt",
     "evalue": "",
     "output_type": "error",
     "traceback": [
      "\u001b[0;31m---------------------------------------------------------------------------\u001b[0m",
      "\u001b[0;31mKeyboardInterrupt\u001b[0m                         Traceback (most recent call last)",
      "\u001b[0;32m<ipython-input-52-f722130decce>\u001b[0m in \u001b[0;36m<module>\u001b[0;34m()\u001b[0m\n\u001b[1;32m     77\u001b[0m \u001b[0mvar0\u001b[0m \u001b[0;34m=\u001b[0m \u001b[0mnn_param\u001b[0m\u001b[0;34m.\u001b[0m\u001b[0mtrain_data_count\u001b[0m \u001b[0;34m-\u001b[0m \u001b[0mvar1\u001b[0m \u001b[0;34m-\u001b[0m \u001b[0mvar2\u001b[0m\u001b[0;34m\u001b[0m\u001b[0m\n\u001b[1;32m     78\u001b[0m \u001b[0;34m\u001b[0m\u001b[0m\n\u001b[0;32m---> 79\u001b[0;31m \u001b[0mcall_dataset_gen\u001b[0m\u001b[0;34m(\u001b[0m\u001b[0mvar0\u001b[0m\u001b[0;34m,\u001b[0m\u001b[0mvar1\u001b[0m\u001b[0;34m,\u001b[0m\u001b[0mvar2\u001b[0m\u001b[0;34m)\u001b[0m\u001b[0;34m\u001b[0m\u001b[0m\n\u001b[0m\u001b[1;32m     80\u001b[0m \u001b[0;34m\u001b[0m\u001b[0m\n\u001b[1;32m     81\u001b[0m \u001b[0mvar1\u001b[0m \u001b[0;34m=\u001b[0m \u001b[0mint\u001b[0m\u001b[0;34m(\u001b[0m\u001b[0mnn_param\u001b[0m\u001b[0;34m.\u001b[0m\u001b[0mtest_data_count\u001b[0m \u001b[0;34m*\u001b[0m \u001b[0mdata_param\u001b[0m\u001b[0;34m.\u001b[0m\u001b[0mvar1\u001b[0m\u001b[0;34m)\u001b[0m\u001b[0;34m\u001b[0m\u001b[0m\n",
      "\u001b[0;32m<ipython-input-52-f722130decce>\u001b[0m in \u001b[0;36mcall_dataset_gen\u001b[0;34m(var0, var1, var2)\u001b[0m\n\u001b[1;32m     39\u001b[0m             \u001b[0mpy\u001b[0m \u001b[0;34m=\u001b[0m \u001b[0mrandom\u001b[0m\u001b[0;34m.\u001b[0m\u001b[0muniform\u001b[0m\u001b[0;34m(\u001b[0m\u001b[0;36m0\u001b[0m\u001b[0;34m,\u001b[0m \u001b[0mdata_param\u001b[0m\u001b[0;34m.\u001b[0m\u001b[0mmax_h\u001b[0m\u001b[0;34m)\u001b[0m \u001b[0;34m+\u001b[0m \u001b[0mscy\u001b[0m\u001b[0;34m/\u001b[0m\u001b[0;36m2\u001b[0m\u001b[0;34m\u001b[0m\u001b[0m\n\u001b[1;32m     40\u001b[0m             \u001b[0mcubes\u001b[0m\u001b[0;34m[\u001b[0m\u001b[0;34m'c%d'\u001b[0m\u001b[0;34m%\u001b[0m\u001b[0mc\u001b[0m\u001b[0;34m]\u001b[0m \u001b[0;34m=\u001b[0m \u001b[0;34m\"%f,%f,%f,%f\"\u001b[0m\u001b[0;34m%\u001b[0m\u001b[0;34m(\u001b[0m\u001b[0mpx\u001b[0m\u001b[0;34m,\u001b[0m\u001b[0mpy\u001b[0m\u001b[0;34m,\u001b[0m\u001b[0mscx\u001b[0m\u001b[0;34m,\u001b[0m\u001b[0mscy\u001b[0m\u001b[0;34m)\u001b[0m\u001b[0;34m\u001b[0m\u001b[0m\n\u001b[0;32m---> 41\u001b[0;31m         \u001b[0mrun_manta\u001b[0m\u001b[0;34m(\u001b[0m\u001b[0;34m\"scenes/2D_sph.py\"\u001b[0m\u001b[0;34m,\u001b[0m \u001b[0mdict\u001b[0m\u001b[0;34m(\u001b[0m\u001b[0mparam\u001b[0m\u001b[0;34m,\u001b[0m \u001b[0;34m**\u001b[0m\u001b[0mcubes\u001b[0m\u001b[0;34m)\u001b[0m\u001b[0;34m)\u001b[0m\u001b[0;34m\u001b[0m\u001b[0m\n\u001b[0m\u001b[1;32m     42\u001b[0m \u001b[0;34m\u001b[0m\u001b[0m\n\u001b[1;32m     43\u001b[0m     \u001b[0;32mfor\u001b[0m \u001b[0mi\u001b[0m \u001b[0;32min\u001b[0m \u001b[0mrange\u001b[0m\u001b[0;34m(\u001b[0m\u001b[0mvar0\u001b[0m\u001b[0;34m,\u001b[0m \u001b[0mvar0\u001b[0m\u001b[0;34m+\u001b[0m\u001b[0mvar1\u001b[0m\u001b[0;34m)\u001b[0m\u001b[0;34m:\u001b[0m\u001b[0;34m\u001b[0m\u001b[0m\n",
      "\u001b[0;32m<ipython-input-50-1ca120c8d6b9>\u001b[0m in \u001b[0;36mrun_manta\u001b[0;34m(scene, param)\u001b[0m\n\u001b[1;32m     65\u001b[0m         \u001b[0;32mfor\u001b[0m \u001b[0mline\u001b[0m \u001b[0;32min\u001b[0m \u001b[0mproc\u001b[0m\u001b[0;34m.\u001b[0m\u001b[0mstdout\u001b[0m\u001b[0;34m:\u001b[0m\u001b[0;34m\u001b[0m\u001b[0m\n\u001b[1;32m     66\u001b[0m             \u001b[0mprint\u001b[0m\u001b[0;34m(\u001b[0m\u001b[0mline\u001b[0m\u001b[0;34m.\u001b[0m\u001b[0mdecode\u001b[0m\u001b[0;34m(\u001b[0m\u001b[0;34m'utf-8'\u001b[0m\u001b[0;34m)\u001b[0m\u001b[0;34m)\u001b[0m\u001b[0;34m\u001b[0m\u001b[0m\n\u001b[0;32m---> 67\u001b[0;31m     \u001b[0;32mfor\u001b[0m \u001b[0mline\u001b[0m \u001b[0;32min\u001b[0m \u001b[0mproc\u001b[0m\u001b[0;34m.\u001b[0m\u001b[0mstderr\u001b[0m\u001b[0;34m:\u001b[0m\u001b[0;34m\u001b[0m\u001b[0m\n\u001b[0m\u001b[1;32m     68\u001b[0m         \u001b[0mprint\u001b[0m\u001b[0;34m(\u001b[0m\u001b[0mline\u001b[0m\u001b[0;34m.\u001b[0m\u001b[0mdecode\u001b[0m\u001b[0;34m(\u001b[0m\u001b[0;34m'utf-8'\u001b[0m\u001b[0;34m)\u001b[0m\u001b[0;34m)\u001b[0m\u001b[0;34m\u001b[0m\u001b[0m\n",
      "\u001b[0;31mKeyboardInterrupt\u001b[0m: "
     ]
    }
   ],
   "source": [
    "import random\n",
    "\n",
    "#remove_data(ref_prefix)\n",
    "\n",
    "run = False\n",
    "\n",
    "param = {}\n",
    "\n",
    "#disable gui\n",
    "param['gui'] = 0\n",
    "\n",
    "# resolution of domain\n",
    "param['res'] = data_param.res\n",
    "param['sres'] = data_param.sub_res\n",
    "\n",
    "# output file format\n",
    "param['out'] = ref_prefix\n",
    "\n",
    "# write only every 30th frame -> 30 frames are one timestep\n",
    "param['fps'] = data_param.fps\n",
    "\n",
    "# simulation time (how many frames)\n",
    "param['t_end'] = float(data_param.frame_count) / data_param.fps\n",
    "\n",
    "# run random training setups\n",
    "random.seed(data_param.seed)\n",
    "\n",
    "def call_dataset_gen(var0,var1,var2):\n",
    "    print(\"var0: %d, var1: %d, var2: %d\" % (var0, var1, var2))\n",
    "\n",
    "    for i in range(var0):\n",
    "        param['out'] = (ref_prefix + \"_d%03d\")%i + \"_%03d\"\n",
    "\n",
    "        # generate different cubes with dataformat \"pos_x,pos_y,scale_x,scale_y\"\n",
    "        param['c_cnt'] = random.randint(1,data_param.max_cnt)\n",
    "        cubes = {}\n",
    "        for c in range(param['c_cnt']):    \n",
    "            scx = random.uniform(data_param.min_scale, data_param.max_scale)\n",
    "            scy = random.uniform(data_param.min_scale, data_param.max_scale)\n",
    "            px = random.uniform(data_param.min_pos+scx/2, data_param.max_pos-scx/2)\n",
    "            py = random.uniform(0, data_param.max_h) + scy/2\n",
    "            cubes['c%d'%c] = \"%f,%f,%f,%f\"%(px,py,scx,scy)\n",
    "        run_manta(\"scenes/2D_sph.py\", dict(param, **cubes), run)\n",
    "\n",
    "    for i in range(var0, var0+var1):\n",
    "        param['out'] = (ref_prefix + \"_d%03d\")%i + \"_%03d\"\n",
    "\n",
    "        # generate different cubes with dataformat \"pos_x,pos_y,scale_x,scale_y\"\n",
    "        param['c_cnt'] = random.randint(2,data_param.max_cnt)\n",
    "        cubes = {}\n",
    "\n",
    "        scy = data_param.max_h\n",
    "        cubes['c0'] = \"%f,%f,%f,%f\"%(0, scy/2, 1, scy)\n",
    "        for c in range(1,param['c_cnt']):    \n",
    "            scx = random.uniform(data_param.min_scale, data_param.max_scale)*0.5\n",
    "            scy = random.uniform(data_param.min_scale, data_param.max_scale)*0.5\n",
    "            px = random.uniform(data_param.min_pos+scx/2, data_param.max_pos-scx/2)\n",
    "            py = random.uniform(data_param.min_pos+scy/2, data_param.max_pos*0.5-scy/2)\n",
    "            cubes['c%d'%c] = \"%f,%f,%f,%f\"%(px,py,scx,scy)\n",
    "        run_manta(\"scenes/2D_sph.py\", dict(param, **cubes))\n",
    "\n",
    "    param['circ'] = data_param.circ_vel\n",
    "    for i in range(var0+var1, var0+var1+var2):\n",
    "        param['out'] = (ref_prefix + \"_d%03d\")%i + \"_%03d\"\n",
    "\n",
    "        # generate different cubes with dataformat \"pos_x,pos_y,scale_x,scale_y\"\n",
    "        param['c_cnt'] = random.randint(2,data_param.max_cnt)\n",
    "        cubes = {}\n",
    "        for c in range(param['c_cnt']):    \n",
    "            scx = random.uniform(data_param.min_scale, data_param.max_scale)*0.5\n",
    "            scy = random.uniform(data_param.min_scale, data_param.max_scale)*0.5\n",
    "            px = random.uniform(data_param.min_pos+scx/2, data_param.max_pos-scx/2)\n",
    "            py = random.uniform(data_param.min_pos+scy/2, data_param.max_pos-scy/2)\n",
    "            cubes['c%d'%c] = \"%f,%f,%f,%f\"%(px,py,scx,scy)\n",
    "        run_manta(\"scenes/2D_sph.py\", dict(param, **cubes))\n",
    "    \n",
    "var1 = int(nn_param.train_data_count * data_param.var1)\n",
    "var2 = int(nn_param.train_data_count * data_param.var2)\n",
    "var0 = nn_param.train_data_count - var1 - var2\n",
    "\n",
    "call_dataset_gen(var0,var1,var2)\n",
    "\n",
    "var1 = int(nn_param.test_data_count * data_param.var1)\n",
    "var2 = int(nn_param.test_data_count * data_param.var2)\n",
    "var0 = nn_param.test_data_count - var1 - var2\n",
    "\n",
    "call_dataset_gen(var0,var1,var2)"
   ]
  },
  {
   "cell_type": "markdown",
   "metadata": {},
   "source": [
    "### Generate Low-res Data"
   ]
  },
  {
   "cell_type": "code",
   "execution_count": 126,
   "metadata": {
    "collapsed": false
   },
   "outputs": [
    {
     "name": "stdout",
     "output_type": "stream",
     "text": [
      "2D_SPH/build/manta 2D_SPH/scenes/down_scale.py in 2D_data/highres/ref_sph_2D_v02_d000_%03d sres 2 out 2D_data/lowres/sph_2D_v02_d000_%03d factor 9 gui 0 res 150 t 50 upres 0\n",
      "\n",
      "2D_SPH/build/manta 2D_SPH/scenes/down_scale.py in 2D_data/highres/ref_sph_2D_v02_d001_%03d sres 2 out 2D_data/lowres/sph_2D_v02_d001_%03d factor 9 gui 0 res 150 t 50 upres 0\n",
      "\n",
      "2D_SPH/build/manta 2D_SPH/scenes/down_scale.py in 2D_data/highres/ref_sph_2D_v02_d002_%03d sres 2 out 2D_data/lowres/sph_2D_v02_d002_%03d factor 9 gui 0 res 150 t 50 upres 0\n",
      "\n",
      "2D_SPH/build/manta 2D_SPH/scenes/down_scale.py in 2D_data/highres/ref_sph_2D_v02_d003_%03d sres 2 out 2D_data/lowres/sph_2D_v02_d003_%03d factor 9 gui 0 res 150 t 50 upres 0\n",
      "\n",
      "2D_SPH/build/manta 2D_SPH/scenes/down_scale.py in 2D_data/highres/ref_sph_2D_v02_d004_%03d sres 2 out 2D_data/lowres/sph_2D_v02_d004_%03d factor 9 gui 0 res 150 t 50 upres 0\n",
      "\n",
      "2D_SPH/build/manta 2D_SPH/scenes/down_scale.py in 2D_data/highres/ref_sph_2D_v02_d005_%03d sres 2 out 2D_data/lowres/sph_2D_v02_d005_%03d factor 9 gui 0 res 150 t 50 upres 0\n",
      "\n",
      "2D_SPH/build/manta 2D_SPH/scenes/down_scale.py in 2D_data/highres/ref_sph_2D_v02_d006_%03d sres 2 out 2D_data/lowres/sph_2D_v02_d006_%03d factor 9 gui 0 res 150 t 50 upres 0\n",
      "\n",
      "2D_SPH/build/manta 2D_SPH/scenes/down_scale.py in 2D_data/highres/ref_sph_2D_v02_d007_%03d sres 2 out 2D_data/lowres/sph_2D_v02_d007_%03d factor 9 gui 0 res 150 t 50 upres 0\n",
      "\n",
      "2D_SPH/build/manta 2D_SPH/scenes/down_scale.py in 2D_data/highres/ref_sph_2D_v02_d008_%03d sres 2 out 2D_data/lowres/sph_2D_v02_d008_%03d factor 9 gui 0 res 150 t 50 upres 0\n",
      "\n",
      "2D_SPH/build/manta 2D_SPH/scenes/down_scale.py in 2D_data/highres/ref_sph_2D_v02_d009_%03d sres 2 out 2D_data/lowres/sph_2D_v02_d009_%03d factor 9 gui 0 res 150 t 50 upres 0\n",
      "\n"
     ]
    }
   ],
   "source": [
    "param = {}\n",
    "\n",
    "param['res'] = data_param.res\n",
    "param['sres'] = data_param.sub_res\n",
    "param['upres'] = data_param.upres\n",
    " \n",
    "param['factor'] = data_param.factor\n",
    "param['gui'] = 0\n",
    "param['t'] = data_param.frame_count\n",
    "\n",
    "for i in range(data_count):\n",
    "    param['in'] = (ref_prefix + \"_d%03d\")%i + \"_%03d\"\n",
    "    param['out'] = (src_prefix + \"_d%03d\")%i + \"_%03d\"\n",
    "    run_manta(\"scenes/down_scale.py\", param)"
   ]
  },
  {
   "cell_type": "markdown",
   "metadata": {},
   "source": [
    "### Extract Surface-Patches"
   ]
  },
  {
   "cell_type": "code",
   "execution_count": 127,
   "metadata": {
    "collapsed": false
   },
   "outputs": [
    {
     "name": "stdout",
     "output_type": "stream",
     "text": [
      "2D_SPH/build/manta 2D_SPH/scenes/extract_patches.py stride 2 tanh 1 l_in 2D_data/lowres/sph_2D_v02_d000_%03d t 50 psize 5 surface 0.5 l_fac 3.0 h_fac 1.0 l_out 2D_data/patches/lowres/sph_2D_v02_d000_%03d h_out 2D_data/patches/highres/ref_sph_2D_v02_d000_%03d hpsize 15 h_in 2D_data/highres/ref_sph_2D_v02_d000_%03d\n",
      "\n",
      "2D_SPH/build/manta 2D_SPH/scenes/extract_patches.py stride 2 tanh 1 l_in 2D_data/lowres/sph_2D_v02_d001_%03d t 50 psize 5 surface 0.5 l_fac 3.0 h_fac 1.0 l_out 2D_data/patches/lowres/sph_2D_v02_d001_%03d h_out 2D_data/patches/highres/ref_sph_2D_v02_d001_%03d hpsize 15 h_in 2D_data/highres/ref_sph_2D_v02_d001_%03d\n",
      "\n",
      "2D_SPH/build/manta 2D_SPH/scenes/extract_patches.py stride 2 tanh 1 l_in 2D_data/lowres/sph_2D_v02_d002_%03d t 50 psize 5 surface 0.5 l_fac 3.0 h_fac 1.0 l_out 2D_data/patches/lowres/sph_2D_v02_d002_%03d h_out 2D_data/patches/highres/ref_sph_2D_v02_d002_%03d hpsize 15 h_in 2D_data/highres/ref_sph_2D_v02_d002_%03d\n",
      "\n",
      "2D_SPH/build/manta 2D_SPH/scenes/extract_patches.py stride 2 tanh 1 l_in 2D_data/lowres/sph_2D_v02_d003_%03d t 50 psize 5 surface 0.5 l_fac 3.0 h_fac 1.0 l_out 2D_data/patches/lowres/sph_2D_v02_d003_%03d h_out 2D_data/patches/highres/ref_sph_2D_v02_d003_%03d hpsize 15 h_in 2D_data/highres/ref_sph_2D_v02_d003_%03d\n",
      "\n",
      "2D_SPH/build/manta 2D_SPH/scenes/extract_patches.py stride 2 tanh 1 l_in 2D_data/lowres/sph_2D_v02_d004_%03d t 50 psize 5 surface 0.5 l_fac 3.0 h_fac 1.0 l_out 2D_data/patches/lowres/sph_2D_v02_d004_%03d h_out 2D_data/patches/highres/ref_sph_2D_v02_d004_%03d hpsize 15 h_in 2D_data/highres/ref_sph_2D_v02_d004_%03d\n",
      "\n",
      "2D_SPH/build/manta 2D_SPH/scenes/extract_patches.py stride 2 tanh 1 l_in 2D_data/lowres/sph_2D_v02_d005_%03d t 50 psize 5 surface 0.5 l_fac 3.0 h_fac 1.0 l_out 2D_data/patches/lowres/sph_2D_v02_d005_%03d h_out 2D_data/patches/highres/ref_sph_2D_v02_d005_%03d hpsize 15 h_in 2D_data/highres/ref_sph_2D_v02_d005_%03d\n",
      "\n",
      "2D_SPH/build/manta 2D_SPH/scenes/extract_patches.py stride 2 tanh 1 l_in 2D_data/lowres/sph_2D_v02_d006_%03d t 50 psize 5 surface 0.5 l_fac 3.0 h_fac 1.0 l_out 2D_data/patches/lowres/sph_2D_v02_d006_%03d h_out 2D_data/patches/highres/ref_sph_2D_v02_d006_%03d hpsize 15 h_in 2D_data/highres/ref_sph_2D_v02_d006_%03d\n",
      "\n",
      "2D_SPH/build/manta 2D_SPH/scenes/extract_patches.py stride 2 tanh 1 l_in 2D_data/lowres/sph_2D_v02_d007_%03d t 50 psize 5 surface 0.5 l_fac 3.0 h_fac 1.0 l_out 2D_data/patches/lowres/sph_2D_v02_d007_%03d h_out 2D_data/patches/highres/ref_sph_2D_v02_d007_%03d hpsize 15 h_in 2D_data/highres/ref_sph_2D_v02_d007_%03d\n",
      "\n",
      "2D_SPH/build/manta 2D_SPH/scenes/extract_patches.py stride 2 tanh 1 l_in 2D_data/lowres/sph_2D_v02_d008_%03d t 50 psize 5 surface 0.5 l_fac 3.0 h_fac 1.0 l_out 2D_data/patches/lowres/sph_2D_v02_d008_%03d h_out 2D_data/patches/highres/ref_sph_2D_v02_d008_%03d hpsize 15 h_in 2D_data/highres/ref_sph_2D_v02_d008_%03d\n",
      "\n",
      "2D_SPH/build/manta 2D_SPH/scenes/extract_patches.py stride 2 tanh 1 l_in 2D_data/lowres/sph_2D_v02_d009_%03d t 50 psize 5 surface 0.5 l_fac 3.0 h_fac 1.0 l_out 2D_data/patches/lowres/sph_2D_v02_d009_%03d h_out 2D_data/patches/highres/ref_sph_2D_v02_d009_%03d hpsize 15 h_in 2D_data/highres/ref_sph_2D_v02_d009_%03d\n",
      "\n"
     ]
    }
   ],
   "source": [
    "src_patches_path = \"%spatches/%s/%s_v%02d\" % (data_loc, src, data_param.prefix, data_version)\n",
    "ref_patches_path = \"%spatches/%s/ref_%s_v%02d\" % (data_loc, ref, data_param.prefix, data_version)\n",
    "\n",
    "#remove_data(src_patches_path)\n",
    "#remove_data(ref_patches_path)\n",
    "\n",
    "param = {}\n",
    "\n",
    "param[\"t\"] = data_param.frame_count\n",
    "\n",
    "# patch size\n",
    "param[\"psize\"] = data_param.patch_size\n",
    "param[\"stride\"] = data_param.stride\n",
    "\n",
    "param[\"hpsize\"] = high_patch_size\n",
    "\n",
    "param[\"l_fac\"] = data_param.l_fac\n",
    "param[\"h_fac\"] = data_param.h_fac\n",
    "param[\"tanh\"] = data_param.use_tanh\n",
    "\n",
    "# tolerance of surface\n",
    "param[\"surface\"] = data_param.surf\n",
    "\n",
    "for i in range(data_count):\n",
    "    param[\"h_in\"] = ref_prefix + \"_d%03d\"%i + \"_%03d\"\n",
    "    param[\"l_in\"] = src_prefix + \"_d%03d\"%i + \"_%03d\"\n",
    "    param[\"h_out\"] = ref_patches_path + \"_d%03d\"%i + \"_%03d\"\n",
    "    param[\"l_out\"] = src_patches_path + \"_d%03d\"%i + \"_%03d\"\n",
    "    run_manta(\"scenes/extract_patches.py\", param)"
   ]
  },
  {
   "cell_type": "markdown",
   "metadata": {},
   "source": [
    "### Show Data"
   ]
  },
  {
   "cell_type": "markdown",
   "metadata": {},
   "source": [
    "**Show low-res data-sets:**"
   ]
  },
  {
   "cell_type": "code",
   "execution_count": 134,
   "metadata": {
    "collapsed": false,
    "scrolled": true
   },
   "outputs": [
    {
     "name": "stdout",
     "output_type": "stream",
     "text": [
      "2D_SPH/build/manta 2D_SPH/scenes/show_particles.py scr 2D_data/screenshots/20171106/sph_%03d_sdf.png res 50 in 2D_data/lowres/sph_2D_v02_d004_%03d_ps.uni t 50 sdf 2D_data/lowres/sph_2D_v02_d004_%03d_sdf.uni\n",
      "\n",
      "QThread: Destroyed while thread is still running\n",
      "\n"
     ]
    }
   ],
   "source": [
    "param = {}\n",
    "dataset = 4\n",
    "\n",
    "# show low res\n",
    "param['in'] = src_prefix + \"_d%03d\"%dataset + \"_%03d_ps.uni\"\n",
    "param['sdf'] = src_prefix + \"_d%03d\"%dataset + \"_%03d_sdf.uni\"\n",
    "param['t'] = data_param.frame_count\n",
    "param['res'] = low_res\n",
    "\n",
    "param['scr'] = create_curr_date_folder(data_loc+'screenshots/') + \"sph_%03d_sdf.png\"\n",
    "\n",
    "run_manta(\"scenes/show_particles.py\", param)"
   ]
  },
  {
   "cell_type": "markdown",
   "metadata": {},
   "source": [
    "**Show high-res data-sets:**"
   ]
  },
  {
   "cell_type": "code",
   "execution_count": 138,
   "metadata": {
    "collapsed": false,
    "scrolled": true
   },
   "outputs": [
    {
     "name": "stdout",
     "output_type": "stream",
     "text": [
      "2D_SPH/build/manta 2D_SPH/scenes/show_particles.py scr 2D_data/screenshots/20171106/sph_%03d_sdf_ref.png res 150 in 2D_data/highres/ref_sph_2D_v02_d009_%03d_ps.uni t 50 sdf 2D_data/highres/ref_sph_2D_v02_d009_%03d_sdf.uni\n",
      "\n"
     ]
    }
   ],
   "source": [
    "param = {}\n",
    "dataset = 9\n",
    "\n",
    "# show high res\n",
    "param['in'] = ref_prefix + \"_d%03d\"%dataset + \"_%03d_ps.uni\"\n",
    "param['sdf'] = ref_prefix + \"_d%03d\"%dataset + \"_%03d_sdf.uni\"\n",
    "param['t'] = data_param.frame_count\n",
    "param['res'] = data_param.res\n",
    "\n",
    "param['scr'] = create_curr_date_folder(data_loc+'screenshots/') + \"sph_%03d_sdf_ref.png\"\n",
    "\n",
    "run_manta(\"scenes/show_particles.py\", param)"
   ]
  },
  {
   "cell_type": "markdown",
   "metadata": {},
   "source": [
    "**Show patches:**"
   ]
  },
  {
   "cell_type": "code",
   "execution_count": 139,
   "metadata": {
    "collapsed": false,
    "scrolled": true
   },
   "outputs": [
    {
     "name": "stdout",
     "output_type": "stream",
     "text": [
      "2D_SPH/build/manta 2D_SPH/scenes/show_patches.py t 1 vel 2D_data/patches/lowres/sph_2D_v02_d000_010_vel src 2D_data/patches/lowres/sph_2D_v02_d000_010_sdf ref 2D_data/patches/highres/ref_sph_2D_v02_d000_010_sdf hpsize 15 psize 5\n",
      "\n"
     ]
    }
   ],
   "source": [
    "param = {}\n",
    "dataset = 0\n",
    "timestep = 10\n",
    "\n",
    "# show patches\n",
    "param['src'] = src_patches_path + \"_d%03d\"%dataset + \"_%03d_sdf\"%timestep\n",
    "param['vel'] = src_patches_path + \"_d%03d\"%dataset + \"_%03d_vel\"%timestep\n",
    "param['ref'] = ref_patches_path + \"_d%03d\"%dataset + \"_%03d_sdf\"%timestep\n",
    "param['psize'] = data_param.patch_size\n",
    "param['hpsize'] = high_patch_size\n",
    "param['t'] = 1#data_param.frame_count\n",
    "\n",
    "#param['scr'] = create_curr_date_folder(data_loc+'screenshots/') + \"sph_patch_%03d_sdf_ref.png\"\n",
    "\n",
    "run_manta(\"scenes/show_patches.py\", param)"
   ]
  },
  {
   "cell_type": "markdown",
   "metadata": {},
   "source": [
    "## Train Neural Network"
   ]
  },
  {
   "cell_type": "markdown",
   "metadata": {},
   "source": [
    "### Load Data"
   ]
  },
  {
   "cell_type": "code",
   "execution_count": 5,
   "metadata": {
    "collapsed": false,
    "scrolled": false
   },
   "outputs": [
    {
     "name": "stdout",
     "output_type": "stream",
     "text": [
      "2D_data/patches/lowres/sph_2D_v02_d%03d_020\n",
      "2D_data/patches/highres/ref_sph_2D_v02_d%03d_020\n",
      "(1105, 5, 5, 4)\n",
      "(1105, 15, 15, 1)\n"
     ]
    }
   ],
   "source": [
    "import sys\n",
    "sys.path.append(\"2D_SPH/scenes/tools\")\n",
    "from dataset import Dataset\n",
    "\n",
    "timestep = 20\n",
    "\n",
    "src_patches_path = \"%spatches/%s/%s_v%02d\" % (data_loc, src, data_param.prefix, data_version) + \"_d%03d\" + \"_%03d\" % timestep\n",
    "print(src_patches_path)\n",
    "ref_patches_path = \"%spatches/%s/ref_%s_v%02d\" % (data_loc, ref, data_param.prefix, data_version) + \"_d%03d\" + \"_%03d\" % timestep\n",
    "print(ref_patches_path)\n",
    "\n",
    "train_data = Dataset(src_patches_path, ref_patches_path, 0, nn_param.train_data_count, nn_param.features, ['sdf'])\n",
    "test_data = Dataset(src_patches_path, ref_patches_path, nn_param.train_data_count, nn_param.train_data_count + nn_param.test_data_count, nn_param.features, ['sdf'])\n",
    "\n",
    "print(train_data.data.shape)\n",
    "print(train_data.ref_data.shape)"
   ]
  },
  {
   "cell_type": "markdown",
   "metadata": {},
   "source": [
    "### Setup Neural Network"
   ]
  },
  {
   "cell_type": "code",
   "execution_count": 18,
   "metadata": {
    "collapsed": false
   },
   "outputs": [
    {
     "name": "stdout",
     "output_type": "stream",
     "text": [
      "4\n"
     ]
    }
   ],
   "source": [
    "import keras\n",
    "from keras.models import Sequential\n",
    "from keras.layers import Dense, Activation\n",
    "\n",
    "feature_cnt = train_data.data.shape[3]\n",
    "print(feature_cnt)\n",
    "input_shape = (data_param.patch_size, data_param.patch_size, feature_cnt)\n",
    "output_shape = (high_patch_size, high_patch_size, 1)\n",
    "\n",
    "model = Sequential()\n",
    "\n",
    "model.add(keras.layers.Conv2D(filters=3, kernel_size=3, \n",
    "                              strides=1, input_shape=input_shape, \n",
    "                              activation='tanh', padding='same'))\n",
    "\n",
    "model.add(keras.layers.Conv2D(filters=3, kernel_size=3,\n",
    "                              strides=1, activation='tanh', padding='same'))\n",
    "#model.add( keras.layers.BatchNormalization() )  \n",
    "\n",
    "model.add(Dense(units=64))\n",
    "model.add(Activation('tanh'))\n",
    "model.add( keras.layers.Dropout(0.25) )  \n",
    "\n",
    "model.add(keras.layers.Conv2DTranspose(filters=1, kernel_size=3, \n",
    "                                           strides=int(factor_2D), activation='tanh', padding='same'))\n",
    "\n",
    "model.add(keras.layers.Conv2DTranspose(filters=1, kernel_size=3, \n",
    "                                       strides=1, activation='tanh', padding='same'))\n",
    "\n",
    "model.compile( loss='mse', optimizer=keras.optimizers.adam(lr=nn_param.learning_rate))"
   ]
  },
  {
   "cell_type": "markdown",
   "metadata": {},
   "source": [
    "**Train:**"
   ]
  },
  {
   "cell_type": "code",
   "execution_count": 19,
   "metadata": {
    "collapsed": false
   },
   "outputs": [
    {
     "name": "stdout",
     "output_type": "stream",
     "text": [
      "1/1000 - loss: 0.272984 val_loss: 0.371294\n",
      "100/1000 - loss: 0.071812 val_loss: 0.189130\n",
      "200/1000 - loss: 0.064394 val_loss: 0.141686\n",
      "300/1000 - loss: 0.062964 val_loss: 0.137814\n",
      "400/1000 - loss: 0.058914 val_loss: 0.124703\n",
      "500/1000 - loss: 0.057517 val_loss: 0.115505\n",
      "600/1000 - loss: 0.056415 val_loss: 0.112213\n",
      "700/1000 - loss: 0.054635 val_loss: 0.113498\n",
      "800/1000 - loss: 0.056750 val_loss: 0.111151\n",
      "900/1000 - loss: 0.058163 val_loss: 0.110747\n",
      "1000/1000 - loss: 0.053469 val_loss: 0.111260\n"
     ]
    },
    {
     "data": {
      "image/png": "[encoded data removed]",
      "text/plain": [
       "<matplotlib.figure.Figure at 0x118d516a0>"
      ]
     },
     "metadata": {},
     "output_type": "display_data"
    },
    {
     "name": "stdout",
     "output_type": "stream",
     "text": [
      "save model in 2D_data/model/sph_2D_v022_d022.h5\n"
     ]
    }
   ],
   "source": [
    "import matplotlib.pyplot as plt\n",
    "from keras.models import load_model\n",
    "\n",
    "class NthLogger(keras.callbacks.Callback):\n",
    "    def __init__(self,n=100):\n",
    "        self.act = 0\n",
    "        self.n = n\n",
    "\n",
    "    def on_epoch_end(self,batch,logs={}):\n",
    "        self.act += 1\n",
    "        if self.act % self.n == 0 or self.act == 1:\n",
    "            print('%d/%d - loss: %f val_loss: %f' % (self.act, self.params['epochs'], logs['loss'],logs['val_loss']))\n",
    "            \n",
    "history = model.fit(x=train_data.data,y=train_data.ref_data, validation_split=nn_param.val_split, \n",
    "                    epochs=nn_param.epochs, batch_size=nn_param.batch_size, \n",
    "                    verbose=0, callbacks=[NthLogger()])\n",
    "\n",
    "plt.plot(history.history['loss'])\n",
    "plt.plot(history.history['val_loss'])\n",
    "plt.title('model loss')\n",
    "plt.ylabel('loss')\n",
    "plt.xlabel('epoch')\n",
    "plt.legend(['train', 'validation'], loc='upper left')\n",
    "plt.show()\n",
    "\n",
    "model_path = '%smodel/%s_v02%d_d02%d.h5' % (data_loc, data_param.prefix, data_param.nn_version, data_version)\n",
    "print(\"save model in %s\" % model_path)\n",
    "model.save(model_path)"
   ]
  },
  {
   "cell_type": "markdown",
   "metadata": {},
   "source": [
    "**Validate:**"
   ]
  },
  {
   "cell_type": "code",
   "execution_count": 20,
   "metadata": {
    "collapsed": false
   },
   "outputs": [
    {
     "name": "stdout",
     "output_type": "stream",
     "text": [
      " 32/153 [=====>........................] - ETA: 0s0.142069927277\n"
     ]
    }
   ],
   "source": [
    "loss_and_metrics = model.evaluate(x=test_data.data, y=test_data.ref_data, batch_size=nn_param.batch_size)\n",
    "print(loss_and_metrics)"
   ]
  },
  {
   "cell_type": "markdown",
   "metadata": {},
   "source": [
    "### Run Neural Network"
   ]
  },
  {
   "cell_type": "code",
   "execution_count": 22,
   "metadata": {
    "collapsed": false
   },
   "outputs": [],
   "source": [
    "from uniio import *\n",
    "import keras\n",
    "from keras.models import load_model\n",
    "\n",
    "model = load_model('%smodel/%s_v02%d_d02%d.h5' % (data_loc, data_param.prefix, data_param.nn_version, data_version))\n",
    "\n",
    "test_filename = \"%sresult/%s_v%02d\" % (data_loc, data_param.prefix, data_version) + \"_%03d_sdf\" % timestep\n",
    "ref_filename = \"%sresult/ref_%s_v%02d\" % (data_loc, data_param.prefix, data_version) + \"_%03d_sdf\" % timestep\n",
    "result_filename = \"%sresult/result_%s_v%02d\" % (data_loc, data_param.prefix, data_version) + \"_%03d_sdf\" % timestep\n",
    "\n",
    "#remove_data(test_filename)\n",
    "#remove_data(ref_filename)\n",
    "#remove_data(result_filename)\n",
    "\n",
    "result = model.predict(x=test_data.data, batch_size=nn_param.batch_size)\n",
    "\n",
    "for patch in test_data.data:\n",
    "    writeNumpyBuf(test_filename, patch[:,:,0])\n",
    "    \n",
    "for patch in test_data.ref_data:\n",
    "    writeNumpyBuf(ref_filename, patch)\n",
    "    \n",
    "for patch in result:\n",
    "    writeNumpyBuf(result_filename, patch)\n",
    "    \n",
    "finalizeNumpyBufs()"
   ]
  },
  {
   "cell_type": "markdown",
   "metadata": {},
   "source": [
    "### Show Results"
   ]
  },
  {
   "cell_type": "code",
   "execution_count": 23,
   "metadata": {
    "collapsed": false,
    "scrolled": true
   },
   "outputs": [
    {
     "name": "stdout",
     "output_type": "stream",
     "text": [
      "2D_SPH/build/manta 2D_SPH/scenes/show_patches.py ref2 2D_data/result/ref_sph_2D_v02_020_sdf psize 5 hpsize 15 src 2D_data/result/sph_2D_v02_020_sdf ref 2D_data/result/result_sph_2D_v02_020_sdf t 1 scr 2D_data/screenshots/20171107/sph_patch_%03d_sdf_res.png\n",
      "\n",
      "Version: mantaflow mac 64bit fp1 commit 31ab28da5b9ec846ab7307ff518a3209045bf5de from Nov  6 2017, 13:21:02\n",
      "\n",
      "Loading script '2D_SPH/scenes/show_patches.py'\n",
      "\n",
      "Step: Gui::pause\n",
      "\n",
      "Reading grid src_sdf from uni file tmp.uni\n",
      "\n",
      "Reading grid ref_sdf from uni file tmp.uni\n",
      "\n",
      "Reading grid ref2_sdf from uni file tmp.uni\n",
      "\n",
      "Reading grid src_sdf from uni file tmp.uni\n",
      "\n",
      "Reading grid ref_sdf from uni file tmp.uni\n",
      "\n",
      "Reading grid ref2_sdf from uni file tmp.uni\n",
      "\n",
      "Reading grid src_sdf from uni file tmp.uni\n",
      "\n",
      "Reading grid ref_sdf from uni file tmp.uni\n",
      "\n",
      "Reading grid ref2_sdf from uni file tmp.uni\n",
      "\n",
      "Reading grid src_sdf from uni file tmp.uni\n",
      "\n",
      "Reading grid ref_sdf from uni file tmp.uni\n",
      "\n",
      "Reading grid ref2_sdf from uni file tmp.uni\n",
      "\n",
      "Reading grid src_sdf from uni file tmp.uni\n",
      "\n",
      "Reading grid ref_sdf from uni file tmp.uni\n",
      "\n",
      "Reading grid ref2_sdf from uni file tmp.uni\n",
      "\n",
      "Reading grid src_sdf from uni file tmp.uni\n",
      "\n",
      "Reading grid ref_sdf from uni file tmp.uni\n",
      "\n",
      "Reading grid ref2_sdf from uni file tmp.uni\n",
      "\n",
      "QThread: Destroyed while thread is still running\n",
      "\n"
     ]
    }
   ],
   "source": [
    "param = {}\n",
    "\n",
    "# show patches\n",
    "param['src'] = test_filename\n",
    "param['ref'] = result_filename\n",
    "param['ref2'] = ref_filename\n",
    "param['psize'] = data_param.patch_size\n",
    "param['hpsize'] = high_patch_size\n",
    "param['t'] = 1\n",
    "\n",
    "param['scr'] = create_curr_date_folder(data_loc+'screenshots/') + \"sph_patch_%03d_sdf_res.png\"\n",
    "\n",
    "run_manta(\"scenes/show_patches.py\", param)"
   ]
  },
  {
   "cell_type": "code",
   "execution_count": 26,
   "metadata": {
    "collapsed": false
   },
   "outputs": [
    {
     "name": "stdout",
     "output_type": "stream",
     "text": [
      "(152, 152, 1)\n",
      "2D_data/lowres/sph_2D_v02_d009_020\n"
     ]
    }
   ],
   "source": [
    "import scipy.ndimage.filters as fi\n",
    "\n",
    "def filter2D(kernlen, s, fac):\n",
    "    dirac = np.zeros((kernlen, kernlen))\n",
    "    dirac[kernlen//2, kernlen//2] = 1\n",
    "    return np.clip(fi.gaussian_filter(dirac, s) * fac, a_min=None, a_max=1.0)\n",
    "\n",
    "result = np.ndarray(shape=(data_param.res,data_param.res,1), dtype=float)\n",
    "result.fill(1)\n",
    "\n",
    "ps = data_param.patch_size//2\n",
    "hps = high_patch_size//2\n",
    "\n",
    "import math\n",
    "border = int(math.ceil(hps-(ps*factor_2D)))\n",
    "\n",
    "result=np.pad(result,((border,border),(border,border),(0,0)),mode=\"edge\")\n",
    "print(result.shape)\n",
    "dataset = nn_param.train_data_count\n",
    "\n",
    "input_path = src_prefix + \"_d%03d_%03d\" % (dataset, timestep)\n",
    "ref_input_path = ref_prefix + \"_d%03d_%03d_sdf.uni\" % (dataset, timestep)\n",
    "print(input_path)\n",
    "output_path = \"%s/%s_v%02d_d%03d_%03d_result.uni\" % (data_loc, data_param.prefix, data_version, dataset, timestep)\n",
    "\n",
    "hdr, source = readUni(input_path+\"_sdf.uni\")\n",
    "for f in nn_param.features:\n",
    "    if f != \"sdf\":\n",
    "        _, tmp = readUni(input_path+\"_\"+f+\".uni\")\n",
    "        source = np.append(source, tmp, axis=3)\n",
    "\n",
    "elem_min = np.vectorize(lambda x,y: min(x,y))\n",
    "circular_filter = filter2D(high_patch_size, 3, 500)\n",
    "\n",
    "for x in range (ps, low_res-ps, 1):\n",
    "    for y in range(ps, low_res-ps, 1):\n",
    "        if(abs(source[0,x,y,0]) < data_param.surf):\n",
    "            x0=x-ps\n",
    "            x1=x+ps+1\n",
    "            y0=y-ps\n",
    "            y1=y+ps+1\n",
    "            predict = circular_filter * (model.predict(x=np.array([source[0,x0:x1,y0:y1]]), batch_size=1) - 1) + 1\n",
    "            \n",
    "            if data_param.use_tanh != 0:\n",
    "                predict = np.arctanh(predict)\n",
    "\n",
    "            x0=int(factor_2D*x)-hps+border\n",
    "            x1=int(factor_2D*x)+hps+border+1\n",
    "            y0=int(factor_2D*y)-hps+border\n",
    "            y1=int(factor_2D*y)+hps+border+1\n",
    "                \n",
    "            result[x0:x1,y0:y1,0] = elem_min(result[x0:x1,y0:y1,0], predict[0,:,:,0])\n",
    "\n",
    "hdr['dimX'] = data_param.res\n",
    "hdr['dimY'] = data_param.res\n",
    "\n",
    "#print(result[border:data_param.res+border,border:data_param.res+border,0].shape)\n",
    "writeUni(output_path, hdr, result[border-1:data_param.res+border-1,border-1:data_param.res+border-1,0])"
   ]
  },
  {
   "cell_type": "markdown",
   "metadata": {},
   "source": [
    "**Show source frame:**"
   ]
  },
  {
   "cell_type": "code",
   "execution_count": 28,
   "metadata": {
    "collapsed": false
   },
   "outputs": [
    {
     "name": "stdout",
     "output_type": "stream",
     "text": [
      "2D_SPH/build/manta 2D_SPH/scenes/show_particles.py scr 2D_data/screenshots/20171107/sph_2D_v02_d000_020_src.png t 1 res 50 sdf 2D_data/lowres/sph_2D_v02_d009_020_sdf.uni\n",
      "\n",
      "Version: mantaflow mac 64bit fp1 commit 31ab28da5b9ec846ab7307ff518a3209045bf5de from Nov  6 2017, 13:21:02\n",
      "\n",
      "Loading script '2D_SPH/scenes/show_particles.py'\n",
      "\n",
      "Step: Gui::pause\n",
      "\n",
      "Reading grid sdf from uni file 2D_data/lowres/sph_2D_v02_d009_020_sdf.uni\n",
      "\n",
      "QThread: Destroyed while thread is still running\n",
      "\n"
     ]
    }
   ],
   "source": [
    "param = {}\n",
    "dataset = 0\n",
    "\n",
    "scr_path = \"%s_v%02d_d%03d_%03d\" % (data_param.prefix, data_version, dataset, timestep)\n",
    "\n",
    "# show input\n",
    "param['sdf'] = input_path+\"_sdf.uni\"\n",
    "param['t'] = 1\n",
    "param['res'] = low_res\n",
    "\n",
    "param['scr'] = create_curr_date_folder(data_loc+'screenshots/') + scr_path + \"_src.png\"\n",
    "\n",
    "run_manta(\"scenes/show_particles.py\", param)"
   ]
  },
  {
   "cell_type": "markdown",
   "metadata": {},
   "source": [
    "**Show result frame:**"
   ]
  },
  {
   "cell_type": "code",
   "execution_count": 29,
   "metadata": {
    "collapsed": false
   },
   "outputs": [
    {
     "name": "stdout",
     "output_type": "stream",
     "text": [
      "2D_SPH/build/manta 2D_SPH/scenes/show_particles.py scr 2D_data/screenshots/20171107/sph_2D_v02_d000_020_res.png t 1 res 150 sdf 2D_data//sph_2D_v02_d009_020_result.uni\n",
      "\n",
      "Version: mantaflow mac 64bit fp1 commit 31ab28da5b9ec846ab7307ff518a3209045bf5de from Nov  6 2017, 13:21:02\n",
      "\n",
      "Loading script '2D_SPH/scenes/show_particles.py'\n",
      "\n",
      "Step: Gui::pause\n",
      "\n",
      "Reading grid sdf from uni file 2D_data//sph_2D_v02_d009_020_result.uni\n",
      "\n",
      "Script finished.\n",
      "\n"
     ]
    }
   ],
   "source": [
    "param = {}\n",
    "dataset = 0\n",
    "\n",
    "# show result\n",
    "param['sdf'] = output_path\n",
    "param['t'] = 1\n",
    "param['res'] = data_param.res\n",
    "\n",
    "param['scr'] = create_curr_date_folder(data_loc+'screenshots/') + scr_path + \"_res.png\"\n",
    "\n",
    "run_manta(\"scenes/show_particles.py\", param)"
   ]
  },
  {
   "cell_type": "markdown",
   "metadata": {},
   "source": [
    "**Show reference:**"
   ]
  },
  {
   "cell_type": "code",
   "execution_count": 30,
   "metadata": {
    "collapsed": false
   },
   "outputs": [
    {
     "name": "stdout",
     "output_type": "stream",
     "text": [
      "2D_SPH/build/manta 2D_SPH/scenes/show_particles.py scr 2D_data/screenshots/20171107/sph_2D_v02_d000_020_ref.png t 1 res 150 sdf 2D_data/highres/ref_sph_2D_v02_d009_020_sdf.uni\n",
      "\n",
      "Version: mantaflow mac 64bit fp1 commit 31ab28da5b9ec846ab7307ff518a3209045bf5de from Nov  6 2017, 13:21:02\n",
      "\n",
      "Loading script '2D_SPH/scenes/show_particles.py'\n",
      "\n",
      "Step: Gui::pause\n",
      "\n",
      "Reading grid sdf from uni file 2D_data/highres/ref_sph_2D_v02_d009_020_sdf.uni\n",
      "\n",
      "QThread: Destroyed while thread is still running\n",
      "\n"
     ]
    }
   ],
   "source": [
    "param = {}\n",
    "dataset = 0\n",
    "\n",
    "# show result\n",
    "param['sdf'] = ref_input_path\n",
    "param['t'] = 1\n",
    "param['res'] = data_param.res\n",
    "\n",
    "param['scr'] = create_curr_date_folder(data_loc+'screenshots/') + scr_path + \"_ref.png\"\n",
    "\n",
    "run_manta(\"scenes/show_particles.py\", param)"
   ]
  },
  {
   "cell_type": "code",
   "execution_count": null,
   "metadata": {
    "collapsed": true
   },
   "outputs": [],
   "source": []
  }
 ],
 "metadata": {
  "kernelspec": {
   "display_name": "Python 3",
   "language": "python",
   "name": "python3"
  },
  "language_info": {
   "codemirror_mode": {
    "name": "ipython",
    "version": 3
   },
   "file_extension": ".py",
   "mimetype": "text/x-python",
   "name": "python",
   "nbconvert_exporter": "python",
   "pygments_lexer": "ipython3",
   "version": "3.5.0"
  }
 },
 "nbformat": 4,
 "nbformat_minor": 1
}
